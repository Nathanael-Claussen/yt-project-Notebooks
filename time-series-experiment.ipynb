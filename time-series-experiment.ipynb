{
 "cells": [
  {
   "cell_type": "code",
   "execution_count": 1,
   "metadata": {
    "collapsed": true
   },
   "outputs": [],
   "source": [
    "# The following line instructs IPython to display matplotlib plots in this notebook, rather than in another window.\n",
    "%matplotlib inline\n",
    "\n",
    "import yt\n",
    "\n",
    "# NumPy is a numerical mathematics extension of matplotlib\n",
    "import numpy as np\n",
    "\n",
    "# pylab is a convenience module that bulk imports matplotlib.pyplot (for plotting)\n",
    "# and numpy (for mathematics and working with arrays) in a single name space\n",
    "from matplotlib import pylab"
   ]
  },
  {
   "cell_type": "code",
   "execution_count": 2,
   "metadata": {
    "collapsed": true
   },
   "outputs": [],
   "source": [
    "from yt.analysis_modules.halo_finding.api import HaloFinder"
   ]
  },
  {
   "cell_type": "code",
   "execution_count": 3,
   "metadata": {},
   "outputs": [
    {
     "data": {
      "text/plain": [
       "47"
      ]
     },
     "execution_count": 3,
     "metadata": {},
     "output_type": "execute_result"
    }
   ],
   "source": [
    "ts = yt.load(\"enzo_tiny_cosmology/DD????/DD????\")\n",
    "len(ts)\n",
    "# We see ts as a list of time series objects of length 47."
   ]
  },
  {
   "cell_type": "code",
   "execution_count": 4,
   "metadata": {},
   "outputs": [
    {
     "name": "stderr",
     "output_type": "stream",
     "text": [
      "yt : [INFO     ] 2017-06-30 17:07:04,546 Parameters: current_time              = 5.8164677884124\n",
      "yt : [INFO     ] 2017-06-30 17:07:04,547 Parameters: domain_dimensions         = [32 32 32]\n",
      "yt : [INFO     ] 2017-06-30 17:07:04,550 Parameters: domain_left_edge          = [ 0.  0.  0.]\n",
      "yt : [INFO     ] 2017-06-30 17:07:04,553 Parameters: domain_right_edge         = [ 1.  1.  1.]\n",
      "yt : [INFO     ] 2017-06-30 17:07:04,555 Parameters: cosmological_simulation   = 1\n",
      "yt : [INFO     ] 2017-06-30 17:07:04,555 Parameters: current_redshift          = 12.773900078899\n",
      "yt : [INFO     ] 2017-06-30 17:07:04,557 Parameters: omega_lambda              = 0.727\n",
      "yt : [INFO     ] 2017-06-30 17:07:04,558 Parameters: omega_matter              = 0.273\n",
      "yt : [INFO     ] 2017-06-30 17:07:04,560 Parameters: hubble_constant           = 0.702\n"
     ]
    },
    {
     "data": {
      "text/plain": [
       "YTRegion (DD0001): , center=[  5.10594918e+24   5.10594918e+24   5.10594918e+24] cm, left_edge=[ 0.  0.  0.] cm, right_edge=[  1.02118984e+25   1.02118984e+25   1.02118984e+25] cm"
      ]
     },
     "execution_count": 4,
     "metadata": {},
     "output_type": "execute_result"
    }
   ],
   "source": [
    "ts1 = ts[1]        # Let's examine one of these objects to view its structure.\n",
    "ts1.all_data()     \n",
    "\n",
    "# Observe the INFO.\n",
    "# Notice that current_time is explicitly given as part of the INFO.\n",
    "# Notice that \"quantities\" such as density are not listed explicitly."
   ]
  },
  {
   "cell_type": "code",
   "execution_count": 6,
   "metadata": {
    "scrolled": true
   },
   "outputs": [
    {
     "name": "stderr",
     "output_type": "stream",
     "text": [
      "yt : [INFO     ] 2017-06-30 17:08:29,746 Parameters: current_time              = 0.8165104336731\n",
      "yt : [INFO     ] 2017-06-30 17:08:29,747 Parameters: domain_dimensions         = [32 32 32]\n",
      "yt : [INFO     ] 2017-06-30 17:08:29,749 Parameters: domain_left_edge          = [ 0.  0.  0.]\n",
      "yt : [INFO     ] 2017-06-30 17:08:29,751 Parameters: domain_right_edge         = [ 1.  1.  1.]\n",
      "yt : [INFO     ] 2017-06-30 17:08:29,753 Parameters: cosmological_simulation   = 1\n",
      "yt : [INFO     ] 2017-06-30 17:08:29,754 Parameters: current_redshift          = 49.999999864349\n",
      "yt : [INFO     ] 2017-06-30 17:08:29,755 Parameters: omega_lambda              = 0.727\n",
      "yt : [INFO     ] 2017-06-30 17:08:29,757 Parameters: omega_matter              = 0.273\n",
      "yt : [INFO     ] 2017-06-30 17:08:29,761 Parameters: hubble_constant           = 0.702\n"
     ]
    },
    {
     "name": "stdout",
     "output_type": "stream",
     "text": [
      "DD0000\n"
     ]
    },
    {
     "name": "stderr",
     "output_type": "stream",
     "text": [
      "Parsing Hierarchy : 100%|██████████| 2/2 [00:00<00:00, 11052.18it/s]\n",
      "yt : [INFO     ] 2017-06-30 17:08:29,778 Gathering a field list (this may take a moment.)\n",
      "yt : [INFO     ] 2017-06-30 17:08:30,653 Parameters: current_time              = 5.8164677884124\n",
      "yt : [INFO     ] 2017-06-30 17:08:30,653 Parameters: domain_dimensions         = [32 32 32]\n",
      "yt : [INFO     ] 2017-06-30 17:08:30,655 Parameters: domain_left_edge          = [ 0.  0.  0.]\n",
      "yt : [INFO     ] 2017-06-30 17:08:30,656 Parameters: domain_right_edge         = [ 1.  1.  1.]\n",
      "yt : [INFO     ] 2017-06-30 17:08:30,658 Parameters: cosmological_simulation   = 1\n",
      "yt : [INFO     ] 2017-06-30 17:08:30,659 Parameters: current_redshift          = 12.773900078899\n",
      "yt : [INFO     ] 2017-06-30 17:08:30,660 Parameters: omega_lambda              = 0.727\n",
      "yt : [INFO     ] 2017-06-30 17:08:30,661 Parameters: omega_matter              = 0.273\n",
      "yt : [INFO     ] 2017-06-30 17:08:30,662 Parameters: hubble_constant           = 0.702\n"
     ]
    },
    {
     "name": "stdout",
     "output_type": "stream",
     "text": [
      "DD0001\n"
     ]
    },
    {
     "name": "stderr",
     "output_type": "stream",
     "text": [
      "Parsing Hierarchy : 100%|██████████| 2/2 [00:00<00:00, 9950.90it/s]\n",
      "yt : [INFO     ] 2017-06-30 17:08:30,678 Gathering a field list (this may take a moment.)\n",
      "yt : [INFO     ] 2017-06-30 17:08:31,470 Parameters: current_time              = 10.816460490569\n",
      "yt : [INFO     ] 2017-06-30 17:08:31,471 Parameters: domain_dimensions         = [32 32 32]\n",
      "yt : [INFO     ] 2017-06-30 17:08:31,472 Parameters: domain_left_edge          = [ 0.  0.  0.]\n",
      "yt : [INFO     ] 2017-06-30 17:08:31,474 Parameters: domain_right_edge         = [ 1.  1.  1.]\n",
      "yt : [INFO     ] 2017-06-30 17:08:31,476 Parameters: cosmological_simulation   = 1\n",
      "yt : [INFO     ] 2017-06-30 17:08:31,477 Parameters: current_redshift          = 8.1058161606272\n",
      "yt : [INFO     ] 2017-06-30 17:08:31,479 Parameters: omega_lambda              = 0.727\n",
      "yt : [INFO     ] 2017-06-30 17:08:31,480 Parameters: omega_matter              = 0.273\n",
      "yt : [INFO     ] 2017-06-30 17:08:31,481 Parameters: hubble_constant           = 0.702\n"
     ]
    },
    {
     "name": "stdout",
     "output_type": "stream",
     "text": [
      "DD0002\n"
     ]
    },
    {
     "name": "stderr",
     "output_type": "stream",
     "text": [
      "Parsing Hierarchy : 100%|██████████| 2/2 [00:00<00:00, 9697.81it/s]\n",
      "yt : [INFO     ] 2017-06-30 17:08:31,496 Gathering a field list (this may take a moment.)\n",
      "yt : [INFO     ] 2017-06-30 17:08:32,735 Parameters: current_time              = 15.816500813111\n",
      "yt : [INFO     ] 2017-06-30 17:08:32,736 Parameters: domain_dimensions         = [32 32 32]\n",
      "yt : [INFO     ] 2017-06-30 17:08:32,737 Parameters: domain_left_edge          = [ 0.  0.  0.]\n",
      "yt : [INFO     ] 2017-06-30 17:08:32,739 Parameters: domain_right_edge         = [ 1.  1.  1.]\n",
      "yt : [INFO     ] 2017-06-30 17:08:32,741 Parameters: cosmological_simulation   = 1\n",
      "yt : [INFO     ] 2017-06-30 17:08:32,742 Parameters: current_redshift          = 6.0649424389747\n",
      "yt : [INFO     ] 2017-06-30 17:08:32,743 Parameters: omega_lambda              = 0.727\n",
      "yt : [INFO     ] 2017-06-30 17:08:32,744 Parameters: omega_matter              = 0.273\n",
      "yt : [INFO     ] 2017-06-30 17:08:32,746 Parameters: hubble_constant           = 0.702\n"
     ]
    },
    {
     "name": "stdout",
     "output_type": "stream",
     "text": [
      "DD0003\n"
     ]
    },
    {
     "name": "stderr",
     "output_type": "stream",
     "text": [
      "Parsing Hierarchy : 100%|██████████| 3/3 [00:00<00:00, 10941.66it/s]\n",
      "yt : [INFO     ] 2017-06-30 17:08:32,762 Gathering a field list (this may take a moment.)\n",
      "yt : [INFO     ] 2017-06-30 17:08:33,732 Parameters: current_time              = 20.816480130299\n",
      "yt : [INFO     ] 2017-06-30 17:08:33,732 Parameters: domain_dimensions         = [32 32 32]\n",
      "yt : [INFO     ] 2017-06-30 17:08:33,734 Parameters: domain_left_edge          = [ 0.  0.  0.]\n",
      "yt : [INFO     ] 2017-06-30 17:08:33,736 Parameters: domain_right_edge         = [ 1.  1.  1.]\n",
      "yt : [INFO     ] 2017-06-30 17:08:33,737 Parameters: cosmological_simulation   = 1\n",
      "yt : [INFO     ] 2017-06-30 17:08:33,738 Parameters: current_redshift          = 4.8791075773589\n",
      "yt : [INFO     ] 2017-06-30 17:08:33,740 Parameters: omega_lambda              = 0.727\n",
      "yt : [INFO     ] 2017-06-30 17:08:33,741 Parameters: omega_matter              = 0.273\n",
      "yt : [INFO     ] 2017-06-30 17:08:33,743 Parameters: hubble_constant           = 0.702\n"
     ]
    },
    {
     "name": "stdout",
     "output_type": "stream",
     "text": [
      "DD0004\n"
     ]
    },
    {
     "name": "stderr",
     "output_type": "stream",
     "text": [
      "Parsing Hierarchy : 100%|██████████| 12/12 [00:00<00:00, 14984.12it/s]\n",
      "yt : [INFO     ] 2017-06-30 17:08:33,765 Gathering a field list (this may take a moment.)\n",
      "yt : [INFO     ] 2017-06-30 17:08:34,767 Parameters: current_time              = 25.81648463045\n",
      "yt : [INFO     ] 2017-06-30 17:08:34,771 Parameters: domain_dimensions         = [32 32 32]\n",
      "yt : [INFO     ] 2017-06-30 17:08:34,772 Parameters: domain_left_edge          = [ 0.  0.  0.]\n",
      "yt : [INFO     ] 2017-06-30 17:08:34,779 Parameters: domain_right_edge         = [ 1.  1.  1.]\n",
      "yt : [INFO     ] 2017-06-30 17:08:34,783 Parameters: cosmological_simulation   = 1\n",
      "yt : [INFO     ] 2017-06-30 17:08:34,785 Parameters: current_redshift          = 4.0891639706701\n",
      "yt : [INFO     ] 2017-06-30 17:08:34,786 Parameters: omega_lambda              = 0.727\n",
      "yt : [INFO     ] 2017-06-30 17:08:34,788 Parameters: omega_matter              = 0.273\n",
      "yt : [INFO     ] 2017-06-30 17:08:34,792 Parameters: hubble_constant           = 0.702\n"
     ]
    },
    {
     "name": "stdout",
     "output_type": "stream",
     "text": [
      "DD0005\n"
     ]
    },
    {
     "name": "stderr",
     "output_type": "stream",
     "text": [
      "Parsing Hierarchy : 100%|██████████| 21/21 [00:00<00:00, 136.40it/s]\n",
      "yt : [INFO     ] 2017-06-30 17:08:34,962 Gathering a field list (this may take a moment.)\n",
      "yt : [INFO     ] 2017-06-30 17:08:35,829 Parameters: current_time              = 30.816463619813\n",
      "yt : [INFO     ] 2017-06-30 17:08:35,829 Parameters: domain_dimensions         = [32 32 32]\n",
      "yt : [INFO     ] 2017-06-30 17:08:35,831 Parameters: domain_left_edge          = [ 0.  0.  0.]\n",
      "yt : [INFO     ] 2017-06-30 17:08:35,832 Parameters: domain_right_edge         = [ 1.  1.  1.]\n",
      "yt : [INFO     ] 2017-06-30 17:08:35,834 Parameters: cosmological_simulation   = 1\n",
      "yt : [INFO     ] 2017-06-30 17:08:35,835 Parameters: current_redshift          = 3.518336100973\n",
      "yt : [INFO     ] 2017-06-30 17:08:35,836 Parameters: omega_lambda              = 0.727\n",
      "yt : [INFO     ] 2017-06-30 17:08:35,838 Parameters: omega_matter              = 0.273\n",
      "yt : [INFO     ] 2017-06-30 17:08:35,840 Parameters: hubble_constant           = 0.702\n"
     ]
    },
    {
     "name": "stdout",
     "output_type": "stream",
     "text": [
      "DD0006\n"
     ]
    },
    {
     "name": "stderr",
     "output_type": "stream",
     "text": [
      "Parsing Hierarchy : 100%|██████████| 24/24 [00:00<00:00, 18658.63it/s]\n",
      "yt : [INFO     ] 2017-06-30 17:08:35,862 Gathering a field list (this may take a moment.)\n",
      "yt : [INFO     ] 2017-06-30 17:08:36,776 Parameters: current_time              = 35.81647513841\n",
      "yt : [INFO     ] 2017-06-30 17:08:36,777 Parameters: domain_dimensions         = [32 32 32]\n",
      "yt : [INFO     ] 2017-06-30 17:08:36,778 Parameters: domain_left_edge          = [ 0.  0.  0.]\n",
      "yt : [INFO     ] 2017-06-30 17:08:36,780 Parameters: domain_right_edge         = [ 1.  1.  1.]\n",
      "yt : [INFO     ] 2017-06-30 17:08:36,782 Parameters: cosmological_simulation   = 1\n",
      "yt : [INFO     ] 2017-06-30 17:08:36,782 Parameters: current_redshift          = 3.0828380212029\n",
      "yt : [INFO     ] 2017-06-30 17:08:36,783 Parameters: omega_lambda              = 0.727\n",
      "yt : [INFO     ] 2017-06-30 17:08:36,784 Parameters: omega_matter              = 0.273\n",
      "yt : [INFO     ] 2017-06-30 17:08:36,785 Parameters: hubble_constant           = 0.702\n"
     ]
    },
    {
     "name": "stdout",
     "output_type": "stream",
     "text": [
      "DD0007\n"
     ]
    },
    {
     "name": "stderr",
     "output_type": "stream",
     "text": [
      "Parsing Hierarchy : 100%|██████████| 38/38 [00:00<00:00, 16047.48it/s]\n",
      "yt : [INFO     ] 2017-06-30 17:08:36,801 Gathering a field list (this may take a moment.)\n",
      "yt : [INFO     ] 2017-06-30 17:08:37,965 Parameters: current_time              = 40.816517398103\n",
      "yt : [INFO     ] 2017-06-30 17:08:37,965 Parameters: domain_dimensions         = [32 32 32]\n",
      "yt : [INFO     ] 2017-06-30 17:08:37,966 Parameters: domain_left_edge          = [ 0.  0.  0.]\n",
      "yt : [INFO     ] 2017-06-30 17:08:37,968 Parameters: domain_right_edge         = [ 1.  1.  1.]\n",
      "yt : [INFO     ] 2017-06-30 17:08:37,970 Parameters: cosmological_simulation   = 1\n",
      "yt : [INFO     ] 2017-06-30 17:08:37,971 Parameters: current_redshift          = 2.7374176420472\n",
      "yt : [INFO     ] 2017-06-30 17:08:37,972 Parameters: omega_lambda              = 0.727\n",
      "yt : [INFO     ] 2017-06-30 17:08:37,974 Parameters: omega_matter              = 0.273\n",
      "yt : [INFO     ] 2017-06-30 17:08:37,976 Parameters: hubble_constant           = 0.702\n"
     ]
    },
    {
     "name": "stdout",
     "output_type": "stream",
     "text": [
      "DD0008\n"
     ]
    },
    {
     "name": "stderr",
     "output_type": "stream",
     "text": [
      "Parsing Hierarchy : 100%|██████████| 33/33 [00:00<00:00, 28468.13it/s]\n",
      "yt : [INFO     ] 2017-06-30 17:08:37,989 Gathering a field list (this may take a moment.)\n",
      "yt : [INFO     ] 2017-06-30 17:08:39,069 Parameters: current_time              = 45.816588685258\n",
      "yt : [INFO     ] 2017-06-30 17:08:39,070 Parameters: domain_dimensions         = [32 32 32]\n",
      "yt : [INFO     ] 2017-06-30 17:08:39,071 Parameters: domain_left_edge          = [ 0.  0.  0.]\n",
      "yt : [INFO     ] 2017-06-30 17:08:39,073 Parameters: domain_right_edge         = [ 1.  1.  1.]\n",
      "yt : [INFO     ] 2017-06-30 17:08:39,076 Parameters: cosmological_simulation   = 1\n",
      "yt : [INFO     ] 2017-06-30 17:08:39,078 Parameters: current_redshift          = 2.4553075845777\n",
      "yt : [INFO     ] 2017-06-30 17:08:39,079 Parameters: omega_lambda              = 0.727\n",
      "yt : [INFO     ] 2017-06-30 17:08:39,081 Parameters: omega_matter              = 0.273\n",
      "yt : [INFO     ] 2017-06-30 17:08:39,082 Parameters: hubble_constant           = 0.702\n"
     ]
    },
    {
     "name": "stdout",
     "output_type": "stream",
     "text": [
      "DD0009\n"
     ]
    },
    {
     "name": "stderr",
     "output_type": "stream",
     "text": [
      "Parsing Hierarchy : 100%|██████████| 41/41 [00:00<00:00, 21113.13it/s]\n",
      "yt : [INFO     ] 2017-06-30 17:08:39,102 Gathering a field list (this may take a moment.)\n",
      "yt : [INFO     ] 2017-06-30 17:08:40,285 Parameters: current_time              = 50.816545114263\n",
      "yt : [INFO     ] 2017-06-30 17:08:40,285 Parameters: domain_dimensions         = [32 32 32]\n",
      "yt : [INFO     ] 2017-06-30 17:08:40,286 Parameters: domain_left_edge          = [ 0.  0.  0.]\n",
      "yt : [INFO     ] 2017-06-30 17:08:40,288 Parameters: domain_right_edge         = [ 1.  1.  1.]\n",
      "yt : [INFO     ] 2017-06-30 17:08:40,290 Parameters: cosmological_simulation   = 1\n",
      "yt : [INFO     ] 2017-06-30 17:08:40,291 Parameters: current_redshift          = 2.219583420036\n",
      "yt : [INFO     ] 2017-06-30 17:08:40,292 Parameters: omega_lambda              = 0.727\n",
      "yt : [INFO     ] 2017-06-30 17:08:40,293 Parameters: omega_matter              = 0.273\n",
      "yt : [INFO     ] 2017-06-30 17:08:40,294 Parameters: hubble_constant           = 0.702\n"
     ]
    },
    {
     "name": "stdout",
     "output_type": "stream",
     "text": [
      "DD0010\n"
     ]
    },
    {
     "name": "stderr",
     "output_type": "stream",
     "text": [
      "Parsing Hierarchy : 100%|██████████| 54/54 [00:00<00:00, 36607.79it/s]\n",
      "yt : [INFO     ] 2017-06-30 17:08:40,312 Gathering a field list (this may take a moment.)\n",
      "yt : [INFO     ] 2017-06-30 17:08:41,445 Parameters: current_time              = 55.816502139314\n",
      "yt : [INFO     ] 2017-06-30 17:08:41,446 Parameters: domain_dimensions         = [32 32 32]\n",
      "yt : [INFO     ] 2017-06-30 17:08:41,447 Parameters: domain_left_edge          = [ 0.  0.  0.]\n",
      "yt : [INFO     ] 2017-06-30 17:08:41,448 Parameters: domain_right_edge         = [ 1.  1.  1.]\n",
      "yt : [INFO     ] 2017-06-30 17:08:41,450 Parameters: cosmological_simulation   = 1\n",
      "yt : [INFO     ] 2017-06-30 17:08:41,452 Parameters: current_redshift          = 2.0189625110957\n",
      "yt : [INFO     ] 2017-06-30 17:08:41,453 Parameters: omega_lambda              = 0.727\n",
      "yt : [INFO     ] 2017-06-30 17:08:41,454 Parameters: omega_matter              = 0.273\n",
      "yt : [INFO     ] 2017-06-30 17:08:41,455 Parameters: hubble_constant           = 0.702\n"
     ]
    },
    {
     "name": "stdout",
     "output_type": "stream",
     "text": [
      "DD0011\n"
     ]
    },
    {
     "name": "stderr",
     "output_type": "stream",
     "text": [
      "Parsing Hierarchy : 100%|██████████| 55/55 [00:00<00:00, 23205.58it/s]\n",
      "yt : [INFO     ] 2017-06-30 17:08:41,476 Gathering a field list (this may take a moment.)\n",
      "yt : [INFO     ] 2017-06-30 17:08:42,391 Parameters: current_time              = 60.816631242975\n",
      "yt : [INFO     ] 2017-06-30 17:08:42,391 Parameters: domain_dimensions         = [32 32 32]\n",
      "yt : [INFO     ] 2017-06-30 17:08:42,393 Parameters: domain_left_edge          = [ 0.  0.  0.]\n",
      "yt : [INFO     ] 2017-06-30 17:08:42,394 Parameters: domain_right_edge         = [ 1.  1.  1.]\n",
      "yt : [INFO     ] 2017-06-30 17:08:42,396 Parameters: cosmological_simulation   = 1\n",
      "yt : [INFO     ] 2017-06-30 17:08:42,396 Parameters: current_redshift          = 1.8456156964435\n",
      "yt : [INFO     ] 2017-06-30 17:08:42,398 Parameters: omega_lambda              = 0.727\n",
      "yt : [INFO     ] 2017-06-30 17:08:42,400 Parameters: omega_matter              = 0.273\n",
      "yt : [INFO     ] 2017-06-30 17:08:42,401 Parameters: hubble_constant           = 0.702\n"
     ]
    },
    {
     "name": "stdout",
     "output_type": "stream",
     "text": [
      "DD0012\n"
     ]
    },
    {
     "name": "stderr",
     "output_type": "stream",
     "text": [
      "Parsing Hierarchy : 100%|██████████| 66/66 [00:00<00:00, 26140.14it/s]\n",
      "yt : [INFO     ] 2017-06-30 17:08:42,421 Gathering a field list (this may take a moment.)\n",
      "yt : [INFO     ] 2017-06-30 17:08:43,312 Parameters: current_time              = 65.816603824838\n",
      "yt : [INFO     ] 2017-06-30 17:08:43,314 Parameters: domain_dimensions         = [32 32 32]\n",
      "yt : [INFO     ] 2017-06-30 17:08:43,318 Parameters: domain_left_edge          = [ 0.  0.  0.]\n",
      "yt : [INFO     ] 2017-06-30 17:08:43,319 Parameters: domain_right_edge         = [ 1.  1.  1.]\n",
      "yt : [INFO     ] 2017-06-30 17:08:43,321 Parameters: cosmological_simulation   = 1\n",
      "yt : [INFO     ] 2017-06-30 17:08:43,323 Parameters: current_redshift          = 1.6939415226014\n",
      "yt : [INFO     ] 2017-06-30 17:08:43,324 Parameters: omega_lambda              = 0.727\n",
      "yt : [INFO     ] 2017-06-30 17:08:43,325 Parameters: omega_matter              = 0.273\n",
      "yt : [INFO     ] 2017-06-30 17:08:43,326 Parameters: hubble_constant           = 0.702\n"
     ]
    },
    {
     "name": "stdout",
     "output_type": "stream",
     "text": [
      "DD0013\n"
     ]
    },
    {
     "name": "stderr",
     "output_type": "stream",
     "text": [
      "Parsing Hierarchy : 100%|██████████| 66/66 [00:00<00:00, 16940.46it/s]\n",
      "yt : [INFO     ] 2017-06-30 17:08:43,346 Gathering a field list (this may take a moment.)\n",
      "yt : [INFO     ] 2017-06-30 17:08:44,377 Parameters: current_time              = 70.816576883539\n",
      "yt : [INFO     ] 2017-06-30 17:08:44,378 Parameters: domain_dimensions         = [32 32 32]\n",
      "yt : [INFO     ] 2017-06-30 17:08:44,379 Parameters: domain_left_edge          = [ 0.  0.  0.]\n",
      "yt : [INFO     ] 2017-06-30 17:08:44,380 Parameters: domain_right_edge         = [ 1.  1.  1.]\n",
      "yt : [INFO     ] 2017-06-30 17:08:44,382 Parameters: cosmological_simulation   = 1\n",
      "yt : [INFO     ] 2017-06-30 17:08:44,383 Parameters: current_redshift          = 1.5597942124705\n",
      "yt : [INFO     ] 2017-06-30 17:08:44,386 Parameters: omega_lambda              = 0.727\n",
      "yt : [INFO     ] 2017-06-30 17:08:44,387 Parameters: omega_matter              = 0.273\n",
      "yt : [INFO     ] 2017-06-30 17:08:44,389 Parameters: hubble_constant           = 0.702\n"
     ]
    },
    {
     "name": "stdout",
     "output_type": "stream",
     "text": [
      "DD0014\n"
     ]
    },
    {
     "name": "stderr",
     "output_type": "stream",
     "text": [
      "Parsing Hierarchy : 100%|██████████| 76/76 [00:00<00:00, 14197.72it/s]\n",
      "yt : [INFO     ] 2017-06-30 17:08:44,409 Gathering a field list (this may take a moment.)\n",
      "yt : [INFO     ] 2017-06-30 17:08:45,337 Parameters: current_time              = 75.816550478681\n",
      "yt : [INFO     ] 2017-06-30 17:08:45,338 Parameters: domain_dimensions         = [32 32 32]\n",
      "yt : [INFO     ] 2017-06-30 17:08:45,339 Parameters: domain_left_edge          = [ 0.  0.  0.]\n",
      "yt : [INFO     ] 2017-06-30 17:08:45,341 Parameters: domain_right_edge         = [ 1.  1.  1.]\n",
      "yt : [INFO     ] 2017-06-30 17:08:45,343 Parameters: cosmological_simulation   = 1\n",
      "yt : [INFO     ] 2017-06-30 17:08:45,344 Parameters: current_redshift          = 1.440047878975\n",
      "yt : [INFO     ] 2017-06-30 17:08:45,345 Parameters: omega_lambda              = 0.727\n",
      "yt : [INFO     ] 2017-06-30 17:08:45,346 Parameters: omega_matter              = 0.273\n",
      "yt : [INFO     ] 2017-06-30 17:08:45,347 Parameters: hubble_constant           = 0.702\n"
     ]
    },
    {
     "name": "stdout",
     "output_type": "stream",
     "text": [
      "DD0015\n"
     ]
    },
    {
     "name": "stderr",
     "output_type": "stream",
     "text": [
      "Parsing Hierarchy : 100%|██████████| 86/86 [00:00<00:00, 34932.22it/s]\n",
      "yt : [INFO     ] 2017-06-30 17:08:45,361 Gathering a field list (this may take a moment.)\n",
      "yt : [INFO     ] 2017-06-30 17:08:46,400 Parameters: current_time              = 80.81652466987\n",
      "yt : [INFO     ] 2017-06-30 17:08:46,402 Parameters: domain_dimensions         = [32 32 32]\n",
      "yt : [INFO     ] 2017-06-30 17:08:46,408 Parameters: domain_left_edge          = [ 0.  0.  0.]\n",
      "yt : [INFO     ] 2017-06-30 17:08:46,410 Parameters: domain_right_edge         = [ 1.  1.  1.]\n",
      "yt : [INFO     ] 2017-06-30 17:08:46,412 Parameters: cosmological_simulation   = 1\n",
      "yt : [INFO     ] 2017-06-30 17:08:46,415 Parameters: current_redshift          = 1.3322945752038\n",
      "yt : [INFO     ] 2017-06-30 17:08:46,417 Parameters: omega_lambda              = 0.727\n",
      "yt : [INFO     ] 2017-06-30 17:08:46,420 Parameters: omega_matter              = 0.273\n",
      "yt : [INFO     ] 2017-06-30 17:08:46,424 Parameters: hubble_constant           = 0.702\n"
     ]
    },
    {
     "name": "stdout",
     "output_type": "stream",
     "text": [
      "DD0016\n"
     ]
    },
    {
     "name": "stderr",
     "output_type": "stream",
     "text": [
      "Parsing Hierarchy : 100%|██████████| 94/94 [00:00<00:00, 19566.48it/s]\n",
      "yt : [INFO     ] 2017-06-30 17:08:46,455 Gathering a field list (this may take a moment.)\n",
      "yt : [INFO     ] 2017-06-30 17:08:47,579 Parameters: current_time              = 85.816499397501\n",
      "yt : [INFO     ] 2017-06-30 17:08:47,580 Parameters: domain_dimensions         = [32 32 32]\n",
      "yt : [INFO     ] 2017-06-30 17:08:47,581 Parameters: domain_left_edge          = [ 0.  0.  0.]\n",
      "yt : [INFO     ] 2017-06-30 17:08:47,583 Parameters: domain_right_edge         = [ 1.  1.  1.]\n",
      "yt : [INFO     ] 2017-06-30 17:08:47,584 Parameters: cosmological_simulation   = 1\n",
      "yt : [INFO     ] 2017-06-30 17:08:47,585 Parameters: current_redshift          = 1.2346469933533\n",
      "yt : [INFO     ] 2017-06-30 17:08:47,586 Parameters: omega_lambda              = 0.727\n",
      "yt : [INFO     ] 2017-06-30 17:08:47,588 Parameters: omega_matter              = 0.273\n",
      "yt : [INFO     ] 2017-06-30 17:08:47,589 Parameters: hubble_constant           = 0.702\n"
     ]
    },
    {
     "name": "stdout",
     "output_type": "stream",
     "text": [
      "DD0017\n"
     ]
    },
    {
     "name": "stderr",
     "output_type": "stream",
     "text": [
      "Parsing Hierarchy : 100%|██████████| 99/99 [00:00<00:00, 15998.92it/s]\n",
      "yt : [INFO     ] 2017-06-30 17:08:47,609 Gathering a field list (this may take a moment.)\n",
      "yt : [INFO     ] 2017-06-30 17:08:48,877 Parameters: current_time              = 90.816474721178\n",
      "yt : [INFO     ] 2017-06-30 17:08:48,878 Parameters: domain_dimensions         = [32 32 32]\n",
      "yt : [INFO     ] 2017-06-30 17:08:48,880 Parameters: domain_left_edge          = [ 0.  0.  0.]\n",
      "yt : [INFO     ] 2017-06-30 17:08:48,881 Parameters: domain_right_edge         = [ 1.  1.  1.]\n",
      "yt : [INFO     ] 2017-06-30 17:08:48,883 Parameters: cosmological_simulation   = 1\n",
      "yt : [INFO     ] 2017-06-30 17:08:48,884 Parameters: current_redshift          = 1.1456033320512\n",
      "yt : [INFO     ] 2017-06-30 17:08:48,886 Parameters: omega_lambda              = 0.727\n",
      "yt : [INFO     ] 2017-06-30 17:08:48,887 Parameters: omega_matter              = 0.273\n",
      "yt : [INFO     ] 2017-06-30 17:08:48,890 Parameters: hubble_constant           = 0.702\n"
     ]
    },
    {
     "name": "stdout",
     "output_type": "stream",
     "text": [
      "DD0018\n"
     ]
    },
    {
     "name": "stderr",
     "output_type": "stream",
     "text": [
      "Parsing Hierarchy : 100%|██████████| 111/111 [00:00<00:00, 16479.11it/s]\n",
      "yt : [INFO     ] 2017-06-30 17:08:48,920 Gathering a field list (this may take a moment.)\n",
      "yt : [INFO     ] 2017-06-30 17:08:49,996 Parameters: current_time              = 95.816708609804\n",
      "yt : [INFO     ] 2017-06-30 17:08:49,997 Parameters: domain_dimensions         = [32 32 32]\n",
      "yt : [INFO     ] 2017-06-30 17:08:49,998 Parameters: domain_left_edge          = [ 0.  0.  0.]\n",
      "yt : [INFO     ] 2017-06-30 17:08:50,000 Parameters: domain_right_edge         = [ 1.  1.  1.]\n",
      "yt : [INFO     ] 2017-06-30 17:08:50,002 Parameters: cosmological_simulation   = 1\n",
      "yt : [INFO     ] 2017-06-30 17:08:50,005 Parameters: current_redshift          = 1.0639484710526\n",
      "yt : [INFO     ] 2017-06-30 17:08:50,007 Parameters: omega_lambda              = 0.727\n",
      "yt : [INFO     ] 2017-06-30 17:08:50,009 Parameters: omega_matter              = 0.273\n",
      "yt : [INFO     ] 2017-06-30 17:08:50,010 Parameters: hubble_constant           = 0.702\n"
     ]
    },
    {
     "name": "stdout",
     "output_type": "stream",
     "text": [
      "DD0019\n"
     ]
    },
    {
     "name": "stderr",
     "output_type": "stream",
     "text": [
      "Parsing Hierarchy : 100%|██████████| 104/104 [00:00<00:00, 14844.57it/s]\n",
      "yt : [INFO     ] 2017-06-30 17:08:50,032 Gathering a field list (this may take a moment.)\n",
      "yt : [INFO     ] 2017-06-30 17:08:51,006 Parameters: current_time              = 100.81669692729\n",
      "yt : [INFO     ] 2017-06-30 17:08:51,007 Parameters: domain_dimensions         = [32 32 32]\n",
      "yt : [INFO     ] 2017-06-30 17:08:51,009 Parameters: domain_left_edge          = [ 0.  0.  0.]\n",
      "yt : [INFO     ] 2017-06-30 17:08:51,010 Parameters: domain_right_edge         = [ 1.  1.  1.]\n",
      "yt : [INFO     ] 2017-06-30 17:08:51,012 Parameters: cosmological_simulation   = 1\n",
      "yt : [INFO     ] 2017-06-30 17:08:51,013 Parameters: current_redshift          = 0.98870235716941\n",
      "yt : [INFO     ] 2017-06-30 17:08:51,014 Parameters: omega_lambda              = 0.727\n",
      "yt : [INFO     ] 2017-06-30 17:08:51,016 Parameters: omega_matter              = 0.273\n",
      "yt : [INFO     ] 2017-06-30 17:08:51,018 Parameters: hubble_constant           = 0.702\n"
     ]
    },
    {
     "name": "stdout",
     "output_type": "stream",
     "text": [
      "DD0020\n"
     ]
    },
    {
     "name": "stderr",
     "output_type": "stream",
     "text": [
      "Parsing Hierarchy : 100%|██████████| 105/105 [00:00<00:00, 27806.66it/s]\n",
      "yt : [INFO     ] 2017-06-30 17:08:51,042 Gathering a field list (this may take a moment.)\n",
      "yt : [INFO     ] 2017-06-30 17:08:51,930 Parameters: current_time              = 105.8166854832\n",
      "yt : [INFO     ] 2017-06-30 17:08:51,930 Parameters: domain_dimensions         = [32 32 32]\n",
      "yt : [INFO     ] 2017-06-30 17:08:51,932 Parameters: domain_left_edge          = [ 0.  0.  0.]\n",
      "yt : [INFO     ] 2017-06-30 17:08:51,934 Parameters: domain_right_edge         = [ 1.  1.  1.]\n",
      "yt : [INFO     ] 2017-06-30 17:08:51,936 Parameters: cosmological_simulation   = 1\n",
      "yt : [INFO     ] 2017-06-30 17:08:51,938 Parameters: current_redshift          = 0.91904577492894\n",
      "yt : [INFO     ] 2017-06-30 17:08:51,939 Parameters: omega_lambda              = 0.727\n",
      "yt : [INFO     ] 2017-06-30 17:08:51,941 Parameters: omega_matter              = 0.273\n",
      "yt : [INFO     ] 2017-06-30 17:08:51,942 Parameters: hubble_constant           = 0.702\n"
     ]
    },
    {
     "name": "stdout",
     "output_type": "stream",
     "text": [
      "DD0021\n"
     ]
    },
    {
     "name": "stderr",
     "output_type": "stream",
     "text": [
      "Parsing Hierarchy : 100%|██████████| 123/123 [00:00<00:00, 35801.48it/s]\n",
      "yt : [INFO     ] 2017-06-30 17:08:51,962 Gathering a field list (this may take a moment.)\n",
      "yt : [INFO     ] 2017-06-30 17:08:53,195 Parameters: current_time              = 110.81667451595\n",
      "yt : [INFO     ] 2017-06-30 17:08:53,196 Parameters: domain_dimensions         = [32 32 32]\n",
      "yt : [INFO     ] 2017-06-30 17:08:53,197 Parameters: domain_left_edge          = [ 0.  0.  0.]\n",
      "yt : [INFO     ] 2017-06-30 17:08:53,198 Parameters: domain_right_edge         = [ 1.  1.  1.]\n",
      "yt : [INFO     ] 2017-06-30 17:08:53,200 Parameters: cosmological_simulation   = 1\n",
      "yt : [INFO     ] 2017-06-30 17:08:53,201 Parameters: current_redshift          = 0.85430014131868\n",
      "yt : [INFO     ] 2017-06-30 17:08:53,202 Parameters: omega_lambda              = 0.727\n",
      "yt : [INFO     ] 2017-06-30 17:08:53,203 Parameters: omega_matter              = 0.273\n",
      "yt : [INFO     ] 2017-06-30 17:08:53,205 Parameters: hubble_constant           = 0.702\n"
     ]
    },
    {
     "name": "stdout",
     "output_type": "stream",
     "text": [
      "DD0022\n"
     ]
    },
    {
     "name": "stderr",
     "output_type": "stream",
     "text": [
      "Parsing Hierarchy : 100%|██████████| 114/114 [00:00<00:00, 36008.03it/s]\n",
      "yt : [INFO     ] 2017-06-30 17:08:53,228 Gathering a field list (this may take a moment.)\n",
      "yt : [INFO     ] 2017-06-30 17:08:54,183 Parameters: current_time              = 115.81666378711\n",
      "yt : [INFO     ] 2017-06-30 17:08:54,183 Parameters: domain_dimensions         = [32 32 32]\n",
      "yt : [INFO     ] 2017-06-30 17:08:54,184 Parameters: domain_left_edge          = [ 0.  0.  0.]\n",
      "yt : [INFO     ] 2017-06-30 17:08:54,186 Parameters: domain_right_edge         = [ 1.  1.  1.]\n",
      "yt : [INFO     ] 2017-06-30 17:08:54,187 Parameters: cosmological_simulation   = 1\n",
      "yt : [INFO     ] 2017-06-30 17:08:54,188 Parameters: current_redshift          = 0.79389560752451\n",
      "yt : [INFO     ] 2017-06-30 17:08:54,191 Parameters: omega_lambda              = 0.727\n",
      "yt : [INFO     ] 2017-06-30 17:08:54,192 Parameters: omega_matter              = 0.273\n",
      "yt : [INFO     ] 2017-06-30 17:08:54,195 Parameters: hubble_constant           = 0.702\n"
     ]
    },
    {
     "name": "stdout",
     "output_type": "stream",
     "text": [
      "DD0023\n"
     ]
    },
    {
     "name": "stderr",
     "output_type": "stream",
     "text": [
      "Parsing Hierarchy : 100%|██████████| 120/120 [00:00<00:00, 26245.84it/s]\n",
      "yt : [INFO     ] 2017-06-30 17:08:54,223 Gathering a field list (this may take a moment.)\n",
      "yt : [INFO     ] 2017-06-30 17:08:55,317 Parameters: current_time              = 120.81665329669\n",
      "yt : [INFO     ] 2017-06-30 17:08:55,318 Parameters: domain_dimensions         = [32 32 32]\n",
      "yt : [INFO     ] 2017-06-30 17:08:55,319 Parameters: domain_left_edge          = [ 0.  0.  0.]\n",
      "yt : [INFO     ] 2017-06-30 17:08:55,320 Parameters: domain_right_edge         = [ 1.  1.  1.]\n",
      "yt : [INFO     ] 2017-06-30 17:08:55,322 Parameters: cosmological_simulation   = 1\n",
      "yt : [INFO     ] 2017-06-30 17:08:55,323 Parameters: current_redshift          = 0.73734987821014\n",
      "yt : [INFO     ] 2017-06-30 17:08:55,325 Parameters: omega_lambda              = 0.727\n",
      "yt : [INFO     ] 2017-06-30 17:08:55,326 Parameters: omega_matter              = 0.273\n",
      "yt : [INFO     ] 2017-06-30 17:08:55,329 Parameters: hubble_constant           = 0.702\n"
     ]
    },
    {
     "name": "stdout",
     "output_type": "stream",
     "text": [
      "DD0024\n"
     ]
    },
    {
     "name": "stderr",
     "output_type": "stream",
     "text": [
      "Parsing Hierarchy : 100%|██████████| 132/132 [00:00<00:00, 12449.36it/s]\n",
      "yt : [INFO     ] 2017-06-30 17:08:55,368 Gathering a field list (this may take a moment.)\n",
      "yt : [INFO     ] 2017-06-30 17:08:56,438 Parameters: current_time              = 125.8166431639\n",
      "yt : [INFO     ] 2017-06-30 17:08:56,439 Parameters: domain_dimensions         = [32 32 32]\n",
      "yt : [INFO     ] 2017-06-30 17:08:56,440 Parameters: domain_left_edge          = [ 0.  0.  0.]\n",
      "yt : [INFO     ] 2017-06-30 17:08:56,442 Parameters: domain_right_edge         = [ 1.  1.  1.]\n",
      "yt : [INFO     ] 2017-06-30 17:08:56,444 Parameters: cosmological_simulation   = 1\n",
      "yt : [INFO     ] 2017-06-30 17:08:56,445 Parameters: current_redshift          = 0.68425184475466\n",
      "yt : [INFO     ] 2017-06-30 17:08:56,447 Parameters: omega_lambda              = 0.727\n",
      "yt : [INFO     ] 2017-06-30 17:08:56,447 Parameters: omega_matter              = 0.273\n",
      "yt : [INFO     ] 2017-06-30 17:08:56,449 Parameters: hubble_constant           = 0.702\n"
     ]
    },
    {
     "name": "stdout",
     "output_type": "stream",
     "text": [
      "DD0025\n"
     ]
    },
    {
     "name": "stderr",
     "output_type": "stream",
     "text": [
      "Parsing Hierarchy : 100%|██████████| 132/132 [00:00<00:00, 13001.32it/s]\n",
      "yt : [INFO     ] 2017-06-30 17:08:56,480 Gathering a field list (this may take a moment.)\n",
      "yt : [INFO     ] 2017-06-30 17:08:57,725 Parameters: current_time              = 130.81663338874\n",
      "yt : [INFO     ] 2017-06-30 17:08:57,726 Parameters: domain_dimensions         = [32 32 32]\n",
      "yt : [INFO     ] 2017-06-30 17:08:57,727 Parameters: domain_left_edge          = [ 0.  0.  0.]\n",
      "yt : [INFO     ] 2017-06-30 17:08:57,729 Parameters: domain_right_edge         = [ 1.  1.  1.]\n",
      "yt : [INFO     ] 2017-06-30 17:08:57,731 Parameters: cosmological_simulation   = 1\n",
      "yt : [INFO     ] 2017-06-30 17:08:57,733 Parameters: current_redshift          = 0.63424878883161\n",
      "yt : [INFO     ] 2017-06-30 17:08:57,734 Parameters: omega_lambda              = 0.727\n",
      "yt : [INFO     ] 2017-06-30 17:08:57,739 Parameters: omega_matter              = 0.273\n",
      "yt : [INFO     ] 2017-06-30 17:08:57,741 Parameters: hubble_constant           = 0.702\n"
     ]
    },
    {
     "name": "stdout",
     "output_type": "stream",
     "text": [
      "DD0026\n"
     ]
    },
    {
     "name": "stderr",
     "output_type": "stream",
     "text": [
      "Parsing Hierarchy : 100%|██████████| 139/139 [00:00<00:00, 19193.69it/s]\n",
      "yt : [INFO     ] 2017-06-30 17:08:57,777 Gathering a field list (this may take a moment.)\n",
      "yt : [INFO     ] 2017-06-30 17:08:59,037 Parameters: current_time              = 135.816623852\n",
      "yt : [INFO     ] 2017-06-30 17:08:59,038 Parameters: domain_dimensions         = [32 32 32]\n",
      "yt : [INFO     ] 2017-06-30 17:08:59,040 Parameters: domain_left_edge          = [ 0.  0.  0.]\n",
      "yt : [INFO     ] 2017-06-30 17:08:59,041 Parameters: domain_right_edge         = [ 1.  1.  1.]\n",
      "yt : [INFO     ] 2017-06-30 17:08:59,043 Parameters: cosmological_simulation   = 1\n",
      "yt : [INFO     ] 2017-06-30 17:08:59,045 Parameters: current_redshift          = 0.58703627083642\n",
      "yt : [INFO     ] 2017-06-30 17:08:59,046 Parameters: omega_lambda              = 0.727\n",
      "yt : [INFO     ] 2017-06-30 17:08:59,048 Parameters: omega_matter              = 0.273\n",
      "yt : [INFO     ] 2017-06-30 17:08:59,050 Parameters: hubble_constant           = 0.702\n"
     ]
    },
    {
     "name": "stdout",
     "output_type": "stream",
     "text": [
      "DD0027\n"
     ]
    },
    {
     "name": "stderr",
     "output_type": "stream",
     "text": [
      "Parsing Hierarchy : 100%|██████████| 147/147 [00:00<00:00, 37724.10it/s]\n",
      "yt : [INFO     ] 2017-06-30 17:08:59,075 Gathering a field list (this may take a moment.)\n",
      "yt : [INFO     ] 2017-06-30 17:09:00,051 Parameters: current_time              = 140.81661467288\n",
      "yt : [INFO     ] 2017-06-30 17:09:00,051 Parameters: domain_dimensions         = [32 32 32]\n",
      "yt : [INFO     ] 2017-06-30 17:09:00,052 Parameters: domain_left_edge          = [ 0.  0.  0.]\n",
      "yt : [INFO     ] 2017-06-30 17:09:00,054 Parameters: domain_right_edge         = [ 1.  1.  1.]\n",
      "yt : [INFO     ] 2017-06-30 17:09:00,056 Parameters: cosmological_simulation   = 1\n",
      "yt : [INFO     ] 2017-06-30 17:09:00,058 Parameters: current_redshift          = 0.5423500628512\n",
      "yt : [INFO     ] 2017-06-30 17:09:00,059 Parameters: omega_lambda              = 0.727\n",
      "yt : [INFO     ] 2017-06-30 17:09:00,062 Parameters: omega_matter              = 0.273\n",
      "yt : [INFO     ] 2017-06-30 17:09:00,064 Parameters: hubble_constant           = 0.702\n"
     ]
    },
    {
     "name": "stdout",
     "output_type": "stream",
     "text": [
      "DD0028\n"
     ]
    },
    {
     "name": "stderr",
     "output_type": "stream",
     "text": [
      "Parsing Hierarchy : 100%|██████████| 137/137 [00:00<00:00, 10854.99it/s]\n",
      "yt : [INFO     ] 2017-06-30 17:09:00,101 Gathering a field list (this may take a moment.)\n",
      "yt : [INFO     ] 2017-06-30 17:09:01,072 Parameters: current_time              = 145.8166058514\n",
      "yt : [INFO     ] 2017-06-30 17:09:01,073 Parameters: domain_dimensions         = [32 32 32]\n",
      "yt : [INFO     ] 2017-06-30 17:09:01,074 Parameters: domain_left_edge          = [ 0.  0.  0.]\n",
      "yt : [INFO     ] 2017-06-30 17:09:01,076 Parameters: domain_right_edge         = [ 1.  1.  1.]\n",
      "yt : [INFO     ] 2017-06-30 17:09:01,078 Parameters: cosmological_simulation   = 1\n",
      "yt : [INFO     ] 2017-06-30 17:09:01,079 Parameters: current_redshift          = 0.49995966511044\n",
      "yt : [INFO     ] 2017-06-30 17:09:01,080 Parameters: omega_lambda              = 0.727\n",
      "yt : [INFO     ] 2017-06-30 17:09:01,082 Parameters: omega_matter              = 0.273\n",
      "yt : [INFO     ] 2017-06-30 17:09:01,084 Parameters: hubble_constant           = 0.702\n"
     ]
    },
    {
     "name": "stdout",
     "output_type": "stream",
     "text": [
      "DD0029\n"
     ]
    },
    {
     "name": "stderr",
     "output_type": "stream",
     "text": [
      "Parsing Hierarchy : 100%|██████████| 143/143 [00:00<00:00, 18828.02it/s]\n",
      "yt : [INFO     ] 2017-06-30 17:09:01,254 Gathering a field list (this may take a moment.)\n",
      "yt : [INFO     ] 2017-06-30 17:09:02,312 Parameters: current_time              = 150.81659738754\n",
      "yt : [INFO     ] 2017-06-30 17:09:02,313 Parameters: domain_dimensions         = [32 32 32]\n",
      "yt : [INFO     ] 2017-06-30 17:09:02,314 Parameters: domain_left_edge          = [ 0.  0.  0.]\n",
      "yt : [INFO     ] 2017-06-30 17:09:02,316 Parameters: domain_right_edge         = [ 1.  1.  1.]\n",
      "yt : [INFO     ] 2017-06-30 17:09:02,320 Parameters: cosmological_simulation   = 1\n",
      "yt : [INFO     ] 2017-06-30 17:09:02,322 Parameters: current_redshift          = 0.45966304374501\n",
      "yt : [INFO     ] 2017-06-30 17:09:02,324 Parameters: omega_lambda              = 0.727\n",
      "yt : [INFO     ] 2017-06-30 17:09:02,327 Parameters: omega_matter              = 0.273\n",
      "yt : [INFO     ] 2017-06-30 17:09:02,328 Parameters: hubble_constant           = 0.702\n"
     ]
    },
    {
     "name": "stdout",
     "output_type": "stream",
     "text": [
      "DD0030\n"
     ]
    },
    {
     "name": "stderr",
     "output_type": "stream",
     "text": [
      "Parsing Hierarchy : 100%|██████████| 143/143 [00:00<00:00, 17591.08it/s]\n",
      "yt : [INFO     ] 2017-06-30 17:09:02,354 Gathering a field list (this may take a moment.)\n",
      "yt : [INFO     ] 2017-06-30 17:09:03,221 Parameters: current_time              = 155.8165891621\n",
      "yt : [INFO     ] 2017-06-30 17:09:03,221 Parameters: domain_dimensions         = [32 32 32]\n",
      "yt : [INFO     ] 2017-06-30 17:09:03,223 Parameters: domain_left_edge          = [ 0.  0.  0.]\n",
      "yt : [INFO     ] 2017-06-30 17:09:03,224 Parameters: domain_right_edge         = [ 1.  1.  1.]\n",
      "yt : [INFO     ] 2017-06-30 17:09:03,226 Parameters: cosmological_simulation   = 1\n",
      "yt : [INFO     ] 2017-06-30 17:09:03,227 Parameters: current_redshift          = 0.42128233288187\n",
      "yt : [INFO     ] 2017-06-30 17:09:03,229 Parameters: omega_lambda              = 0.727\n",
      "yt : [INFO     ] 2017-06-30 17:09:03,229 Parameters: omega_matter              = 0.273\n",
      "yt : [INFO     ] 2017-06-30 17:09:03,231 Parameters: hubble_constant           = 0.702\n"
     ]
    },
    {
     "name": "stdout",
     "output_type": "stream",
     "text": [
      "DD0031\n"
     ]
    },
    {
     "name": "stderr",
     "output_type": "stream",
     "text": [
      "Parsing Hierarchy : 100%|██████████| 146/146 [00:00<00:00, 16186.52it/s]\n",
      "yt : [INFO     ] 2017-06-30 17:09:03,267 Gathering a field list (this may take a moment.)\n",
      "yt : [INFO     ] 2017-06-30 17:09:04,243 Parameters: current_time              = 160.81658117507\n",
      "yt : [INFO     ] 2017-06-30 17:09:04,244 Parameters: domain_dimensions         = [32 32 32]\n",
      "yt : [INFO     ] 2017-06-30 17:09:04,246 Parameters: domain_left_edge          = [ 0.  0.  0.]\n",
      "yt : [INFO     ] 2017-06-30 17:09:04,248 Parameters: domain_right_edge         = [ 1.  1.  1.]\n",
      "yt : [INFO     ] 2017-06-30 17:09:04,249 Parameters: cosmological_simulation   = 1\n",
      "yt : [INFO     ] 2017-06-30 17:09:04,250 Parameters: current_redshift          = 0.38466029561352\n",
      "yt : [INFO     ] 2017-06-30 17:09:04,251 Parameters: omega_lambda              = 0.727\n",
      "yt : [INFO     ] 2017-06-30 17:09:04,252 Parameters: omega_matter              = 0.273\n",
      "yt : [INFO     ] 2017-06-30 17:09:04,253 Parameters: hubble_constant           = 0.702\n"
     ]
    },
    {
     "name": "stdout",
     "output_type": "stream",
     "text": [
      "DD0032\n"
     ]
    },
    {
     "name": "stderr",
     "output_type": "stream",
     "text": [
      "Parsing Hierarchy : 100%|██████████| 146/146 [00:00<00:00, 24377.72it/s]\n",
      "yt : [INFO     ] 2017-06-30 17:09:04,284 Gathering a field list (this may take a moment.)\n",
      "yt : [INFO     ] 2017-06-30 17:09:05,168 Parameters: current_time              = 165.81657354568\n",
      "yt : [INFO     ] 2017-06-30 17:09:05,169 Parameters: domain_dimensions         = [32 32 32]\n",
      "yt : [INFO     ] 2017-06-30 17:09:05,170 Parameters: domain_left_edge          = [ 0.  0.  0.]\n",
      "yt : [INFO     ] 2017-06-30 17:09:05,172 Parameters: domain_right_edge         = [ 1.  1.  1.]\n",
      "yt : [INFO     ] 2017-06-30 17:09:05,173 Parameters: cosmological_simulation   = 1\n",
      "yt : [INFO     ] 2017-06-30 17:09:05,175 Parameters: current_redshift          = 0.34965739481945\n",
      "yt : [INFO     ] 2017-06-30 17:09:05,176 Parameters: omega_lambda              = 0.727\n",
      "yt : [INFO     ] 2017-06-30 17:09:05,177 Parameters: omega_matter              = 0.273\n",
      "yt : [INFO     ] 2017-06-30 17:09:05,178 Parameters: hubble_constant           = 0.702\n"
     ]
    },
    {
     "name": "stdout",
     "output_type": "stream",
     "text": [
      "DD0033\n"
     ]
    },
    {
     "name": "stderr",
     "output_type": "stream",
     "text": [
      "Parsing Hierarchy : 100%|██████████| 159/159 [00:00<00:00, 15340.07it/s]\n",
      "yt : [INFO     ] 2017-06-30 17:09:05,209 Gathering a field list (this may take a moment.)\n",
      "yt : [INFO     ] 2017-06-30 17:09:06,188 Parameters: current_time              = 170.8165661547\n",
      "yt : [INFO     ] 2017-06-30 17:09:06,189 Parameters: domain_dimensions         = [32 32 32]\n",
      "yt : [INFO     ] 2017-06-30 17:09:06,195 Parameters: domain_left_edge          = [ 0.  0.  0.]\n",
      "yt : [INFO     ] 2017-06-30 17:09:06,200 Parameters: domain_right_edge         = [ 1.  1.  1.]\n",
      "yt : [INFO     ] 2017-06-30 17:09:06,203 Parameters: cosmological_simulation   = 1\n",
      "yt : [INFO     ] 2017-06-30 17:09:06,204 Parameters: current_redshift          = 0.31614935480033\n",
      "yt : [INFO     ] 2017-06-30 17:09:06,207 Parameters: omega_lambda              = 0.727\n",
      "yt : [INFO     ] 2017-06-30 17:09:06,209 Parameters: omega_matter              = 0.273\n",
      "yt : [INFO     ] 2017-06-30 17:09:06,214 Parameters: hubble_constant           = 0.702\n"
     ]
    },
    {
     "name": "stdout",
     "output_type": "stream",
     "text": [
      "DD0034\n"
     ]
    },
    {
     "name": "stderr",
     "output_type": "stream",
     "text": [
      "Parsing Hierarchy : 100%|██████████| 162/162 [00:00<00:00, 12818.63it/s]\n",
      "yt : [INFO     ] 2017-06-30 17:09:06,258 Gathering a field list (this may take a moment.)\n",
      "yt : [INFO     ] 2017-06-30 17:09:07,403 Parameters: current_time              = 175.81655912135\n",
      "yt : [INFO     ] 2017-06-30 17:09:07,404 Parameters: domain_dimensions         = [32 32 32]\n",
      "yt : [INFO     ] 2017-06-30 17:09:07,405 Parameters: domain_left_edge          = [ 0.  0.  0.]\n",
      "yt : [INFO     ] 2017-06-30 17:09:07,407 Parameters: domain_right_edge         = [ 1.  1.  1.]\n",
      "yt : [INFO     ] 2017-06-30 17:09:07,409 Parameters: cosmological_simulation   = 1\n",
      "yt : [INFO     ] 2017-06-30 17:09:07,410 Parameters: current_redshift          = 0.28402511248147\n",
      "yt : [INFO     ] 2017-06-30 17:09:07,412 Parameters: omega_lambda              = 0.727\n",
      "yt : [INFO     ] 2017-06-30 17:09:07,413 Parameters: omega_matter              = 0.273\n",
      "yt : [INFO     ] 2017-06-30 17:09:07,414 Parameters: hubble_constant           = 0.702\n"
     ]
    },
    {
     "name": "stdout",
     "output_type": "stream",
     "text": [
      "DD0035\n"
     ]
    },
    {
     "name": "stderr",
     "output_type": "stream",
     "text": [
      "Parsing Hierarchy : 100%|██████████| 160/160 [00:00<00:00, 18044.38it/s]\n",
      "yt : [INFO     ] 2017-06-30 17:09:07,446 Gathering a field list (this may take a moment.)\n",
      "yt : [INFO     ] 2017-06-30 17:09:08,409 Parameters: current_time              = 180.81655238603\n",
      "yt : [INFO     ] 2017-06-30 17:09:08,410 Parameters: domain_dimensions         = [32 32 32]\n",
      "yt : [INFO     ] 2017-06-30 17:09:08,412 Parameters: domain_left_edge          = [ 0.  0.  0.]\n",
      "yt : [INFO     ] 2017-06-30 17:09:08,413 Parameters: domain_right_edge         = [ 1.  1.  1.]\n",
      "yt : [INFO     ] 2017-06-30 17:09:08,415 Parameters: cosmological_simulation   = 1\n",
      "yt : [INFO     ] 2017-06-30 17:09:08,417 Parameters: current_redshift          = 0.25318509698044\n",
      "yt : [INFO     ] 2017-06-30 17:09:08,418 Parameters: omega_lambda              = 0.727\n",
      "yt : [INFO     ] 2017-06-30 17:09:08,419 Parameters: omega_matter              = 0.273\n",
      "yt : [INFO     ] 2017-06-30 17:09:08,421 Parameters: hubble_constant           = 0.702\n"
     ]
    },
    {
     "name": "stdout",
     "output_type": "stream",
     "text": [
      "DD0036\n"
     ]
    },
    {
     "name": "stderr",
     "output_type": "stream",
     "text": [
      "Parsing Hierarchy : 100%|██████████| 167/167 [00:00<00:00, 28441.16it/s]\n",
      "yt : [INFO     ] 2017-06-30 17:09:08,453 Gathering a field list (this may take a moment.)\n",
      "yt : [INFO     ] 2017-06-30 17:09:09,441 Parameters: current_time              = 185.81654588912\n",
      "yt : [INFO     ] 2017-06-30 17:09:09,442 Parameters: domain_dimensions         = [32 32 32]\n",
      "yt : [INFO     ] 2017-06-30 17:09:09,443 Parameters: domain_left_edge          = [ 0.  0.  0.]\n",
      "yt : [INFO     ] 2017-06-30 17:09:09,445 Parameters: domain_right_edge         = [ 1.  1.  1.]\n",
      "yt : [INFO     ] 2017-06-30 17:09:09,446 Parameters: cosmological_simulation   = 1\n",
      "yt : [INFO     ] 2017-06-30 17:09:09,448 Parameters: current_redshift          = 0.22353976917733\n",
      "yt : [INFO     ] 2017-06-30 17:09:09,449 Parameters: omega_lambda              = 0.727\n",
      "yt : [INFO     ] 2017-06-30 17:09:09,450 Parameters: omega_matter              = 0.273\n",
      "yt : [INFO     ] 2017-06-30 17:09:09,452 Parameters: hubble_constant           = 0.702\n"
     ]
    },
    {
     "name": "stdout",
     "output_type": "stream",
     "text": [
      "DD0037\n"
     ]
    },
    {
     "name": "stderr",
     "output_type": "stream",
     "text": [
      "Parsing Hierarchy : 100%|██████████| 182/182 [00:00<00:00, 32494.61it/s]\n",
      "yt : [INFO     ] 2017-06-30 17:09:09,484 Gathering a field list (this may take a moment.)\n",
      "yt : [INFO     ] 2017-06-30 17:09:10,713 Parameters: current_time              = 190.81653963064\n",
      "yt : [INFO     ] 2017-06-30 17:09:10,714 Parameters: domain_dimensions         = [32 32 32]\n",
      "yt : [INFO     ] 2017-06-30 17:09:10,715 Parameters: domain_left_edge          = [ 0.  0.  0.]\n",
      "yt : [INFO     ] 2017-06-30 17:09:10,717 Parameters: domain_right_edge         = [ 1.  1.  1.]\n",
      "yt : [INFO     ] 2017-06-30 17:09:10,719 Parameters: cosmological_simulation   = 1\n",
      "yt : [INFO     ] 2017-06-30 17:09:10,720 Parameters: current_redshift          = 0.19500837999463\n",
      "yt : [INFO     ] 2017-06-30 17:09:10,722 Parameters: omega_lambda              = 0.727\n",
      "yt : [INFO     ] 2017-06-30 17:09:10,723 Parameters: omega_matter              = 0.273\n",
      "yt : [INFO     ] 2017-06-30 17:09:10,727 Parameters: hubble_constant           = 0.702\n"
     ]
    },
    {
     "name": "stdout",
     "output_type": "stream",
     "text": [
      "DD0038\n"
     ]
    },
    {
     "name": "stderr",
     "output_type": "stream",
     "text": [
      "Parsing Hierarchy : 100%|██████████| 189/189 [00:00<00:00, 13434.62it/s]\n",
      "yt : [INFO     ] 2017-06-30 17:09:10,768 Gathering a field list (this may take a moment.)\n",
      "yt : [INFO     ] 2017-06-30 17:09:11,721 Parameters: current_time              = 195.81653361057\n",
      "yt : [INFO     ] 2017-06-30 17:09:11,723 Parameters: domain_dimensions         = [32 32 32]\n",
      "yt : [INFO     ] 2017-06-30 17:09:11,724 Parameters: domain_left_edge          = [ 0.  0.  0.]\n",
      "yt : [INFO     ] 2017-06-30 17:09:11,726 Parameters: domain_right_edge         = [ 1.  1.  1.]\n",
      "yt : [INFO     ] 2017-06-30 17:09:11,729 Parameters: cosmological_simulation   = 1\n",
      "yt : [INFO     ] 2017-06-30 17:09:11,730 Parameters: current_redshift          = 0.16751790992585\n",
      "yt : [INFO     ] 2017-06-30 17:09:11,731 Parameters: omega_lambda              = 0.727\n",
      "yt : [INFO     ] 2017-06-30 17:09:11,732 Parameters: omega_matter              = 0.273\n",
      "yt : [INFO     ] 2017-06-30 17:09:11,736 Parameters: hubble_constant           = 0.702\n"
     ]
    },
    {
     "name": "stdout",
     "output_type": "stream",
     "text": [
      "DD0039\n"
     ]
    },
    {
     "name": "stderr",
     "output_type": "stream",
     "text": [
      "Parsing Hierarchy : 100%|██████████| 189/189 [00:00<00:00, 13912.31it/s]\n",
      "yt : [INFO     ] 2017-06-30 17:09:11,780 Gathering a field list (this may take a moment.)\n",
      "yt : [INFO     ] 2017-06-30 17:09:12,801 Parameters: current_time              = 200.81652788852\n",
      "yt : [INFO     ] 2017-06-30 17:09:12,802 Parameters: domain_dimensions         = [32 32 32]\n",
      "yt : [INFO     ] 2017-06-30 17:09:12,803 Parameters: domain_left_edge          = [ 0.  0.  0.]\n",
      "yt : [INFO     ] 2017-06-30 17:09:12,804 Parameters: domain_right_edge         = [ 1.  1.  1.]\n",
      "yt : [INFO     ] 2017-06-30 17:09:12,806 Parameters: cosmological_simulation   = 1\n",
      "yt : [INFO     ] 2017-06-30 17:09:12,809 Parameters: current_redshift          = 0.14100215830627\n",
      "yt : [INFO     ] 2017-06-30 17:09:12,810 Parameters: omega_lambda              = 0.727\n",
      "yt : [INFO     ] 2017-06-30 17:09:12,813 Parameters: omega_matter              = 0.273\n",
      "yt : [INFO     ] 2017-06-30 17:09:12,815 Parameters: hubble_constant           = 0.702\n"
     ]
    },
    {
     "name": "stdout",
     "output_type": "stream",
     "text": [
      "DD0040\n"
     ]
    },
    {
     "name": "stderr",
     "output_type": "stream",
     "text": [
      "Parsing Hierarchy : 100%|██████████| 187/187 [00:00<00:00, 16619.38it/s]\n",
      "yt : [INFO     ] 2017-06-30 17:09:12,854 Gathering a field list (this may take a moment.)\n",
      "yt : [INFO     ] 2017-06-30 17:09:13,805 Parameters: current_time              = 205.81652240489\n",
      "yt : [INFO     ] 2017-06-30 17:09:13,806 Parameters: domain_dimensions         = [32 32 32]\n",
      "yt : [INFO     ] 2017-06-30 17:09:13,807 Parameters: domain_left_edge          = [ 0.  0.  0.]\n",
      "yt : [INFO     ] 2017-06-30 17:09:13,809 Parameters: domain_right_edge         = [ 1.  1.  1.]\n",
      "yt : [INFO     ] 2017-06-30 17:09:13,811 Parameters: cosmological_simulation   = 1\n",
      "yt : [INFO     ] 2017-06-30 17:09:13,812 Parameters: current_redshift          = 0.11540095982813\n",
      "yt : [INFO     ] 2017-06-30 17:09:13,813 Parameters: omega_lambda              = 0.727\n",
      "yt : [INFO     ] 2017-06-30 17:09:13,815 Parameters: omega_matter              = 0.273\n",
      "yt : [INFO     ] 2017-06-30 17:09:13,817 Parameters: hubble_constant           = 0.702\n"
     ]
    },
    {
     "name": "stdout",
     "output_type": "stream",
     "text": [
      "DD0041\n"
     ]
    },
    {
     "name": "stderr",
     "output_type": "stream",
     "text": [
      "Parsing Hierarchy : 100%|██████████| 194/194 [00:00<00:00, 15796.84it/s]\n",
      "yt : [INFO     ] 2017-06-30 17:09:13,853 Gathering a field list (this may take a moment.)\n",
      "yt : [INFO     ] 2017-06-30 17:09:14,760 Parameters: current_time              = 210.81665115093\n",
      "yt : [INFO     ] 2017-06-30 17:09:14,761 Parameters: domain_dimensions         = [32 32 32]\n",
      "yt : [INFO     ] 2017-06-30 17:09:14,762 Parameters: domain_left_edge          = [ 0.  0.  0.]\n",
      "yt : [INFO     ] 2017-06-30 17:09:14,763 Parameters: domain_right_edge         = [ 1.  1.  1.]\n",
      "yt : [INFO     ] 2017-06-30 17:09:14,764 Parameters: cosmological_simulation   = 1\n",
      "yt : [INFO     ] 2017-06-30 17:09:14,766 Parameters: current_redshift          = 0.090658853148022\n",
      "yt : [INFO     ] 2017-06-30 17:09:14,767 Parameters: omega_lambda              = 0.727\n",
      "yt : [INFO     ] 2017-06-30 17:09:14,768 Parameters: omega_matter              = 0.273\n",
      "yt : [INFO     ] 2017-06-30 17:09:14,769 Parameters: hubble_constant           = 0.702\n"
     ]
    },
    {
     "name": "stdout",
     "output_type": "stream",
     "text": [
      "DD0042\n"
     ]
    },
    {
     "name": "stderr",
     "output_type": "stream",
     "text": [
      "Parsing Hierarchy : 100%|██████████| 188/188 [00:00<00:00, 1258.72it/s]\n",
      "yt : [INFO     ] 2017-06-30 17:09:14,938 Gathering a field list (this may take a moment.)\n",
      "yt : [INFO     ] 2017-06-30 17:09:15,842 Parameters: current_time              = 215.81646618654\n",
      "yt : [INFO     ] 2017-06-30 17:09:15,843 Parameters: domain_dimensions         = [32 32 32]\n",
      "yt : [INFO     ] 2017-06-30 17:09:15,844 Parameters: domain_left_edge          = [ 0.  0.  0.]\n",
      "yt : [INFO     ] 2017-06-30 17:09:15,846 Parameters: domain_right_edge         = [ 1.  1.  1.]\n",
      "yt : [INFO     ] 2017-06-30 17:09:15,848 Parameters: cosmological_simulation   = 1\n",
      "yt : [INFO     ] 2017-06-30 17:09:15,849 Parameters: current_redshift          = 0.066727968584154\n",
      "yt : [INFO     ] 2017-06-30 17:09:15,850 Parameters: omega_lambda              = 0.727\n",
      "yt : [INFO     ] 2017-06-30 17:09:15,851 Parameters: omega_matter              = 0.273\n",
      "yt : [INFO     ] 2017-06-30 17:09:15,853 Parameters: hubble_constant           = 0.702\n"
     ]
    },
    {
     "name": "stdout",
     "output_type": "stream",
     "text": [
      "DD0043\n"
     ]
    },
    {
     "name": "stderr",
     "output_type": "stream",
     "text": [
      "Parsing Hierarchy : 100%|██████████| 196/196 [00:00<00:00, 14874.23it/s]\n",
      "yt : [INFO     ] 2017-06-30 17:09:15,887 Gathering a field list (this may take a moment.)\n",
      "yt : [INFO     ] 2017-06-30 17:09:16,828 Parameters: current_time              = 220.81653568555\n",
      "yt : [INFO     ] 2017-06-30 17:09:16,829 Parameters: domain_dimensions         = [32 32 32]\n",
      "yt : [INFO     ] 2017-06-30 17:09:16,830 Parameters: domain_left_edge          = [ 0.  0.  0.]\n",
      "yt : [INFO     ] 2017-06-30 17:09:16,832 Parameters: domain_right_edge         = [ 1.  1.  1.]\n",
      "yt : [INFO     ] 2017-06-30 17:09:16,834 Parameters: cosmological_simulation   = 1\n",
      "yt : [INFO     ] 2017-06-30 17:09:16,835 Parameters: current_redshift          = 0.043559784343193\n",
      "yt : [INFO     ] 2017-06-30 17:09:16,836 Parameters: omega_lambda              = 0.727\n",
      "yt : [INFO     ] 2017-06-30 17:09:16,837 Parameters: omega_matter              = 0.273\n",
      "yt : [INFO     ] 2017-06-30 17:09:16,838 Parameters: hubble_constant           = 0.702\n"
     ]
    },
    {
     "name": "stdout",
     "output_type": "stream",
     "text": [
      "DD0044\n"
     ]
    },
    {
     "name": "stderr",
     "output_type": "stream",
     "text": [
      "Parsing Hierarchy : 100%|██████████| 201/201 [00:00<00:00, 19263.67it/s]\n",
      "yt : [INFO     ] 2017-06-30 17:09:16,878 Gathering a field list (this may take a moment.)\n",
      "yt : [INFO     ] 2017-06-30 17:09:17,874 Parameters: current_time              = 225.81659302522\n",
      "yt : [INFO     ] 2017-06-30 17:09:17,875 Parameters: domain_dimensions         = [32 32 32]\n",
      "yt : [INFO     ] 2017-06-30 17:09:17,876 Parameters: domain_left_edge          = [ 0.  0.  0.]\n",
      "yt : [INFO     ] 2017-06-30 17:09:17,878 Parameters: domain_right_edge         = [ 1.  1.  1.]\n",
      "yt : [INFO     ] 2017-06-30 17:09:17,880 Parameters: cosmological_simulation   = 1\n",
      "yt : [INFO     ] 2017-06-30 17:09:17,881 Parameters: current_redshift          = 0.021113609082468\n",
      "yt : [INFO     ] 2017-06-30 17:09:17,882 Parameters: omega_lambda              = 0.727\n",
      "yt : [INFO     ] 2017-06-30 17:09:17,883 Parameters: omega_matter              = 0.273\n",
      "yt : [INFO     ] 2017-06-30 17:09:17,885 Parameters: hubble_constant           = 0.702\n"
     ]
    },
    {
     "name": "stdout",
     "output_type": "stream",
     "text": [
      "DD0045\n"
     ]
    },
    {
     "name": "stderr",
     "output_type": "stream",
     "text": [
      "Parsing Hierarchy : 100%|██████████| 214/214 [00:00<00:00, 17523.69it/s]\n",
      "yt : [INFO     ] 2017-06-30 17:09:17,921 Gathering a field list (this may take a moment.)\n",
      "yt : [INFO     ] 2017-06-30 17:09:18,854 Parameters: current_time              = 230.66527489234\n",
      "yt : [INFO     ] 2017-06-30 17:09:18,855 Parameters: domain_dimensions         = [32 32 32]\n",
      "yt : [INFO     ] 2017-06-30 17:09:18,856 Parameters: domain_left_edge          = [ 0.  0.  0.]\n",
      "yt : [INFO     ] 2017-06-30 17:09:18,858 Parameters: domain_right_edge         = [ 1.  1.  1.]\n",
      "yt : [INFO     ] 2017-06-30 17:09:18,860 Parameters: cosmological_simulation   = 1\n",
      "yt : [INFO     ] 2017-06-30 17:09:18,861 Parameters: current_redshift          = -2.7810863612032e-09\n",
      "yt : [INFO     ] 2017-06-30 17:09:18,863 Parameters: omega_lambda              = 0.727\n",
      "yt : [INFO     ] 2017-06-30 17:09:18,865 Parameters: omega_matter              = 0.273\n",
      "yt : [INFO     ] 2017-06-30 17:09:18,866 Parameters: hubble_constant           = 0.702\n"
     ]
    },
    {
     "name": "stdout",
     "output_type": "stream",
     "text": [
      "DD0046\n"
     ]
    },
    {
     "name": "stderr",
     "output_type": "stream",
     "text": [
      "Parsing Hierarchy : 100%|██████████| 211/211 [00:00<00:00, 33630.94it/s]\n",
      "yt : [INFO     ] 2017-06-30 17:09:18,898 Gathering a field list (this may take a moment.)\n"
     ]
    }
   ],
   "source": [
    "rho_ex = []     # Create an array for Rho Extrema (Density Extrema)\n",
    "times = []      # Create an array for time\n",
    "\n",
    "for ds in ts:\n",
    "    print(ds)\n",
    "    dd = ds.all_data()\n",
    "    rho_ex.append(dd.quantities.extrema(\"density\"))     #  Get from \"quantities\" the density extrema.\n",
    "    times.append(ds.current_time.in_units(\"Gyr\"))       #  Get from \"current_time\" the time in Gigayears.\n",
    "    \n",
    "rho_ex = np.array(rho_ex)                               #  Convert rho_ex to a numpy array."
   ]
  },
  {
   "cell_type": "code",
   "execution_count": 7,
   "metadata": {},
   "outputs": [
    {
     "data": {
      "image/png": "[encoded data removed]",
      "text/plain": [
       "<matplotlib.figure.Figure at 0x111cf01d0>"
      ]
     },
     "metadata": {},
     "output_type": "display_data"
    }
   ],
   "source": [
    "# Now, let's plot the extrema.\n",
    "\n",
    "pylab.semilogy(times, rho_ex[:,0], '-xk', label='Minimum')     #  Semilogy plots object parameters\n",
    "pylab.semilogy(times, rho_ex[:,1], '-xr', label='Maximum')     #  along the y-axis using a log scale.\n",
    "pylab.ylabel(\"Density ($g/cm^3$)\")\n",
    "pylab.xlabel(\"Time (Gyr)\")\n",
    "pylab.legend()     # Creates a legend with the labels above.\n",
    "pylab.ylim(1e-32, 1e-21)\n",
    "pylab.show()"
   ]
  },
  {
   "cell_type": "code",
   "execution_count": 8,
   "metadata": {
    "collapsed": true
   },
   "outputs": [],
   "source": [
    "\n",
    "# I will now attempt to create the same plot using Dash"
   ]
  },
  {
   "cell_type": "code",
   "execution_count": 9,
   "metadata": {
    "collapsed": true
   },
   "outputs": [],
   "source": [
    "import dash\n",
    "import dash_core_components as dcc\n",
    "import dash_html_components as html\n",
    "\n",
    "import time"
   ]
  },
  {
   "cell_type": "code",
   "execution_count": 10,
   "metadata": {},
   "outputs": [
    {
     "data": {
      "text/plain": [
       "array([[  3.83768106e-26,   7.36738451e-26],\n",
       "       [  4.36495247e-28,   2.44509606e-27],\n",
       "       [  9.47043080e-29,   9.88922840e-28],\n",
       "       [  3.60753019e-29,   6.00686128e-28],\n",
       "       [  1.77058014e-29,   4.93131226e-28],\n",
       "       [  9.96474440e-30,   4.70385337e-28],\n",
       "       [  6.18285462e-30,   4.66723147e-28],\n",
       "       [  4.11133624e-30,   5.30442579e-28],\n",
       "       [  2.87869822e-30,   6.61489253e-28],\n",
       "       [  2.09743279e-30,   9.49652853e-28],\n",
       "       [  1.57790396e-30,   1.50424310e-27],\n",
       "       [  1.21829095e-30,   1.82200985e-27],\n",
       "       [  9.61056421e-31,   3.01869458e-27],\n",
       "       [  7.72143339e-31,   1.24110453e-26],\n",
       "       [  6.29168674e-31,   1.07210404e-26],\n",
       "       [  5.18009919e-31,   1.86269012e-26],\n",
       "       [  4.31573272e-31,   1.66755708e-26],\n",
       "       [  3.63322476e-31,   2.95200972e-26],\n",
       "       [  3.08694818e-31,   2.57001578e-26],\n",
       "       [  2.64389981e-31,   3.96314535e-26],\n",
       "       [  2.27564859e-31,   5.31967914e-26],\n",
       "       [  1.97181992e-31,   3.97670349e-26],\n",
       "       [  1.71888236e-31,   4.12373432e-26],\n",
       "       [  1.50663638e-31,   1.09128901e-25],\n",
       "       [  1.32722588e-31,   2.56752478e-25],\n",
       "       [  1.17453883e-31,   2.13557157e-25],\n",
       "       [  1.04379786e-31,   3.84657462e-25],\n",
       "       [  9.29475116e-32,   4.71757470e-25],\n",
       "       [  8.29698758e-32,   4.09053359e-25],\n",
       "       [  7.43041675e-32,   3.38824096e-25],\n",
       "       [  6.67443828e-32,   3.02721719e-25],\n",
       "       [  6.01216436e-32,   4.65819571e-25],\n",
       "       [  5.42978494e-32,   2.71028647e-25],\n",
       "       [  4.91579227e-32,   2.58028144e-25],\n",
       "       [  4.46058743e-32,   3.81794968e-25],\n",
       "       [  4.05619513e-32,   2.97183985e-25],\n",
       "       [  3.69586148e-32,   4.51787605e-25],\n",
       "       [  3.37386087e-32,   4.15643202e-25],\n",
       "       [  3.08536785e-32,   3.20582803e-25],\n",
       "       [  2.82624196e-32,   4.51945007e-25],\n",
       "       [  2.59292602e-32,   3.23113320e-25],\n",
       "       [  2.38238897e-32,   2.19254100e-25],\n",
       "       [  2.19221785e-32,   3.77495232e-25],\n",
       "       [  2.01996122e-32,   4.56973870e-25],\n",
       "       [  1.86356648e-32,   4.86325526e-25],\n",
       "       [  1.72131314e-32,   4.63541943e-25],\n",
       "       [  1.59543046e-32,   2.56946670e-25]])"
      ]
     },
     "execution_count": 10,
     "metadata": {},
     "output_type": "execute_result"
    }
   ],
   "source": [
    "rho_ex"
   ]
  },
  {
   "cell_type": "code",
   "execution_count": 11,
   "metadata": {},
   "outputs": [
    {
     "data": {
      "text/plain": [
       "[0.04880728081134585 Gyr,\n",
       " 0.34768199519768667 Gyr,\n",
       " 0.6465588224918986 Gyr,\n",
       " 0.9454384963162058 Gyr,\n",
       " 1.24431452351786 Gyr,\n",
       " 1.5431920560425283 Gyr,\n",
       " 1.842068063648295 Gyr,\n",
       " 2.14094601570375 Gyr,\n",
       " 2.439825805322135 Gyr,\n",
       " 2.738707330070202 Gyr,\n",
       " 3.037581989120356 Gyr,\n",
       " 3.336456683799429 Gyr,\n",
       " 3.6353416645553165 Gyr,\n",
       " 3.9342172891498697 Gyr,\n",
       " 4.233092942247631 Gyr,\n",
       " 4.531968627411395 Gyr,\n",
       " 4.830844348204139 Gyr,\n",
       " 5.129720101062946 Gyr,\n",
       " 5.428595889550672 Gyr,\n",
       " 5.727487133875279 Gyr,\n",
       " 6.02636369907382 Gyr,\n",
       " 6.325240278524265 Gyr,\n",
       " 6.624116886478036 Gyr,\n",
       " 6.9229935086828736 Gyr,\n",
       " 7.221870145139373 Gyr,\n",
       " 7.520746802973369 Gyr,\n",
       " 7.819623482184859 Gyr,\n",
       " 8.118500175648013 Gyr,\n",
       " 8.417376890488065 Gyr,\n",
       " 8.716253626706209 Gyr,\n",
       " 9.015130384301251 Gyr,\n",
       " 9.314007156147957 Gyr,\n",
       " 9.612883942245729 Gyr,\n",
       " 9.91176074972159 Gyr,\n",
       " 10.21063757144852 Gyr,\n",
       " 10.509514414552944 Gyr,\n",
       " 10.808391275472248 Gyr,\n",
       " 11.107268150642616 Gyr,\n",
       " 11.406145040065246 Gyr,\n",
       " 11.70502194373894 Gyr,\n",
       " 12.003898865226917 Gyr,\n",
       " 12.302775800966556 Gyr,\n",
       " 12.601660760345485 Gyr,\n",
       " 12.900526967541444 Gyr,\n",
       " 13.199408385402336 Gyr,\n",
       " 13.49828907643317 Gyr,\n",
       " 13.788121230063865 Gyr]"
      ]
     },
     "execution_count": 11,
     "metadata": {},
     "output_type": "execute_result"
    }
   ],
   "source": [
    "times"
   ]
  },
  {
   "cell_type": "code",
   "execution_count": 13,
   "metadata": {},
   "outputs": [],
   "source": [
    "app = dash.Dash()\n",
    "app.layout = html.Div(children = [\n",
    "    \n",
    "    html.Div(children=[\n",
    "        html.H2('Enzo Tiny Cosmology',\n",
    "                style={'display':'inline',\n",
    "                       'float':'left',\n",
    "                       'font-size':'2.65em',\n",
    "                       'margin-left':'7px',\n",
    "                       'font-weight':'bolder',\n",
    "                       'font-family':'Product-Sans',\n",
    "                       'color':\"rgba(117, 117, 117, 0.95)\",\n",
    "                       'margin-top':'20px',\n",
    "                       'margin-bottom':'0'\n",
    "                      }\n",
    "               ),\n",
    "        html.Img(src=\"http://yt-project.org/img/yt_logo.svg\",\n",
    "                style={\n",
    "                    'height': '100px',\n",
    "                    'float': 'right'\n",
    "                },\n",
    "        ),\n",
    "    ]),\n",
    "    \n",
    "    dcc.Graph(\n",
    "        id='graph-1',\n",
    "        \n",
    "        figure={\n",
    "            'data':[{'x':times, 'y':rho_ex[:,0], 'type':'line', 'name':'Max'},\n",
    "                    {'x':times, 'y':rho_ex[:,1], 'type':'line', 'name':'Min'}],\n",
    "        }\n",
    "    )\n",
    "])"
   ]
  },
  {
   "cell_type": "code",
   "execution_count": null,
   "metadata": {},
   "outputs": [
    {
     "name": "stderr",
     "output_type": "stream",
     "text": [
      " * Running on http://127.0.0.1:8050/ (Press CTRL+C to quit)\n",
      "127.0.0.1 - - [30/Jun/2017 17:13:39] \"GET / HTTP/1.1\" 200 -\n",
      "127.0.0.1 - - [30/Jun/2017 17:13:39] \"GET /favicon.ico HTTP/1.1\" 200 -\n"
     ]
    }
   ],
   "source": [
    "if __name__ == '__main__':\n",
    "    app.run_server(debug=False)\n",
    "# App will run on \"http://127.0.0.1:8050\""
   ]
  },
  {
   "cell_type": "code",
   "execution_count": null,
   "metadata": {},
   "outputs": [],
   "source": [
    "dir(dcc.Graph)"
   ]
  },
  {
   "cell_type": "code",
   "execution_count": null,
   "metadata": {
    "collapsed": true
   },
   "outputs": [],
   "source": []
  }
 ],
 "metadata": {
  "kernelspec": {
   "display_name": "Python 3",
   "language": "python",
   "name": "python3"
  },
  "language_info": {
   "codemirror_mode": {
    "name": "ipython",
    "version": 3
   },
   "file_extension": ".py",
   "mimetype": "text/x-python",
   "name": "python",
   "nbconvert_exporter": "python",
   "pygments_lexer": "ipython3",
   "version": "3.6.1"
  }
 },
 "nbformat": 4,
 "nbformat_minor": 2
}
