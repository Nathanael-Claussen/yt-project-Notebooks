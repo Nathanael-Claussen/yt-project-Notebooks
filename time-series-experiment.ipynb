{
 "cells": [
  {
   "cell_type": "code",
   "execution_count": 1,
   "metadata": {
    "collapsed": true
   },
   "outputs": [],
   "source": [
    "# The following line instructs IPython to display matplotlib plots in this notebook, rather than in another window.\n",
    "%matplotlib inline\n",
    "\n",
    "import yt\n",
    "\n",
    "# NumPy is a numerical mathematics extension of matplotlib\n",
    "import numpy as np\n",
    "\n",
    "# pylab is a convenience module that bulk imports matplotlib.pyplot (for plotting)\n",
    "# and numpy (for mathematics and working with arrays) in a single name space\n",
    "from matplotlib import pylab"
   ]
  },
  {
   "cell_type": "code",
   "execution_count": 2,
   "metadata": {
    "collapsed": true
   },
   "outputs": [],
   "source": [
    "from yt.analysis_modules.halo_finding.api import HaloFinder"
   ]
  },
  {
   "cell_type": "code",
   "execution_count": 3,
   "metadata": {},
   "outputs": [
    {
     "data": {
      "text/plain": [
       "47"
      ]
     },
     "execution_count": 3,
     "metadata": {},
     "output_type": "execute_result"
    }
   ],
   "source": [
    "ts = yt.load(\"enzo_tiny_cosmology/DD????/DD????\")\n",
    "len(ts)\n",
    "# We see ts as a list of time series objects of length 47."
   ]
  },
  {
   "cell_type": "code",
   "execution_count": 4,
   "metadata": {},
   "outputs": [
    {
     "name": "stderr",
     "output_type": "stream",
     "text": [
      "yt : [INFO     ] 2017-06-23 11:31:29,674 Parameters: current_time              = 5.8164677884124\n",
      "yt : [INFO     ] 2017-06-23 11:31:29,676 Parameters: domain_dimensions         = [32 32 32]\n",
      "yt : [INFO     ] 2017-06-23 11:31:29,680 Parameters: domain_left_edge          = [ 0.  0.  0.]\n",
      "yt : [INFO     ] 2017-06-23 11:31:29,683 Parameters: domain_right_edge         = [ 1.  1.  1.]\n",
      "yt : [INFO     ] 2017-06-23 11:31:29,687 Parameters: cosmological_simulation   = 1\n",
      "yt : [INFO     ] 2017-06-23 11:31:29,689 Parameters: current_redshift          = 12.773900078899\n",
      "yt : [INFO     ] 2017-06-23 11:31:29,691 Parameters: omega_lambda              = 0.727\n",
      "yt : [INFO     ] 2017-06-23 11:31:29,692 Parameters: omega_matter              = 0.273\n",
      "yt : [INFO     ] 2017-06-23 11:31:29,693 Parameters: hubble_constant           = 0.702\n"
     ]
    },
    {
     "data": {
      "text/plain": [
       "YTRegion (DD0001): , center=[  5.10594918e+24   5.10594918e+24   5.10594918e+24] cm, left_edge=[ 0.  0.  0.] cm, right_edge=[  1.02118984e+25   1.02118984e+25   1.02118984e+25] cm"
      ]
     },
     "execution_count": 4,
     "metadata": {},
     "output_type": "execute_result"
    }
   ],
   "source": [
    "ts1 = ts[1]        # Let's examine one of these objects to view its structure.\n",
    "ts1.all_data()     \n",
    "\n",
    "# Observe the INFO.\n",
    "# Notice that current_time is explicitly given as part of the INFO.\n",
    "# Notice that \"quantities\" such as density are not listed explicitly."
   ]
  },
  {
   "cell_type": "code",
   "execution_count": 5,
   "metadata": {},
   "outputs": [
    {
     "name": "stderr",
     "output_type": "stream",
     "text": [
      "yt : [INFO     ] 2017-06-23 11:45:29,092 Parameters: current_time              = 0.8165104336731\n",
      "yt : [INFO     ] 2017-06-23 11:45:29,095 Parameters: domain_dimensions         = [32 32 32]\n",
      "yt : [INFO     ] 2017-06-23 11:45:29,096 Parameters: domain_left_edge          = [ 0.  0.  0.]\n",
      "yt : [INFO     ] 2017-06-23 11:45:29,098 Parameters: domain_right_edge         = [ 1.  1.  1.]\n",
      "yt : [INFO     ] 2017-06-23 11:45:29,099 Parameters: cosmological_simulation   = 1\n",
      "yt : [INFO     ] 2017-06-23 11:45:29,100 Parameters: current_redshift          = 49.999999864349\n",
      "yt : [INFO     ] 2017-06-23 11:45:29,102 Parameters: omega_lambda              = 0.727\n",
      "yt : [INFO     ] 2017-06-23 11:45:29,103 Parameters: omega_matter              = 0.273\n",
      "yt : [INFO     ] 2017-06-23 11:45:29,107 Parameters: hubble_constant           = 0.702\n"
     ]
    },
    {
     "name": "stdout",
     "output_type": "stream",
     "text": [
      "DD0000\n"
     ]
    },
    {
     "name": "stderr",
     "output_type": "stream",
     "text": [
      "Parsing Hierarchy : 100%|██████████| 2/2 [00:00<00:00, 5919.98it/s]\n",
      "yt : [INFO     ] 2017-06-23 11:45:29,131 Gathering a field list (this may take a moment.)\n",
      "yt : [INFO     ] 2017-06-23 11:45:30,095 Parameters: current_time              = 5.8164677884124\n",
      "yt : [INFO     ] 2017-06-23 11:45:30,095 Parameters: domain_dimensions         = [32 32 32]\n",
      "yt : [INFO     ] 2017-06-23 11:45:30,096 Parameters: domain_left_edge          = [ 0.  0.  0.]\n",
      "yt : [INFO     ] 2017-06-23 11:45:30,098 Parameters: domain_right_edge         = [ 1.  1.  1.]\n",
      "yt : [INFO     ] 2017-06-23 11:45:30,100 Parameters: cosmological_simulation   = 1\n",
      "yt : [INFO     ] 2017-06-23 11:45:30,101 Parameters: current_redshift          = 12.773900078899\n",
      "yt : [INFO     ] 2017-06-23 11:45:30,102 Parameters: omega_lambda              = 0.727\n",
      "yt : [INFO     ] 2017-06-23 11:45:30,103 Parameters: omega_matter              = 0.273\n",
      "yt : [INFO     ] 2017-06-23 11:45:30,105 Parameters: hubble_constant           = 0.702\n"
     ]
    },
    {
     "name": "stdout",
     "output_type": "stream",
     "text": [
      "DD0001\n"
     ]
    },
    {
     "name": "stderr",
     "output_type": "stream",
     "text": [
      "Parsing Hierarchy : 100%|██████████| 2/2 [00:00<00:00, 10740.86it/s]\n",
      "yt : [INFO     ] 2017-06-23 11:45:30,118 Gathering a field list (this may take a moment.)\n",
      "yt : [INFO     ] 2017-06-23 11:45:30,944 Parameters: current_time              = 10.816460490569\n",
      "yt : [INFO     ] 2017-06-23 11:45:30,945 Parameters: domain_dimensions         = [32 32 32]\n",
      "yt : [INFO     ] 2017-06-23 11:45:30,946 Parameters: domain_left_edge          = [ 0.  0.  0.]\n",
      "yt : [INFO     ] 2017-06-23 11:45:30,948 Parameters: domain_right_edge         = [ 1.  1.  1.]\n",
      "yt : [INFO     ] 2017-06-23 11:45:30,949 Parameters: cosmological_simulation   = 1\n",
      "yt : [INFO     ] 2017-06-23 11:45:30,950 Parameters: current_redshift          = 8.1058161606272\n",
      "yt : [INFO     ] 2017-06-23 11:45:30,951 Parameters: omega_lambda              = 0.727\n",
      "yt : [INFO     ] 2017-06-23 11:45:30,953 Parameters: omega_matter              = 0.273\n",
      "yt : [INFO     ] 2017-06-23 11:45:30,954 Parameters: hubble_constant           = 0.702\n"
     ]
    },
    {
     "name": "stdout",
     "output_type": "stream",
     "text": [
      "DD0002\n"
     ]
    },
    {
     "name": "stderr",
     "output_type": "stream",
     "text": [
      "Parsing Hierarchy : 100%|██████████| 2/2 [00:00<00:00, 11983.73it/s]\n",
      "yt : [INFO     ] 2017-06-23 11:45:30,966 Gathering a field list (this may take a moment.)\n",
      "yt : [INFO     ] 2017-06-23 11:45:31,922 Parameters: current_time              = 15.816500813111\n",
      "yt : [INFO     ] 2017-06-23 11:45:31,923 Parameters: domain_dimensions         = [32 32 32]\n",
      "yt : [INFO     ] 2017-06-23 11:45:31,924 Parameters: domain_left_edge          = [ 0.  0.  0.]\n",
      "yt : [INFO     ] 2017-06-23 11:45:31,926 Parameters: domain_right_edge         = [ 1.  1.  1.]\n",
      "yt : [INFO     ] 2017-06-23 11:45:31,928 Parameters: cosmological_simulation   = 1\n",
      "yt : [INFO     ] 2017-06-23 11:45:31,929 Parameters: current_redshift          = 6.0649424389747\n",
      "yt : [INFO     ] 2017-06-23 11:45:31,930 Parameters: omega_lambda              = 0.727\n",
      "yt : [INFO     ] 2017-06-23 11:45:31,931 Parameters: omega_matter              = 0.273\n",
      "yt : [INFO     ] 2017-06-23 11:45:31,932 Parameters: hubble_constant           = 0.702\n"
     ]
    },
    {
     "name": "stdout",
     "output_type": "stream",
     "text": [
      "DD0003\n"
     ]
    },
    {
     "name": "stderr",
     "output_type": "stream",
     "text": [
      "Parsing Hierarchy : 100%|██████████| 3/3 [00:00<00:00, 11366.68it/s]\n",
      "yt : [INFO     ] 2017-06-23 11:45:31,944 Gathering a field list (this may take a moment.)\n",
      "yt : [INFO     ] 2017-06-23 11:45:32,881 Parameters: current_time              = 20.816480130299\n",
      "yt : [INFO     ] 2017-06-23 11:45:32,882 Parameters: domain_dimensions         = [32 32 32]\n",
      "yt : [INFO     ] 2017-06-23 11:45:32,883 Parameters: domain_left_edge          = [ 0.  0.  0.]\n",
      "yt : [INFO     ] 2017-06-23 11:45:32,885 Parameters: domain_right_edge         = [ 1.  1.  1.]\n",
      "yt : [INFO     ] 2017-06-23 11:45:32,887 Parameters: cosmological_simulation   = 1\n",
      "yt : [INFO     ] 2017-06-23 11:45:32,888 Parameters: current_redshift          = 4.8791075773589\n",
      "yt : [INFO     ] 2017-06-23 11:45:32,889 Parameters: omega_lambda              = 0.727\n",
      "yt : [INFO     ] 2017-06-23 11:45:32,890 Parameters: omega_matter              = 0.273\n",
      "yt : [INFO     ] 2017-06-23 11:45:32,891 Parameters: hubble_constant           = 0.702\n"
     ]
    },
    {
     "name": "stdout",
     "output_type": "stream",
     "text": [
      "DD0004\n"
     ]
    },
    {
     "name": "stderr",
     "output_type": "stream",
     "text": [
      "Parsing Hierarchy : 100%|██████████| 12/12 [00:00<00:00, 15601.87it/s]\n",
      "yt : [INFO     ] 2017-06-23 11:45:32,910 Gathering a field list (this may take a moment.)\n",
      "yt : [INFO     ] 2017-06-23 11:45:33,842 Parameters: current_time              = 25.81648463045\n",
      "yt : [INFO     ] 2017-06-23 11:45:33,844 Parameters: domain_dimensions         = [32 32 32]\n",
      "yt : [INFO     ] 2017-06-23 11:45:33,846 Parameters: domain_left_edge          = [ 0.  0.  0.]\n",
      "yt : [INFO     ] 2017-06-23 11:45:33,848 Parameters: domain_right_edge         = [ 1.  1.  1.]\n",
      "yt : [INFO     ] 2017-06-23 11:45:33,849 Parameters: cosmological_simulation   = 1\n",
      "yt : [INFO     ] 2017-06-23 11:45:33,851 Parameters: current_redshift          = 4.0891639706701\n",
      "yt : [INFO     ] 2017-06-23 11:45:33,852 Parameters: omega_lambda              = 0.727\n",
      "yt : [INFO     ] 2017-06-23 11:45:33,854 Parameters: omega_matter              = 0.273\n",
      "yt : [INFO     ] 2017-06-23 11:45:33,857 Parameters: hubble_constant           = 0.702\n"
     ]
    },
    {
     "name": "stdout",
     "output_type": "stream",
     "text": [
      "DD0005\n"
     ]
    },
    {
     "name": "stderr",
     "output_type": "stream",
     "text": [
      "Parsing Hierarchy : 100%|██████████| 21/21 [00:00<00:00, 8212.62it/s]\n",
      "yt : [INFO     ] 2017-06-23 11:45:33,882 Gathering a field list (this may take a moment.)\n",
      "yt : [INFO     ] 2017-06-23 11:45:34,736 Parameters: current_time              = 30.816463619813\n",
      "yt : [INFO     ] 2017-06-23 11:45:34,736 Parameters: domain_dimensions         = [32 32 32]\n",
      "yt : [INFO     ] 2017-06-23 11:45:34,738 Parameters: domain_left_edge          = [ 0.  0.  0.]\n",
      "yt : [INFO     ] 2017-06-23 11:45:34,739 Parameters: domain_right_edge         = [ 1.  1.  1.]\n",
      "yt : [INFO     ] 2017-06-23 11:45:34,741 Parameters: cosmological_simulation   = 1\n",
      "yt : [INFO     ] 2017-06-23 11:45:34,742 Parameters: current_redshift          = 3.518336100973\n",
      "yt : [INFO     ] 2017-06-23 11:45:34,743 Parameters: omega_lambda              = 0.727\n",
      "yt : [INFO     ] 2017-06-23 11:45:34,744 Parameters: omega_matter              = 0.273\n",
      "yt : [INFO     ] 2017-06-23 11:45:34,746 Parameters: hubble_constant           = 0.702\n"
     ]
    },
    {
     "name": "stdout",
     "output_type": "stream",
     "text": [
      "DD0006\n"
     ]
    },
    {
     "name": "stderr",
     "output_type": "stream",
     "text": [
      "Parsing Hierarchy : 100%|██████████| 24/24 [00:00<00:00, 7413.71it/s]\n",
      "yt : [INFO     ] 2017-06-23 11:45:34,765 Gathering a field list (this may take a moment.)\n",
      "yt : [INFO     ] 2017-06-23 11:45:35,598 Parameters: current_time              = 35.81647513841\n",
      "yt : [INFO     ] 2017-06-23 11:45:35,598 Parameters: domain_dimensions         = [32 32 32]\n",
      "yt : [INFO     ] 2017-06-23 11:45:35,599 Parameters: domain_left_edge          = [ 0.  0.  0.]\n",
      "yt : [INFO     ] 2017-06-23 11:45:35,601 Parameters: domain_right_edge         = [ 1.  1.  1.]\n",
      "yt : [INFO     ] 2017-06-23 11:45:35,603 Parameters: cosmological_simulation   = 1\n",
      "yt : [INFO     ] 2017-06-23 11:45:35,604 Parameters: current_redshift          = 3.0828380212029\n",
      "yt : [INFO     ] 2017-06-23 11:45:35,605 Parameters: omega_lambda              = 0.727\n",
      "yt : [INFO     ] 2017-06-23 11:45:35,606 Parameters: omega_matter              = 0.273\n",
      "yt : [INFO     ] 2017-06-23 11:45:35,607 Parameters: hubble_constant           = 0.702\n"
     ]
    },
    {
     "name": "stdout",
     "output_type": "stream",
     "text": [
      "DD0007\n"
     ]
    },
    {
     "name": "stderr",
     "output_type": "stream",
     "text": [
      "Parsing Hierarchy : 100%|██████████| 38/38 [00:00<00:00, 18509.30it/s]\n",
      "yt : [INFO     ] 2017-06-23 11:45:35,624 Gathering a field list (this may take a moment.)\n",
      "yt : [INFO     ] 2017-06-23 11:45:36,605 Parameters: current_time              = 40.816517398103\n",
      "yt : [INFO     ] 2017-06-23 11:45:36,605 Parameters: domain_dimensions         = [32 32 32]\n",
      "yt : [INFO     ] 2017-06-23 11:45:36,607 Parameters: domain_left_edge          = [ 0.  0.  0.]\n",
      "yt : [INFO     ] 2017-06-23 11:45:36,608 Parameters: domain_right_edge         = [ 1.  1.  1.]\n",
      "yt : [INFO     ] 2017-06-23 11:45:36,610 Parameters: cosmological_simulation   = 1\n",
      "yt : [INFO     ] 2017-06-23 11:45:36,611 Parameters: current_redshift          = 2.7374176420472\n",
      "yt : [INFO     ] 2017-06-23 11:45:36,612 Parameters: omega_lambda              = 0.727\n",
      "yt : [INFO     ] 2017-06-23 11:45:36,613 Parameters: omega_matter              = 0.273\n",
      "yt : [INFO     ] 2017-06-23 11:45:36,614 Parameters: hubble_constant           = 0.702\n"
     ]
    },
    {
     "name": "stdout",
     "output_type": "stream",
     "text": [
      "DD0008\n"
     ]
    },
    {
     "name": "stderr",
     "output_type": "stream",
     "text": [
      "Parsing Hierarchy : 100%|██████████| 33/33 [00:00<00:00, 14569.69it/s]\n",
      "yt : [INFO     ] 2017-06-23 11:45:36,631 Gathering a field list (this may take a moment.)\n",
      "yt : [INFO     ] 2017-06-23 11:45:37,553 Parameters: current_time              = 45.816588685258\n",
      "yt : [INFO     ] 2017-06-23 11:45:37,553 Parameters: domain_dimensions         = [32 32 32]\n",
      "yt : [INFO     ] 2017-06-23 11:45:37,555 Parameters: domain_left_edge          = [ 0.  0.  0.]\n",
      "yt : [INFO     ] 2017-06-23 11:45:37,556 Parameters: domain_right_edge         = [ 1.  1.  1.]\n",
      "yt : [INFO     ] 2017-06-23 11:45:37,557 Parameters: cosmological_simulation   = 1\n",
      "yt : [INFO     ] 2017-06-23 11:45:37,559 Parameters: current_redshift          = 2.4553075845777\n",
      "yt : [INFO     ] 2017-06-23 11:45:37,560 Parameters: omega_lambda              = 0.727\n",
      "yt : [INFO     ] 2017-06-23 11:45:37,562 Parameters: omega_matter              = 0.273\n",
      "yt : [INFO     ] 2017-06-23 11:45:37,564 Parameters: hubble_constant           = 0.702\n"
     ]
    },
    {
     "name": "stdout",
     "output_type": "stream",
     "text": [
      "DD0009\n"
     ]
    },
    {
     "name": "stderr",
     "output_type": "stream",
     "text": [
      "Parsing Hierarchy : 100%|██████████| 41/41 [00:00<00:00, 12275.43it/s]\n",
      "yt : [INFO     ] 2017-06-23 11:45:37,586 Gathering a field list (this may take a moment.)\n",
      "yt : [INFO     ] 2017-06-23 11:45:38,489 Parameters: current_time              = 50.816545114263\n",
      "yt : [INFO     ] 2017-06-23 11:45:38,490 Parameters: domain_dimensions         = [32 32 32]\n",
      "yt : [INFO     ] 2017-06-23 11:45:38,491 Parameters: domain_left_edge          = [ 0.  0.  0.]\n",
      "yt : [INFO     ] 2017-06-23 11:45:38,493 Parameters: domain_right_edge         = [ 1.  1.  1.]\n",
      "yt : [INFO     ] 2017-06-23 11:45:38,495 Parameters: cosmological_simulation   = 1\n",
      "yt : [INFO     ] 2017-06-23 11:45:38,496 Parameters: current_redshift          = 2.219583420036\n",
      "yt : [INFO     ] 2017-06-23 11:45:38,497 Parameters: omega_lambda              = 0.727\n",
      "yt : [INFO     ] 2017-06-23 11:45:38,498 Parameters: omega_matter              = 0.273\n",
      "yt : [INFO     ] 2017-06-23 11:45:38,499 Parameters: hubble_constant           = 0.702\n"
     ]
    },
    {
     "name": "stdout",
     "output_type": "stream",
     "text": [
      "DD0010\n"
     ]
    },
    {
     "name": "stderr",
     "output_type": "stream",
     "text": [
      "Parsing Hierarchy : 100%|██████████| 54/54 [00:00<00:00, 12705.73it/s]\n",
      "yt : [INFO     ] 2017-06-23 11:45:38,521 Gathering a field list (this may take a moment.)\n",
      "yt : [INFO     ] 2017-06-23 11:45:39,353 Parameters: current_time              = 55.816502139314\n",
      "yt : [INFO     ] 2017-06-23 11:45:39,354 Parameters: domain_dimensions         = [32 32 32]\n",
      "yt : [INFO     ] 2017-06-23 11:45:39,355 Parameters: domain_left_edge          = [ 0.  0.  0.]\n",
      "yt : [INFO     ] 2017-06-23 11:45:39,356 Parameters: domain_right_edge         = [ 1.  1.  1.]\n",
      "yt : [INFO     ] 2017-06-23 11:45:39,358 Parameters: cosmological_simulation   = 1\n",
      "yt : [INFO     ] 2017-06-23 11:45:39,359 Parameters: current_redshift          = 2.0189625110957\n",
      "yt : [INFO     ] 2017-06-23 11:45:39,360 Parameters: omega_lambda              = 0.727\n",
      "yt : [INFO     ] 2017-06-23 11:45:39,361 Parameters: omega_matter              = 0.273\n",
      "yt : [INFO     ] 2017-06-23 11:45:39,363 Parameters: hubble_constant           = 0.702\n"
     ]
    },
    {
     "name": "stdout",
     "output_type": "stream",
     "text": [
      "DD0011\n"
     ]
    },
    {
     "name": "stderr",
     "output_type": "stream",
     "text": [
      "Parsing Hierarchy : 100%|██████████| 55/55 [00:00<00:00, 10611.65it/s]\n",
      "yt : [INFO     ] 2017-06-23 11:45:39,387 Gathering a field list (this may take a moment.)\n",
      "yt : [INFO     ] 2017-06-23 11:45:40,208 Parameters: current_time              = 60.816631242975\n",
      "yt : [INFO     ] 2017-06-23 11:45:40,209 Parameters: domain_dimensions         = [32 32 32]\n",
      "yt : [INFO     ] 2017-06-23 11:45:40,210 Parameters: domain_left_edge          = [ 0.  0.  0.]\n",
      "yt : [INFO     ] 2017-06-23 11:45:40,212 Parameters: domain_right_edge         = [ 1.  1.  1.]\n",
      "yt : [INFO     ] 2017-06-23 11:45:40,214 Parameters: cosmological_simulation   = 1\n",
      "yt : [INFO     ] 2017-06-23 11:45:40,215 Parameters: current_redshift          = 1.8456156964435\n",
      "yt : [INFO     ] 2017-06-23 11:45:40,217 Parameters: omega_lambda              = 0.727\n",
      "yt : [INFO     ] 2017-06-23 11:45:40,219 Parameters: omega_matter              = 0.273\n",
      "yt : [INFO     ] 2017-06-23 11:45:40,221 Parameters: hubble_constant           = 0.702\n"
     ]
    },
    {
     "name": "stdout",
     "output_type": "stream",
     "text": [
      "DD0012\n"
     ]
    },
    {
     "name": "stderr",
     "output_type": "stream",
     "text": [
      "Parsing Hierarchy : 100%|██████████| 66/66 [00:00<00:00, 31034.09it/s]\n",
      "yt : [INFO     ] 2017-06-23 11:45:40,248 Gathering a field list (this may take a moment.)\n",
      "yt : [INFO     ] 2017-06-23 11:45:41,294 Parameters: current_time              = 65.816603824838\n",
      "yt : [INFO     ] 2017-06-23 11:45:41,296 Parameters: domain_dimensions         = [32 32 32]\n",
      "yt : [INFO     ] 2017-06-23 11:45:41,297 Parameters: domain_left_edge          = [ 0.  0.  0.]\n",
      "yt : [INFO     ] 2017-06-23 11:45:41,299 Parameters: domain_right_edge         = [ 1.  1.  1.]\n",
      "yt : [INFO     ] 2017-06-23 11:45:41,302 Parameters: cosmological_simulation   = 1\n",
      "yt : [INFO     ] 2017-06-23 11:45:41,305 Parameters: current_redshift          = 1.6939415226014\n",
      "yt : [INFO     ] 2017-06-23 11:45:41,307 Parameters: omega_lambda              = 0.727\n",
      "yt : [INFO     ] 2017-06-23 11:45:41,309 Parameters: omega_matter              = 0.273\n",
      "yt : [INFO     ] 2017-06-23 11:45:41,311 Parameters: hubble_constant           = 0.702\n"
     ]
    },
    {
     "name": "stdout",
     "output_type": "stream",
     "text": [
      "DD0013\n"
     ]
    },
    {
     "name": "stderr",
     "output_type": "stream",
     "text": [
      "Parsing Hierarchy : 100%|██████████| 66/66 [00:00<00:00, 12837.92it/s]\n",
      "yt : [INFO     ] 2017-06-23 11:45:41,342 Gathering a field list (this may take a moment.)\n",
      "yt : [INFO     ] 2017-06-23 11:45:42,278 Parameters: current_time              = 70.816576883539\n",
      "yt : [INFO     ] 2017-06-23 11:45:42,279 Parameters: domain_dimensions         = [32 32 32]\n",
      "yt : [INFO     ] 2017-06-23 11:45:42,280 Parameters: domain_left_edge          = [ 0.  0.  0.]\n",
      "yt : [INFO     ] 2017-06-23 11:45:42,282 Parameters: domain_right_edge         = [ 1.  1.  1.]\n",
      "yt : [INFO     ] 2017-06-23 11:45:42,284 Parameters: cosmological_simulation   = 1\n",
      "yt : [INFO     ] 2017-06-23 11:45:42,285 Parameters: current_redshift          = 1.5597942124705\n",
      "yt : [INFO     ] 2017-06-23 11:45:42,286 Parameters: omega_lambda              = 0.727\n",
      "yt : [INFO     ] 2017-06-23 11:45:42,287 Parameters: omega_matter              = 0.273\n",
      "yt : [INFO     ] 2017-06-23 11:45:42,290 Parameters: hubble_constant           = 0.702\n"
     ]
    },
    {
     "name": "stdout",
     "output_type": "stream",
     "text": [
      "DD0014\n"
     ]
    },
    {
     "name": "stderr",
     "output_type": "stream",
     "text": [
      "Parsing Hierarchy : 100%|██████████| 76/76 [00:00<00:00, 26141.31it/s]\n",
      "yt : [INFO     ] 2017-06-23 11:45:42,318 Gathering a field list (this may take a moment.)\n",
      "yt : [INFO     ] 2017-06-23 11:45:43,172 Parameters: current_time              = 75.816550478681\n",
      "yt : [INFO     ] 2017-06-23 11:45:43,173 Parameters: domain_dimensions         = [32 32 32]\n",
      "yt : [INFO     ] 2017-06-23 11:45:43,174 Parameters: domain_left_edge          = [ 0.  0.  0.]\n",
      "yt : [INFO     ] 2017-06-23 11:45:43,176 Parameters: domain_right_edge         = [ 1.  1.  1.]\n",
      "yt : [INFO     ] 2017-06-23 11:45:43,177 Parameters: cosmological_simulation   = 1\n",
      "yt : [INFO     ] 2017-06-23 11:45:43,179 Parameters: current_redshift          = 1.440047878975\n",
      "yt : [INFO     ] 2017-06-23 11:45:43,180 Parameters: omega_lambda              = 0.727\n",
      "yt : [INFO     ] 2017-06-23 11:45:43,181 Parameters: omega_matter              = 0.273\n",
      "yt : [INFO     ] 2017-06-23 11:45:43,183 Parameters: hubble_constant           = 0.702\n"
     ]
    },
    {
     "name": "stdout",
     "output_type": "stream",
     "text": [
      "DD0015\n"
     ]
    },
    {
     "name": "stderr",
     "output_type": "stream",
     "text": [
      "Parsing Hierarchy : 100%|██████████| 86/86 [00:00<00:00, 9213.54it/s]\n",
      "yt : [INFO     ] 2017-06-23 11:45:43,208 Gathering a field list (this may take a moment.)\n",
      "yt : [INFO     ] 2017-06-23 11:45:44,155 Parameters: current_time              = 80.81652466987\n",
      "yt : [INFO     ] 2017-06-23 11:45:44,155 Parameters: domain_dimensions         = [32 32 32]\n",
      "yt : [INFO     ] 2017-06-23 11:45:44,157 Parameters: domain_left_edge          = [ 0.  0.  0.]\n",
      "yt : [INFO     ] 2017-06-23 11:45:44,159 Parameters: domain_right_edge         = [ 1.  1.  1.]\n",
      "yt : [INFO     ] 2017-06-23 11:45:44,160 Parameters: cosmological_simulation   = 1\n",
      "yt : [INFO     ] 2017-06-23 11:45:44,162 Parameters: current_redshift          = 1.3322945752038\n",
      "yt : [INFO     ] 2017-06-23 11:45:44,163 Parameters: omega_lambda              = 0.727\n",
      "yt : [INFO     ] 2017-06-23 11:45:44,166 Parameters: omega_matter              = 0.273\n",
      "yt : [INFO     ] 2017-06-23 11:45:44,167 Parameters: hubble_constant           = 0.702\n"
     ]
    },
    {
     "name": "stdout",
     "output_type": "stream",
     "text": [
      "DD0016\n"
     ]
    },
    {
     "name": "stderr",
     "output_type": "stream",
     "text": [
      "Parsing Hierarchy : 100%|██████████| 94/94 [00:00<00:00, 14476.39it/s]\n",
      "yt : [INFO     ] 2017-06-23 11:45:44,192 Gathering a field list (this may take a moment.)\n",
      "yt : [INFO     ] 2017-06-23 11:45:45,106 Parameters: current_time              = 85.816499397501\n",
      "yt : [INFO     ] 2017-06-23 11:45:45,107 Parameters: domain_dimensions         = [32 32 32]\n",
      "yt : [INFO     ] 2017-06-23 11:45:45,108 Parameters: domain_left_edge          = [ 0.  0.  0.]\n",
      "yt : [INFO     ] 2017-06-23 11:45:45,110 Parameters: domain_right_edge         = [ 1.  1.  1.]\n",
      "yt : [INFO     ] 2017-06-23 11:45:45,112 Parameters: cosmological_simulation   = 1\n",
      "yt : [INFO     ] 2017-06-23 11:45:45,113 Parameters: current_redshift          = 1.2346469933533\n",
      "yt : [INFO     ] 2017-06-23 11:45:45,115 Parameters: omega_lambda              = 0.727\n",
      "yt : [INFO     ] 2017-06-23 11:45:45,116 Parameters: omega_matter              = 0.273\n",
      "yt : [INFO     ] 2017-06-23 11:45:45,118 Parameters: hubble_constant           = 0.702\n"
     ]
    },
    {
     "name": "stdout",
     "output_type": "stream",
     "text": [
      "DD0017\n"
     ]
    },
    {
     "name": "stderr",
     "output_type": "stream",
     "text": [
      "Parsing Hierarchy : 100%|██████████| 99/99 [00:00<00:00, 14961.31it/s]\n",
      "yt : [INFO     ] 2017-06-23 11:45:45,143 Gathering a field list (this may take a moment.)\n",
      "yt : [INFO     ] 2017-06-23 11:45:46,160 Parameters: current_time              = 90.816474721178\n",
      "yt : [INFO     ] 2017-06-23 11:45:46,161 Parameters: domain_dimensions         = [32 32 32]\n",
      "yt : [INFO     ] 2017-06-23 11:45:46,162 Parameters: domain_left_edge          = [ 0.  0.  0.]\n",
      "yt : [INFO     ] 2017-06-23 11:45:46,164 Parameters: domain_right_edge         = [ 1.  1.  1.]\n",
      "yt : [INFO     ] 2017-06-23 11:45:46,165 Parameters: cosmological_simulation   = 1\n",
      "yt : [INFO     ] 2017-06-23 11:45:46,167 Parameters: current_redshift          = 1.1456033320512\n",
      "yt : [INFO     ] 2017-06-23 11:45:46,168 Parameters: omega_lambda              = 0.727\n",
      "yt : [INFO     ] 2017-06-23 11:45:46,169 Parameters: omega_matter              = 0.273\n",
      "yt : [INFO     ] 2017-06-23 11:45:46,170 Parameters: hubble_constant           = 0.702\n"
     ]
    },
    {
     "name": "stdout",
     "output_type": "stream",
     "text": [
      "DD0018\n"
     ]
    },
    {
     "name": "stderr",
     "output_type": "stream",
     "text": [
      "Parsing Hierarchy : 100%|██████████| 111/111 [00:00<00:00, 20619.50it/s]\n",
      "yt : [INFO     ] 2017-06-23 11:45:46,201 Gathering a field list (this may take a moment.)\n",
      "yt : [INFO     ] 2017-06-23 11:45:47,085 Parameters: current_time              = 95.816708609804\n",
      "yt : [INFO     ] 2017-06-23 11:45:47,086 Parameters: domain_dimensions         = [32 32 32]\n",
      "yt : [INFO     ] 2017-06-23 11:45:47,087 Parameters: domain_left_edge          = [ 0.  0.  0.]\n",
      "yt : [INFO     ] 2017-06-23 11:45:47,089 Parameters: domain_right_edge         = [ 1.  1.  1.]\n",
      "yt : [INFO     ] 2017-06-23 11:45:47,091 Parameters: cosmological_simulation   = 1\n",
      "yt : [INFO     ] 2017-06-23 11:45:47,092 Parameters: current_redshift          = 1.0639484710526\n",
      "yt : [INFO     ] 2017-06-23 11:45:47,093 Parameters: omega_lambda              = 0.727\n",
      "yt : [INFO     ] 2017-06-23 11:45:47,094 Parameters: omega_matter              = 0.273\n",
      "yt : [INFO     ] 2017-06-23 11:45:47,096 Parameters: hubble_constant           = 0.702\n"
     ]
    },
    {
     "name": "stdout",
     "output_type": "stream",
     "text": [
      "DD0019\n"
     ]
    },
    {
     "name": "stderr",
     "output_type": "stream",
     "text": [
      "Parsing Hierarchy : 100%|██████████| 104/104 [00:00<00:00, 17082.07it/s]\n",
      "yt : [INFO     ] 2017-06-23 11:45:47,120 Gathering a field list (this may take a moment.)\n",
      "yt : [INFO     ] 2017-06-23 11:45:48,064 Parameters: current_time              = 100.81669692729\n",
      "yt : [INFO     ] 2017-06-23 11:45:48,065 Parameters: domain_dimensions         = [32 32 32]\n",
      "yt : [INFO     ] 2017-06-23 11:45:48,066 Parameters: domain_left_edge          = [ 0.  0.  0.]\n",
      "yt : [INFO     ] 2017-06-23 11:45:48,068 Parameters: domain_right_edge         = [ 1.  1.  1.]\n",
      "yt : [INFO     ] 2017-06-23 11:45:48,069 Parameters: cosmological_simulation   = 1\n",
      "yt : [INFO     ] 2017-06-23 11:45:48,070 Parameters: current_redshift          = 0.98870235716941\n",
      "yt : [INFO     ] 2017-06-23 11:45:48,072 Parameters: omega_lambda              = 0.727\n",
      "yt : [INFO     ] 2017-06-23 11:45:48,074 Parameters: omega_matter              = 0.273\n",
      "yt : [INFO     ] 2017-06-23 11:45:48,076 Parameters: hubble_constant           = 0.702\n"
     ]
    },
    {
     "name": "stdout",
     "output_type": "stream",
     "text": [
      "DD0020\n"
     ]
    },
    {
     "name": "stderr",
     "output_type": "stream",
     "text": [
      "Parsing Hierarchy : 100%|██████████| 105/105 [00:00<00:00, 18456.98it/s]\n",
      "yt : [INFO     ] 2017-06-23 11:45:48,104 Gathering a field list (this may take a moment.)\n",
      "yt : [INFO     ] 2017-06-23 11:45:49,097 Parameters: current_time              = 105.8166854832\n",
      "yt : [INFO     ] 2017-06-23 11:45:49,098 Parameters: domain_dimensions         = [32 32 32]\n",
      "yt : [INFO     ] 2017-06-23 11:45:49,099 Parameters: domain_left_edge          = [ 0.  0.  0.]\n",
      "yt : [INFO     ] 2017-06-23 11:45:49,101 Parameters: domain_right_edge         = [ 1.  1.  1.]\n",
      "yt : [INFO     ] 2017-06-23 11:45:49,103 Parameters: cosmological_simulation   = 1\n",
      "yt : [INFO     ] 2017-06-23 11:45:49,104 Parameters: current_redshift          = 0.91904577492894\n",
      "yt : [INFO     ] 2017-06-23 11:45:49,105 Parameters: omega_lambda              = 0.727\n",
      "yt : [INFO     ] 2017-06-23 11:45:49,106 Parameters: omega_matter              = 0.273\n",
      "yt : [INFO     ] 2017-06-23 11:45:49,108 Parameters: hubble_constant           = 0.702\n"
     ]
    },
    {
     "name": "stdout",
     "output_type": "stream",
     "text": [
      "DD0021\n"
     ]
    },
    {
     "name": "stderr",
     "output_type": "stream",
     "text": [
      "Parsing Hierarchy : 100%|██████████| 123/123 [00:00<00:00, 18146.30it/s]\n",
      "yt : [INFO     ] 2017-06-23 11:45:49,141 Gathering a field list (this may take a moment.)\n",
      "yt : [INFO     ] 2017-06-23 11:45:50,037 Parameters: current_time              = 110.81667451595\n",
      "yt : [INFO     ] 2017-06-23 11:45:50,037 Parameters: domain_dimensions         = [32 32 32]\n",
      "yt : [INFO     ] 2017-06-23 11:45:50,038 Parameters: domain_left_edge          = [ 0.  0.  0.]\n",
      "yt : [INFO     ] 2017-06-23 11:45:50,041 Parameters: domain_right_edge         = [ 1.  1.  1.]\n",
      "yt : [INFO     ] 2017-06-23 11:45:50,042 Parameters: cosmological_simulation   = 1\n",
      "yt : [INFO     ] 2017-06-23 11:45:50,043 Parameters: current_redshift          = 0.85430014131868\n",
      "yt : [INFO     ] 2017-06-23 11:45:50,044 Parameters: omega_lambda              = 0.727\n",
      "yt : [INFO     ] 2017-06-23 11:45:50,045 Parameters: omega_matter              = 0.273\n",
      "yt : [INFO     ] 2017-06-23 11:45:50,046 Parameters: hubble_constant           = 0.702\n"
     ]
    },
    {
     "name": "stdout",
     "output_type": "stream",
     "text": [
      "DD0022\n"
     ]
    },
    {
     "name": "stderr",
     "output_type": "stream",
     "text": [
      "Parsing Hierarchy : 100%|██████████| 114/114 [00:00<00:00, 17767.85it/s]\n",
      "yt : [INFO     ] 2017-06-23 11:45:50,073 Gathering a field list (this may take a moment.)\n",
      "yt : [INFO     ] 2017-06-23 11:45:50,968 Parameters: current_time              = 115.81666378711\n",
      "yt : [INFO     ] 2017-06-23 11:45:50,968 Parameters: domain_dimensions         = [32 32 32]\n",
      "yt : [INFO     ] 2017-06-23 11:45:50,970 Parameters: domain_left_edge          = [ 0.  0.  0.]\n",
      "yt : [INFO     ] 2017-06-23 11:45:50,972 Parameters: domain_right_edge         = [ 1.  1.  1.]\n",
      "yt : [INFO     ] 2017-06-23 11:45:50,973 Parameters: cosmological_simulation   = 1\n",
      "yt : [INFO     ] 2017-06-23 11:45:50,974 Parameters: current_redshift          = 0.79389560752451\n",
      "yt : [INFO     ] 2017-06-23 11:45:50,976 Parameters: omega_lambda              = 0.727\n",
      "yt : [INFO     ] 2017-06-23 11:45:50,978 Parameters: omega_matter              = 0.273\n",
      "yt : [INFO     ] 2017-06-23 11:45:50,979 Parameters: hubble_constant           = 0.702\n"
     ]
    },
    {
     "name": "stdout",
     "output_type": "stream",
     "text": [
      "DD0023\n"
     ]
    },
    {
     "name": "stderr",
     "output_type": "stream",
     "text": [
      "Parsing Hierarchy : 100%|██████████| 120/120 [00:00<00:00, 36989.53it/s]\n",
      "yt : [INFO     ] 2017-06-23 11:45:51,002 Gathering a field list (this may take a moment.)\n",
      "yt : [INFO     ] 2017-06-23 11:45:52,066 Parameters: current_time              = 120.81665329669\n",
      "yt : [INFO     ] 2017-06-23 11:45:52,067 Parameters: domain_dimensions         = [32 32 32]\n",
      "yt : [INFO     ] 2017-06-23 11:45:52,068 Parameters: domain_left_edge          = [ 0.  0.  0.]\n",
      "yt : [INFO     ] 2017-06-23 11:45:52,069 Parameters: domain_right_edge         = [ 1.  1.  1.]\n",
      "yt : [INFO     ] 2017-06-23 11:45:52,071 Parameters: cosmological_simulation   = 1\n",
      "yt : [INFO     ] 2017-06-23 11:45:52,072 Parameters: current_redshift          = 0.73734987821014\n",
      "yt : [INFO     ] 2017-06-23 11:45:52,073 Parameters: omega_lambda              = 0.727\n",
      "yt : [INFO     ] 2017-06-23 11:45:52,075 Parameters: omega_matter              = 0.273\n",
      "yt : [INFO     ] 2017-06-23 11:45:52,077 Parameters: hubble_constant           = 0.702\n"
     ]
    },
    {
     "name": "stdout",
     "output_type": "stream",
     "text": [
      "DD0024\n"
     ]
    },
    {
     "name": "stderr",
     "output_type": "stream",
     "text": [
      "Parsing Hierarchy : 100%|██████████| 132/132 [00:00<00:00, 29177.77it/s]\n",
      "yt : [INFO     ] 2017-06-23 11:45:52,108 Gathering a field list (this may take a moment.)\n",
      "yt : [INFO     ] 2017-06-23 11:45:53,109 Parameters: current_time              = 125.8166431639\n",
      "yt : [INFO     ] 2017-06-23 11:45:53,110 Parameters: domain_dimensions         = [32 32 32]\n",
      "yt : [INFO     ] 2017-06-23 11:45:53,111 Parameters: domain_left_edge          = [ 0.  0.  0.]\n",
      "yt : [INFO     ] 2017-06-23 11:45:53,113 Parameters: domain_right_edge         = [ 1.  1.  1.]\n",
      "yt : [INFO     ] 2017-06-23 11:45:53,115 Parameters: cosmological_simulation   = 1\n",
      "yt : [INFO     ] 2017-06-23 11:45:53,116 Parameters: current_redshift          = 0.68425184475466\n",
      "yt : [INFO     ] 2017-06-23 11:45:53,117 Parameters: omega_lambda              = 0.727\n",
      "yt : [INFO     ] 2017-06-23 11:45:53,118 Parameters: omega_matter              = 0.273\n",
      "yt : [INFO     ] 2017-06-23 11:45:53,120 Parameters: hubble_constant           = 0.702\n"
     ]
    },
    {
     "name": "stdout",
     "output_type": "stream",
     "text": [
      "DD0025\n"
     ]
    },
    {
     "name": "stderr",
     "output_type": "stream",
     "text": [
      "Parsing Hierarchy : 100%|██████████| 132/132 [00:00<00:00, 19045.34it/s]\n",
      "yt : [INFO     ] 2017-06-23 11:45:53,153 Gathering a field list (this may take a moment.)\n",
      "yt : [INFO     ] 2017-06-23 11:45:54,245 Parameters: current_time              = 130.81663338874\n",
      "yt : [INFO     ] 2017-06-23 11:45:54,246 Parameters: domain_dimensions         = [32 32 32]\n",
      "yt : [INFO     ] 2017-06-23 11:45:54,247 Parameters: domain_left_edge          = [ 0.  0.  0.]\n",
      "yt : [INFO     ] 2017-06-23 11:45:54,250 Parameters: domain_right_edge         = [ 1.  1.  1.]\n",
      "yt : [INFO     ] 2017-06-23 11:45:54,251 Parameters: cosmological_simulation   = 1\n",
      "yt : [INFO     ] 2017-06-23 11:45:54,253 Parameters: current_redshift          = 0.63424878883161\n",
      "yt : [INFO     ] 2017-06-23 11:45:54,254 Parameters: omega_lambda              = 0.727\n",
      "yt : [INFO     ] 2017-06-23 11:45:54,256 Parameters: omega_matter              = 0.273\n",
      "yt : [INFO     ] 2017-06-23 11:45:54,258 Parameters: hubble_constant           = 0.702\n"
     ]
    },
    {
     "name": "stdout",
     "output_type": "stream",
     "text": [
      "DD0026\n"
     ]
    },
    {
     "name": "stderr",
     "output_type": "stream",
     "text": [
      "Parsing Hierarchy : 100%|██████████| 139/139 [00:00<00:00, 14894.70it/s]\n",
      "yt : [INFO     ] 2017-06-23 11:45:54,292 Gathering a field list (this may take a moment.)\n",
      "yt : [INFO     ] 2017-06-23 11:45:55,244 Parameters: current_time              = 135.816623852\n",
      "yt : [INFO     ] 2017-06-23 11:45:55,245 Parameters: domain_dimensions         = [32 32 32]\n",
      "yt : [INFO     ] 2017-06-23 11:45:55,246 Parameters: domain_left_edge          = [ 0.  0.  0.]\n",
      "yt : [INFO     ] 2017-06-23 11:45:55,249 Parameters: domain_right_edge         = [ 1.  1.  1.]\n",
      "yt : [INFO     ] 2017-06-23 11:45:55,250 Parameters: cosmological_simulation   = 1\n",
      "yt : [INFO     ] 2017-06-23 11:45:55,251 Parameters: current_redshift          = 0.58703627083642\n",
      "yt : [INFO     ] 2017-06-23 11:45:55,253 Parameters: omega_lambda              = 0.727\n",
      "yt : [INFO     ] 2017-06-23 11:45:55,254 Parameters: omega_matter              = 0.273\n",
      "yt : [INFO     ] 2017-06-23 11:45:55,255 Parameters: hubble_constant           = 0.702\n"
     ]
    },
    {
     "name": "stdout",
     "output_type": "stream",
     "text": [
      "DD0027\n"
     ]
    },
    {
     "name": "stderr",
     "output_type": "stream",
     "text": [
      "Parsing Hierarchy : 100%|██████████| 147/147 [00:00<00:00, 17219.54it/s]\n",
      "yt : [INFO     ] 2017-06-23 11:45:55,285 Gathering a field list (this may take a moment.)\n",
      "yt : [INFO     ] 2017-06-23 11:45:56,324 Parameters: current_time              = 140.81661467288\n",
      "yt : [INFO     ] 2017-06-23 11:45:56,325 Parameters: domain_dimensions         = [32 32 32]\n",
      "yt : [INFO     ] 2017-06-23 11:45:56,326 Parameters: domain_left_edge          = [ 0.  0.  0.]\n",
      "yt : [INFO     ] 2017-06-23 11:45:56,328 Parameters: domain_right_edge         = [ 1.  1.  1.]\n",
      "yt : [INFO     ] 2017-06-23 11:45:56,330 Parameters: cosmological_simulation   = 1\n",
      "yt : [INFO     ] 2017-06-23 11:45:56,331 Parameters: current_redshift          = 0.5423500628512\n",
      "yt : [INFO     ] 2017-06-23 11:45:56,332 Parameters: omega_lambda              = 0.727\n",
      "yt : [INFO     ] 2017-06-23 11:45:56,334 Parameters: omega_matter              = 0.273\n",
      "yt : [INFO     ] 2017-06-23 11:45:56,336 Parameters: hubble_constant           = 0.702\n"
     ]
    },
    {
     "name": "stdout",
     "output_type": "stream",
     "text": [
      "DD0028\n"
     ]
    },
    {
     "name": "stderr",
     "output_type": "stream",
     "text": [
      "Parsing Hierarchy : 100%|██████████| 137/137 [00:00<00:00, 26638.53it/s]\n",
      "yt : [INFO     ] 2017-06-23 11:45:56,363 Gathering a field list (this may take a moment.)\n",
      "yt : [INFO     ] 2017-06-23 11:45:57,595 Parameters: current_time              = 145.8166058514\n",
      "yt : [INFO     ] 2017-06-23 11:45:57,596 Parameters: domain_dimensions         = [32 32 32]\n",
      "yt : [INFO     ] 2017-06-23 11:45:57,597 Parameters: domain_left_edge          = [ 0.  0.  0.]\n",
      "yt : [INFO     ] 2017-06-23 11:45:57,599 Parameters: domain_right_edge         = [ 1.  1.  1.]\n",
      "yt : [INFO     ] 2017-06-23 11:45:57,601 Parameters: cosmological_simulation   = 1\n",
      "yt : [INFO     ] 2017-06-23 11:45:57,602 Parameters: current_redshift          = 0.49995966511044\n",
      "yt : [INFO     ] 2017-06-23 11:45:57,603 Parameters: omega_lambda              = 0.727\n",
      "yt : [INFO     ] 2017-06-23 11:45:57,604 Parameters: omega_matter              = 0.273\n",
      "yt : [INFO     ] 2017-06-23 11:45:57,607 Parameters: hubble_constant           = 0.702\n"
     ]
    },
    {
     "name": "stdout",
     "output_type": "stream",
     "text": [
      "DD0029\n"
     ]
    },
    {
     "name": "stderr",
     "output_type": "stream",
     "text": [
      "Parsing Hierarchy : 100%|██████████| 143/143 [00:00<00:00, 15526.82it/s]\n",
      "yt : [INFO     ] 2017-06-23 11:45:57,644 Gathering a field list (this may take a moment.)\n",
      "yt : [INFO     ] 2017-06-23 11:45:58,564 Parameters: current_time              = 150.81659738754\n",
      "yt : [INFO     ] 2017-06-23 11:45:58,565 Parameters: domain_dimensions         = [32 32 32]\n",
      "yt : [INFO     ] 2017-06-23 11:45:58,566 Parameters: domain_left_edge          = [ 0.  0.  0.]\n",
      "yt : [INFO     ] 2017-06-23 11:45:58,568 Parameters: domain_right_edge         = [ 1.  1.  1.]\n",
      "yt : [INFO     ] 2017-06-23 11:45:58,569 Parameters: cosmological_simulation   = 1\n",
      "yt : [INFO     ] 2017-06-23 11:45:58,571 Parameters: current_redshift          = 0.45966304374501\n",
      "yt : [INFO     ] 2017-06-23 11:45:58,572 Parameters: omega_lambda              = 0.727\n",
      "yt : [INFO     ] 2017-06-23 11:45:58,573 Parameters: omega_matter              = 0.273\n",
      "yt : [INFO     ] 2017-06-23 11:45:58,575 Parameters: hubble_constant           = 0.702\n"
     ]
    },
    {
     "name": "stdout",
     "output_type": "stream",
     "text": [
      "DD0030\n"
     ]
    },
    {
     "name": "stderr",
     "output_type": "stream",
     "text": [
      "Parsing Hierarchy : 100%|██████████| 143/143 [00:00<00:00, 14760.32it/s]\n",
      "yt : [INFO     ] 2017-06-23 11:45:58,604 Gathering a field list (this may take a moment.)\n",
      "yt : [INFO     ] 2017-06-23 11:45:59,724 Parameters: current_time              = 155.8165891621\n",
      "yt : [INFO     ] 2017-06-23 11:45:59,728 Parameters: domain_dimensions         = [32 32 32]\n",
      "yt : [INFO     ] 2017-06-23 11:45:59,730 Parameters: domain_left_edge          = [ 0.  0.  0.]\n",
      "yt : [INFO     ] 2017-06-23 11:45:59,732 Parameters: domain_right_edge         = [ 1.  1.  1.]\n",
      "yt : [INFO     ] 2017-06-23 11:45:59,734 Parameters: cosmological_simulation   = 1\n",
      "yt : [INFO     ] 2017-06-23 11:45:59,735 Parameters: current_redshift          = 0.42128233288187\n",
      "yt : [INFO     ] 2017-06-23 11:45:59,736 Parameters: omega_lambda              = 0.727\n",
      "yt : [INFO     ] 2017-06-23 11:45:59,737 Parameters: omega_matter              = 0.273\n",
      "yt : [INFO     ] 2017-06-23 11:45:59,742 Parameters: hubble_constant           = 0.702\n"
     ]
    },
    {
     "name": "stdout",
     "output_type": "stream",
     "text": [
      "DD0031\n"
     ]
    },
    {
     "name": "stderr",
     "output_type": "stream",
     "text": [
      "Parsing Hierarchy : 100%|██████████| 146/146 [00:00<00:00, 8333.92it/s]\n",
      "yt : [INFO     ] 2017-06-23 11:45:59,797 Gathering a field list (this may take a moment.)\n",
      "yt : [INFO     ] 2017-06-23 11:46:01,101 Parameters: current_time              = 160.81658117507\n",
      "yt : [INFO     ] 2017-06-23 11:46:01,102 Parameters: domain_dimensions         = [32 32 32]\n",
      "yt : [INFO     ] 2017-06-23 11:46:01,103 Parameters: domain_left_edge          = [ 0.  0.  0.]\n",
      "yt : [INFO     ] 2017-06-23 11:46:01,104 Parameters: domain_right_edge         = [ 1.  1.  1.]\n",
      "yt : [INFO     ] 2017-06-23 11:46:01,106 Parameters: cosmological_simulation   = 1\n",
      "yt : [INFO     ] 2017-06-23 11:46:01,108 Parameters: current_redshift          = 0.38466029561352\n",
      "yt : [INFO     ] 2017-06-23 11:46:01,109 Parameters: omega_lambda              = 0.727\n",
      "yt : [INFO     ] 2017-06-23 11:46:01,110 Parameters: omega_matter              = 0.273\n",
      "yt : [INFO     ] 2017-06-23 11:46:01,113 Parameters: hubble_constant           = 0.702\n"
     ]
    },
    {
     "name": "stdout",
     "output_type": "stream",
     "text": [
      "DD0032\n"
     ]
    },
    {
     "name": "stderr",
     "output_type": "stream",
     "text": [
      "Parsing Hierarchy : 100%|██████████| 146/146 [00:00<00:00, 14974.53it/s]\n",
      "yt : [INFO     ] 2017-06-23 11:46:01,149 Gathering a field list (this may take a moment.)\n",
      "yt : [INFO     ] 2017-06-23 11:46:02,206 Parameters: current_time              = 165.81657354568\n",
      "yt : [INFO     ] 2017-06-23 11:46:02,207 Parameters: domain_dimensions         = [32 32 32]\n",
      "yt : [INFO     ] 2017-06-23 11:46:02,209 Parameters: domain_left_edge          = [ 0.  0.  0.]\n",
      "yt : [INFO     ] 2017-06-23 11:46:02,212 Parameters: domain_right_edge         = [ 1.  1.  1.]\n",
      "yt : [INFO     ] 2017-06-23 11:46:02,215 Parameters: cosmological_simulation   = 1\n",
      "yt : [INFO     ] 2017-06-23 11:46:02,216 Parameters: current_redshift          = 0.34965739481945\n",
      "yt : [INFO     ] 2017-06-23 11:46:02,218 Parameters: omega_lambda              = 0.727\n",
      "yt : [INFO     ] 2017-06-23 11:46:02,219 Parameters: omega_matter              = 0.273\n",
      "yt : [INFO     ] 2017-06-23 11:46:02,225 Parameters: hubble_constant           = 0.702\n"
     ]
    },
    {
     "name": "stdout",
     "output_type": "stream",
     "text": [
      "DD0033\n"
     ]
    },
    {
     "name": "stderr",
     "output_type": "stream",
     "text": [
      "Parsing Hierarchy : 100%|██████████| 159/159 [00:00<00:00, 18351.52it/s]\n",
      "yt : [INFO     ] 2017-06-23 11:46:02,261 Gathering a field list (this may take a moment.)\n",
      "yt : [INFO     ] 2017-06-23 11:46:03,170 Parameters: current_time              = 170.8165661547\n",
      "yt : [INFO     ] 2017-06-23 11:46:03,171 Parameters: domain_dimensions         = [32 32 32]\n",
      "yt : [INFO     ] 2017-06-23 11:46:03,172 Parameters: domain_left_edge          = [ 0.  0.  0.]\n",
      "yt : [INFO     ] 2017-06-23 11:46:03,174 Parameters: domain_right_edge         = [ 1.  1.  1.]\n",
      "yt : [INFO     ] 2017-06-23 11:46:03,176 Parameters: cosmological_simulation   = 1\n",
      "yt : [INFO     ] 2017-06-23 11:46:03,177 Parameters: current_redshift          = 0.31614935480033\n",
      "yt : [INFO     ] 2017-06-23 11:46:03,179 Parameters: omega_lambda              = 0.727\n",
      "yt : [INFO     ] 2017-06-23 11:46:03,181 Parameters: omega_matter              = 0.273\n",
      "yt : [INFO     ] 2017-06-23 11:46:03,182 Parameters: hubble_constant           = 0.702\n"
     ]
    },
    {
     "name": "stdout",
     "output_type": "stream",
     "text": [
      "DD0034\n"
     ]
    },
    {
     "name": "stderr",
     "output_type": "stream",
     "text": [
      "Parsing Hierarchy : 100%|██████████| 162/162 [00:00<00:00, 26188.13it/s]\n",
      "yt : [INFO     ] 2017-06-23 11:46:03,208 Gathering a field list (this may take a moment.)\n",
      "yt : [INFO     ] 2017-06-23 11:46:04,042 Parameters: current_time              = 175.81655912135\n",
      "yt : [INFO     ] 2017-06-23 11:46:04,042 Parameters: domain_dimensions         = [32 32 32]\n",
      "yt : [INFO     ] 2017-06-23 11:46:04,043 Parameters: domain_left_edge          = [ 0.  0.  0.]\n",
      "yt : [INFO     ] 2017-06-23 11:46:04,045 Parameters: domain_right_edge         = [ 1.  1.  1.]\n",
      "yt : [INFO     ] 2017-06-23 11:46:04,046 Parameters: cosmological_simulation   = 1\n",
      "yt : [INFO     ] 2017-06-23 11:46:04,048 Parameters: current_redshift          = 0.28402511248147\n",
      "yt : [INFO     ] 2017-06-23 11:46:04,049 Parameters: omega_lambda              = 0.727\n",
      "yt : [INFO     ] 2017-06-23 11:46:04,050 Parameters: omega_matter              = 0.273\n",
      "yt : [INFO     ] 2017-06-23 11:46:04,052 Parameters: hubble_constant           = 0.702\n"
     ]
    },
    {
     "name": "stdout",
     "output_type": "stream",
     "text": [
      "DD0035\n"
     ]
    },
    {
     "name": "stderr",
     "output_type": "stream",
     "text": [
      "Parsing Hierarchy : 100%|██████████| 160/160 [00:00<00:00, 18304.75it/s]\n",
      "yt : [INFO     ] 2017-06-23 11:46:04,081 Gathering a field list (this may take a moment.)\n",
      "yt : [INFO     ] 2017-06-23 11:46:04,907 Parameters: current_time              = 180.81655238603\n",
      "yt : [INFO     ] 2017-06-23 11:46:04,908 Parameters: domain_dimensions         = [32 32 32]\n",
      "yt : [INFO     ] 2017-06-23 11:46:04,909 Parameters: domain_left_edge          = [ 0.  0.  0.]\n",
      "yt : [INFO     ] 2017-06-23 11:46:04,910 Parameters: domain_right_edge         = [ 1.  1.  1.]\n",
      "yt : [INFO     ] 2017-06-23 11:46:04,912 Parameters: cosmological_simulation   = 1\n",
      "yt : [INFO     ] 2017-06-23 11:46:04,913 Parameters: current_redshift          = 0.25318509698044\n",
      "yt : [INFO     ] 2017-06-23 11:46:04,914 Parameters: omega_lambda              = 0.727\n",
      "yt : [INFO     ] 2017-06-23 11:46:04,916 Parameters: omega_matter              = 0.273\n",
      "yt : [INFO     ] 2017-06-23 11:46:04,917 Parameters: hubble_constant           = 0.702\n"
     ]
    },
    {
     "name": "stdout",
     "output_type": "stream",
     "text": [
      "DD0036\n"
     ]
    },
    {
     "name": "stderr",
     "output_type": "stream",
     "text": [
      "Parsing Hierarchy : 100%|██████████| 167/167 [00:00<00:00, 22099.66it/s]\n",
      "yt : [INFO     ] 2017-06-23 11:46:04,947 Gathering a field list (this may take a moment.)\n",
      "yt : [INFO     ] 2017-06-23 11:46:05,896 Parameters: current_time              = 185.81654588912\n",
      "yt : [INFO     ] 2017-06-23 11:46:05,896 Parameters: domain_dimensions         = [32 32 32]\n",
      "yt : [INFO     ] 2017-06-23 11:46:05,898 Parameters: domain_left_edge          = [ 0.  0.  0.]\n",
      "yt : [INFO     ] 2017-06-23 11:46:05,899 Parameters: domain_right_edge         = [ 1.  1.  1.]\n",
      "yt : [INFO     ] 2017-06-23 11:46:05,901 Parameters: cosmological_simulation   = 1\n",
      "yt : [INFO     ] 2017-06-23 11:46:05,902 Parameters: current_redshift          = 0.22353976917733\n",
      "yt : [INFO     ] 2017-06-23 11:46:05,904 Parameters: omega_lambda              = 0.727\n",
      "yt : [INFO     ] 2017-06-23 11:46:05,905 Parameters: omega_matter              = 0.273\n",
      "yt : [INFO     ] 2017-06-23 11:46:05,906 Parameters: hubble_constant           = 0.702\n"
     ]
    },
    {
     "name": "stdout",
     "output_type": "stream",
     "text": [
      "DD0037\n"
     ]
    },
    {
     "name": "stderr",
     "output_type": "stream",
     "text": [
      "Parsing Hierarchy : 100%|██████████| 182/182 [00:00<00:00, 19858.05it/s]\n",
      "yt : [INFO     ] 2017-06-23 11:46:05,943 Gathering a field list (this may take a moment.)\n",
      "yt : [INFO     ] 2017-06-23 11:46:06,784 Parameters: current_time              = 190.81653963064\n",
      "yt : [INFO     ] 2017-06-23 11:46:06,785 Parameters: domain_dimensions         = [32 32 32]\n",
      "yt : [INFO     ] 2017-06-23 11:46:06,786 Parameters: domain_left_edge          = [ 0.  0.  0.]\n",
      "yt : [INFO     ] 2017-06-23 11:46:06,788 Parameters: domain_right_edge         = [ 1.  1.  1.]\n",
      "yt : [INFO     ] 2017-06-23 11:46:06,790 Parameters: cosmological_simulation   = 1\n",
      "yt : [INFO     ] 2017-06-23 11:46:06,791 Parameters: current_redshift          = 0.19500837999463\n",
      "yt : [INFO     ] 2017-06-23 11:46:06,792 Parameters: omega_lambda              = 0.727\n",
      "yt : [INFO     ] 2017-06-23 11:46:06,794 Parameters: omega_matter              = 0.273\n",
      "yt : [INFO     ] 2017-06-23 11:46:06,795 Parameters: hubble_constant           = 0.702\n"
     ]
    },
    {
     "name": "stdout",
     "output_type": "stream",
     "text": [
      "DD0038\n"
     ]
    },
    {
     "name": "stderr",
     "output_type": "stream",
     "text": [
      "Parsing Hierarchy : 100%|██████████| 189/189 [00:00<00:00, 21007.09it/s]\n",
      "yt : [INFO     ] 2017-06-23 11:46:06,830 Gathering a field list (this may take a moment.)\n",
      "yt : [INFO     ] 2017-06-23 11:46:07,760 Parameters: current_time              = 195.81653361057\n",
      "yt : [INFO     ] 2017-06-23 11:46:07,761 Parameters: domain_dimensions         = [32 32 32]\n",
      "yt : [INFO     ] 2017-06-23 11:46:07,762 Parameters: domain_left_edge          = [ 0.  0.  0.]\n",
      "yt : [INFO     ] 2017-06-23 11:46:07,764 Parameters: domain_right_edge         = [ 1.  1.  1.]\n",
      "yt : [INFO     ] 2017-06-23 11:46:07,766 Parameters: cosmological_simulation   = 1\n",
      "yt : [INFO     ] 2017-06-23 11:46:07,767 Parameters: current_redshift          = 0.16751790992585\n",
      "yt : [INFO     ] 2017-06-23 11:46:07,768 Parameters: omega_lambda              = 0.727\n",
      "yt : [INFO     ] 2017-06-23 11:46:07,770 Parameters: omega_matter              = 0.273\n",
      "yt : [INFO     ] 2017-06-23 11:46:07,771 Parameters: hubble_constant           = 0.702\n"
     ]
    },
    {
     "name": "stdout",
     "output_type": "stream",
     "text": [
      "DD0039\n"
     ]
    },
    {
     "name": "stderr",
     "output_type": "stream",
     "text": [
      "Parsing Hierarchy : 100%|██████████| 189/189 [00:00<00:00, 21159.61it/s]\n",
      "yt : [INFO     ] 2017-06-23 11:46:07,801 Gathering a field list (this may take a moment.)\n",
      "yt : [INFO     ] 2017-06-23 11:46:08,636 Parameters: current_time              = 200.81652788852\n",
      "yt : [INFO     ] 2017-06-23 11:46:08,637 Parameters: domain_dimensions         = [32 32 32]\n",
      "yt : [INFO     ] 2017-06-23 11:46:08,638 Parameters: domain_left_edge          = [ 0.  0.  0.]\n",
      "yt : [INFO     ] 2017-06-23 11:46:08,640 Parameters: domain_right_edge         = [ 1.  1.  1.]\n",
      "yt : [INFO     ] 2017-06-23 11:46:08,642 Parameters: cosmological_simulation   = 1\n",
      "yt : [INFO     ] 2017-06-23 11:46:08,643 Parameters: current_redshift          = 0.14100215830627\n",
      "yt : [INFO     ] 2017-06-23 11:46:08,644 Parameters: omega_lambda              = 0.727\n",
      "yt : [INFO     ] 2017-06-23 11:46:08,645 Parameters: omega_matter              = 0.273\n",
      "yt : [INFO     ] 2017-06-23 11:46:08,647 Parameters: hubble_constant           = 0.702\n"
     ]
    },
    {
     "name": "stdout",
     "output_type": "stream",
     "text": [
      "DD0040\n"
     ]
    },
    {
     "name": "stderr",
     "output_type": "stream",
     "text": [
      "Parsing Hierarchy : 100%|██████████| 187/187 [00:00<00:00, 23369.03it/s]\n",
      "yt : [INFO     ] 2017-06-23 11:46:08,680 Gathering a field list (this may take a moment.)\n",
      "yt : [INFO     ] 2017-06-23 11:46:09,533 Parameters: current_time              = 205.81652240489\n",
      "yt : [INFO     ] 2017-06-23 11:46:09,534 Parameters: domain_dimensions         = [32 32 32]\n",
      "yt : [INFO     ] 2017-06-23 11:46:09,535 Parameters: domain_left_edge          = [ 0.  0.  0.]\n",
      "yt : [INFO     ] 2017-06-23 11:46:09,537 Parameters: domain_right_edge         = [ 1.  1.  1.]\n",
      "yt : [INFO     ] 2017-06-23 11:46:09,539 Parameters: cosmological_simulation   = 1\n",
      "yt : [INFO     ] 2017-06-23 11:46:09,540 Parameters: current_redshift          = 0.11540095982813\n",
      "yt : [INFO     ] 2017-06-23 11:46:09,541 Parameters: omega_lambda              = 0.727\n",
      "yt : [INFO     ] 2017-06-23 11:46:09,542 Parameters: omega_matter              = 0.273\n",
      "yt : [INFO     ] 2017-06-23 11:46:09,544 Parameters: hubble_constant           = 0.702\n"
     ]
    },
    {
     "name": "stdout",
     "output_type": "stream",
     "text": [
      "DD0041\n"
     ]
    },
    {
     "name": "stderr",
     "output_type": "stream",
     "text": [
      "Parsing Hierarchy : 100%|██████████| 194/194 [00:00<00:00, 22482.73it/s]\n",
      "yt : [INFO     ] 2017-06-23 11:46:09,575 Gathering a field list (this may take a moment.)\n",
      "yt : [INFO     ] 2017-06-23 11:46:10,542 Parameters: current_time              = 210.81665115093\n",
      "yt : [INFO     ] 2017-06-23 11:46:10,543 Parameters: domain_dimensions         = [32 32 32]\n",
      "yt : [INFO     ] 2017-06-23 11:46:10,544 Parameters: domain_left_edge          = [ 0.  0.  0.]\n",
      "yt : [INFO     ] 2017-06-23 11:46:10,545 Parameters: domain_right_edge         = [ 1.  1.  1.]\n",
      "yt : [INFO     ] 2017-06-23 11:46:10,547 Parameters: cosmological_simulation   = 1\n",
      "yt : [INFO     ] 2017-06-23 11:46:10,548 Parameters: current_redshift          = 0.090658853148022\n",
      "yt : [INFO     ] 2017-06-23 11:46:10,549 Parameters: omega_lambda              = 0.727\n",
      "yt : [INFO     ] 2017-06-23 11:46:10,551 Parameters: omega_matter              = 0.273\n",
      "yt : [INFO     ] 2017-06-23 11:46:10,552 Parameters: hubble_constant           = 0.702\n"
     ]
    },
    {
     "name": "stdout",
     "output_type": "stream",
     "text": [
      "DD0042\n"
     ]
    },
    {
     "name": "stderr",
     "output_type": "stream",
     "text": [
      "Parsing Hierarchy : 100%|██████████| 188/188 [00:00<00:00, 32230.91it/s]\n",
      "yt : [INFO     ] 2017-06-23 11:46:10,581 Gathering a field list (this may take a moment.)\n",
      "yt : [INFO     ] 2017-06-23 11:46:11,431 Parameters: current_time              = 215.81646618654\n",
      "yt : [INFO     ] 2017-06-23 11:46:11,432 Parameters: domain_dimensions         = [32 32 32]\n",
      "yt : [INFO     ] 2017-06-23 11:46:11,433 Parameters: domain_left_edge          = [ 0.  0.  0.]\n",
      "yt : [INFO     ] 2017-06-23 11:46:11,435 Parameters: domain_right_edge         = [ 1.  1.  1.]\n",
      "yt : [INFO     ] 2017-06-23 11:46:11,437 Parameters: cosmological_simulation   = 1\n",
      "yt : [INFO     ] 2017-06-23 11:46:11,438 Parameters: current_redshift          = 0.066727968584154\n",
      "yt : [INFO     ] 2017-06-23 11:46:11,440 Parameters: omega_lambda              = 0.727\n",
      "yt : [INFO     ] 2017-06-23 11:46:11,441 Parameters: omega_matter              = 0.273\n",
      "yt : [INFO     ] 2017-06-23 11:46:11,443 Parameters: hubble_constant           = 0.702\n"
     ]
    },
    {
     "name": "stdout",
     "output_type": "stream",
     "text": [
      "DD0043\n"
     ]
    },
    {
     "name": "stderr",
     "output_type": "stream",
     "text": [
      "Parsing Hierarchy : 100%|██████████| 196/196 [00:00<00:00, 17451.78it/s]\n",
      "yt : [INFO     ] 2017-06-23 11:46:11,477 Gathering a field list (this may take a moment.)\n",
      "yt : [INFO     ] 2017-06-23 11:46:12,420 Parameters: current_time              = 220.81653568555\n",
      "yt : [INFO     ] 2017-06-23 11:46:12,421 Parameters: domain_dimensions         = [32 32 32]\n",
      "yt : [INFO     ] 2017-06-23 11:46:12,422 Parameters: domain_left_edge          = [ 0.  0.  0.]\n",
      "yt : [INFO     ] 2017-06-23 11:46:12,424 Parameters: domain_right_edge         = [ 1.  1.  1.]\n",
      "yt : [INFO     ] 2017-06-23 11:46:12,425 Parameters: cosmological_simulation   = 1\n",
      "yt : [INFO     ] 2017-06-23 11:46:12,426 Parameters: current_redshift          = 0.043559784343193\n",
      "yt : [INFO     ] 2017-06-23 11:46:12,428 Parameters: omega_lambda              = 0.727\n",
      "yt : [INFO     ] 2017-06-23 11:46:12,430 Parameters: omega_matter              = 0.273\n",
      "yt : [INFO     ] 2017-06-23 11:46:12,431 Parameters: hubble_constant           = 0.702\n"
     ]
    },
    {
     "name": "stdout",
     "output_type": "stream",
     "text": [
      "DD0044\n"
     ]
    },
    {
     "name": "stderr",
     "output_type": "stream",
     "text": [
      "Parsing Hierarchy : 100%|██████████| 201/201 [00:00<00:00, 22333.18it/s]\n",
      "yt : [INFO     ] 2017-06-23 11:46:12,465 Gathering a field list (this may take a moment.)\n",
      "yt : [INFO     ] 2017-06-23 11:46:13,303 Parameters: current_time              = 225.81659302522\n",
      "yt : [INFO     ] 2017-06-23 11:46:13,304 Parameters: domain_dimensions         = [32 32 32]\n",
      "yt : [INFO     ] 2017-06-23 11:46:13,305 Parameters: domain_left_edge          = [ 0.  0.  0.]\n",
      "yt : [INFO     ] 2017-06-23 11:46:13,306 Parameters: domain_right_edge         = [ 1.  1.  1.]\n",
      "yt : [INFO     ] 2017-06-23 11:46:13,308 Parameters: cosmological_simulation   = 1\n",
      "yt : [INFO     ] 2017-06-23 11:46:13,309 Parameters: current_redshift          = 0.021113609082468\n",
      "yt : [INFO     ] 2017-06-23 11:46:13,311 Parameters: omega_lambda              = 0.727\n",
      "yt : [INFO     ] 2017-06-23 11:46:13,312 Parameters: omega_matter              = 0.273\n",
      "yt : [INFO     ] 2017-06-23 11:46:13,313 Parameters: hubble_constant           = 0.702\n"
     ]
    },
    {
     "name": "stdout",
     "output_type": "stream",
     "text": [
      "DD0045\n"
     ]
    },
    {
     "name": "stderr",
     "output_type": "stream",
     "text": [
      "Parsing Hierarchy : 100%|██████████| 214/214 [00:00<00:00, 19798.85it/s]\n",
      "yt : [INFO     ] 2017-06-23 11:46:13,350 Gathering a field list (this may take a moment.)\n",
      "yt : [INFO     ] 2017-06-23 11:46:14,187 Parameters: current_time              = 230.66527489234\n",
      "yt : [INFO     ] 2017-06-23 11:46:14,188 Parameters: domain_dimensions         = [32 32 32]\n",
      "yt : [INFO     ] 2017-06-23 11:46:14,189 Parameters: domain_left_edge          = [ 0.  0.  0.]\n",
      "yt : [INFO     ] 2017-06-23 11:46:14,190 Parameters: domain_right_edge         = [ 1.  1.  1.]\n",
      "yt : [INFO     ] 2017-06-23 11:46:14,192 Parameters: cosmological_simulation   = 1\n",
      "yt : [INFO     ] 2017-06-23 11:46:14,194 Parameters: current_redshift          = -2.7810863612032e-09\n",
      "yt : [INFO     ] 2017-06-23 11:46:14,195 Parameters: omega_lambda              = 0.727\n",
      "yt : [INFO     ] 2017-06-23 11:46:14,197 Parameters: omega_matter              = 0.273\n",
      "yt : [INFO     ] 2017-06-23 11:46:14,198 Parameters: hubble_constant           = 0.702\n"
     ]
    },
    {
     "name": "stdout",
     "output_type": "stream",
     "text": [
      "DD0046\n"
     ]
    },
    {
     "name": "stderr",
     "output_type": "stream",
     "text": [
      "Parsing Hierarchy : 100%|██████████| 211/211 [00:00<00:00, 20753.17it/s]\n",
      "yt : [INFO     ] 2017-06-23 11:46:14,234 Gathering a field list (this may take a moment.)\n"
     ]
    }
   ],
   "source": [
    "rho_ex = []     # Create an array for Rho Extrema (Density Extrema)\n",
    "times = []      # Create an array for time\n",
    "\n",
    "for ds in ts:\n",
    "    print(ds)\n",
    "    dd = ds.all_data()\n",
    "    rho_ex.append(dd.quantities.extrema(\"density\"))     #  Get from \"quantities\" the density extrema.\n",
    "    times.append(ds.current_time.in_units(\"Gyr\"))       #  Get from \"current_time\" the time in Gigayears.\n",
    "    \n",
    "rho_ex = np.array(rho_ex)                               #  I'm not sure what this line does exactly."
   ]
  },
  {
   "cell_type": "code",
   "execution_count": 6,
   "metadata": {},
   "outputs": [
    {
     "data": {
      "image/png": "[encoded data removed]",
      "text/plain": [
       "<matplotlib.figure.Figure at 0x115773a20>"
      ]
     },
     "metadata": {},
     "output_type": "display_data"
    }
   ],
   "source": [
    "# Now, let's plot the extrema.\n",
    "\n",
    "pylab.semilogy(times, rho_ex[:,0], '-xk', label='Minimum')     #  Semilogy plots object parameters\n",
    "pylab.semilogy(times, rho_ex[:,1], '-xr', label='Maximum')     #  along the y-axis using a log scale.\n",
    "pylab.ylabel(\"Density ($g/cm^3$)\")\n",
    "pylab.xlabel(\"Time (Gyr)\")\n",
    "pylab.legend()     # Creates a legend with the labels above.\n",
    "pylab.ylim(1e-32, 1e-21)\n",
    "pylab.show()"
   ]
  },
  {
   "cell_type": "code",
   "execution_count": 8,
   "metadata": {
    "collapsed": true
   },
   "outputs": [],
   "source": [
    "\n",
    "# I will now attempt to create the same plot using Dash"
   ]
  },
  {
   "cell_type": "code",
   "execution_count": null,
   "metadata": {
    "collapsed": true
   },
   "outputs": [],
   "source": [
    "impor"
   ]
  }
 ],
 "metadata": {
  "kernelspec": {
   "display_name": "Python 3",
   "language": "python",
   "name": "python3"
  },
  "language_info": {
   "codemirror_mode": {
    "name": "ipython",
    "version": 3
   },
   "file_extension": ".py",
   "mimetype": "text/x-python",
   "name": "python",
   "nbconvert_exporter": "python",
   "pygments_lexer": "ipython3",
   "version": "3.6.1"
  }
 },
 "nbformat": 4,
 "nbformat_minor": 2
}
