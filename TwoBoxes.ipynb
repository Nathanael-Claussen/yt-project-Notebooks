{
 "cells": [
  {
   "cell_type": "code",
   "execution_count": 1,
   "metadata": {
    "collapsed": true
   },
   "outputs": [],
   "source": [
    "import yt"
   ]
  },
  {
   "cell_type": "code",
   "execution_count": 2,
   "metadata": {},
   "outputs": [
    {
     "name": "stderr",
     "output_type": "stream",
     "text": [
      "yt : [INFO     ] 2017-06-23 14:15:50,235 Parameters: current_time              = 0.0060000200028298\n",
      "yt : [INFO     ] 2017-06-23 14:15:50,237 Parameters: domain_dimensions         = [32 32 32]\n",
      "yt : [INFO     ] 2017-06-23 14:15:50,241 Parameters: domain_left_edge          = [ 0.  0.  0.]\n",
      "yt : [INFO     ] 2017-06-23 14:15:50,244 Parameters: domain_right_edge         = [ 1.  1.  1.]\n",
      "yt : [INFO     ] 2017-06-23 14:15:50,247 Parameters: cosmological_simulation   = 0.0\n"
     ]
    }
   ],
   "source": [
    "# Loading data\n",
    "ds = yt.load(\"IsolatedGalaxy/galaxy0030/galaxy0030\")"
   ]
  },
  {
   "cell_type": "code",
   "execution_count": 3,
   "metadata": {},
   "outputs": [
    {
     "name": "stderr",
     "output_type": "stream",
     "text": [
      "Parsing Hierarchy : 100%|██████████| 173/173 [00:00<00:00, 27407.54it/s]\n",
      "yt : [INFO     ] 2017-06-23 14:15:50,990 Gathering a field list (this may take a moment.)\n"
     ]
    },
    {
     "data": {
      "text/plain": [
       "array([EnzoGrid_0001, EnzoGrid_0002, EnzoGrid_0003, EnzoGrid_0004,\n",
       "       EnzoGrid_0005, EnzoGrid_0006, EnzoGrid_0007, EnzoGrid_0008,\n",
       "       EnzoGrid_0009, EnzoGrid_0010, EnzoGrid_0011, EnzoGrid_0012,\n",
       "       EnzoGrid_0013, EnzoGrid_0014, EnzoGrid_0015, EnzoGrid_0016,\n",
       "       EnzoGrid_0017, EnzoGrid_0018, EnzoGrid_0019, EnzoGrid_0020,\n",
       "       EnzoGrid_0021, EnzoGrid_0022, EnzoGrid_0023, EnzoGrid_0024,\n",
       "       EnzoGrid_0025, EnzoGrid_0026, EnzoGrid_0027, EnzoGrid_0028,\n",
       "       EnzoGrid_0029, EnzoGrid_0030, EnzoGrid_0031, EnzoGrid_0032,\n",
       "       EnzoGrid_0033, EnzoGrid_0034, EnzoGrid_0035, EnzoGrid_0036,\n",
       "       EnzoGrid_0037, EnzoGrid_0038, EnzoGrid_0039, EnzoGrid_0040,\n",
       "       EnzoGrid_0041, EnzoGrid_0042, EnzoGrid_0043, EnzoGrid_0044,\n",
       "       EnzoGrid_0045, EnzoGrid_0046, EnzoGrid_0047, EnzoGrid_0048,\n",
       "       EnzoGrid_0049, EnzoGrid_0050, EnzoGrid_0051, EnzoGrid_0052,\n",
       "       EnzoGrid_0053, EnzoGrid_0054, EnzoGrid_0055, EnzoGrid_0056,\n",
       "       EnzoGrid_0057, EnzoGrid_0058, EnzoGrid_0059, EnzoGrid_0060,\n",
       "       EnzoGrid_0061, EnzoGrid_0062, EnzoGrid_0063, EnzoGrid_0064,\n",
       "       EnzoGrid_0065, EnzoGrid_0066, EnzoGrid_0067, EnzoGrid_0068,\n",
       "       EnzoGrid_0069, EnzoGrid_0070, EnzoGrid_0071, EnzoGrid_0072,\n",
       "       EnzoGrid_0073, EnzoGrid_0074, EnzoGrid_0075, EnzoGrid_0076,\n",
       "       EnzoGrid_0077, EnzoGrid_0078, EnzoGrid_0079, EnzoGrid_0080,\n",
       "       EnzoGrid_0081, EnzoGrid_0082, EnzoGrid_0083, EnzoGrid_0084,\n",
       "       EnzoGrid_0085, EnzoGrid_0086, EnzoGrid_0087, EnzoGrid_0088,\n",
       "       EnzoGrid_0089, EnzoGrid_0090, EnzoGrid_0091, EnzoGrid_0092,\n",
       "       EnzoGrid_0093, EnzoGrid_0094, EnzoGrid_0095, EnzoGrid_0096,\n",
       "       EnzoGrid_0097, EnzoGrid_0098, EnzoGrid_0099, EnzoGrid_0100,\n",
       "       EnzoGrid_0101, EnzoGrid_0102, EnzoGrid_0103, EnzoGrid_0104,\n",
       "       EnzoGrid_0105, EnzoGrid_0106, EnzoGrid_0107, EnzoGrid_0108,\n",
       "       EnzoGrid_0109, EnzoGrid_0110, EnzoGrid_0111, EnzoGrid_0112,\n",
       "       EnzoGrid_0113, EnzoGrid_0114, EnzoGrid_0115, EnzoGrid_0116,\n",
       "       EnzoGrid_0117, EnzoGrid_0118, EnzoGrid_0119, EnzoGrid_0120,\n",
       "       EnzoGrid_0121, EnzoGrid_0122, EnzoGrid_0123, EnzoGrid_0124,\n",
       "       EnzoGrid_0125, EnzoGrid_0126, EnzoGrid_0127, EnzoGrid_0128,\n",
       "       EnzoGrid_0129, EnzoGrid_0130, EnzoGrid_0131, EnzoGrid_0132,\n",
       "       EnzoGrid_0133, EnzoGrid_0134, EnzoGrid_0135, EnzoGrid_0136,\n",
       "       EnzoGrid_0137, EnzoGrid_0138, EnzoGrid_0139, EnzoGrid_0140,\n",
       "       EnzoGrid_0141, EnzoGrid_0142, EnzoGrid_0143, EnzoGrid_0144,\n",
       "       EnzoGrid_0145, EnzoGrid_0146, EnzoGrid_0147, EnzoGrid_0148,\n",
       "       EnzoGrid_0149, EnzoGrid_0150, EnzoGrid_0151, EnzoGrid_0152,\n",
       "       EnzoGrid_0153, EnzoGrid_0154, EnzoGrid_0155, EnzoGrid_0156,\n",
       "       EnzoGrid_0157, EnzoGrid_0158, EnzoGrid_0159, EnzoGrid_0160,\n",
       "       EnzoGrid_0161, EnzoGrid_0162, EnzoGrid_0163, EnzoGrid_0164,\n",
       "       EnzoGrid_0165, EnzoGrid_0166, EnzoGrid_0167, EnzoGrid_0168,\n",
       "       EnzoGrid_0169, EnzoGrid_0170, EnzoGrid_0171, EnzoGrid_0172,\n",
       "       EnzoGrid_0173], dtype=object)"
      ]
     },
     "execution_count": 3,
     "metadata": {},
     "output_type": "execute_result"
    }
   ],
   "source": [
    "# Viewing grid objects\n",
    "# Grid objects are organized by size: largest -> increasingly refined -> smallest.\n",
    "ds.index.grids"
   ]
  },
  {
   "cell_type": "code",
   "execution_count": 4,
   "metadata": {
    "collapsed": true
   },
   "outputs": [],
   "source": [
    "# Selecting a relatively large grid object\n",
    "enzo_box = ds.index.grids[2]\n",
    "box_left_edge = enzo_box.LeftEdge.d\n",
    "box_right_edge = enzo_box.RightEdge.d"
   ]
  },
  {
   "cell_type": "code",
   "execution_count": 8,
   "metadata": {},
   "outputs": [
    {
     "data": {
      "text/plain": [
       "array([ 0.5    ,  0.21875,  0.25   ])"
      ]
     },
     "execution_count": 8,
     "metadata": {},
     "output_type": "execute_result"
    }
   ],
   "source": [
    "# Viewing the left edge coordinates in space\n",
    "box_left_edge"
   ]
  },
  {
   "cell_type": "code",
   "execution_count": 10,
   "metadata": {},
   "outputs": [
    {
     "data": {
      "text/plain": [
       "array([ 0.75,  0.5 ,  0.5 ])"
      ]
     },
     "execution_count": 10,
     "metadata": {},
     "output_type": "execute_result"
    }
   ],
   "source": [
    "# Viewing the right edge coordinates in space\n",
    "box_right_edge"
   ]
  },
  {
   "cell_type": "code",
   "execution_count": 11,
   "metadata": {
    "collapsed": true
   },
   "outputs": [],
   "source": [
    "# Time to visualize!\n",
    "# Importing dependancies...\n",
    "import pythreejs\n",
    "from pythreejs import *\n",
    "import numpy as np\n",
    "from IPython.display import display\n",
    "from ipywidgets import HTML, Text\n",
    "from traitlets import link, dlink"
   ]
  },
  {
   "cell_type": "code",
   "execution_count": 12,
   "metadata": {},
   "outputs": [
    {
     "data": {
      "application/vnd.jupyter.widget-view+json": {
       "model_id": "07a0d3fccd9d4509b7cb761c51f97092"
      }
     },
     "metadata": {},
     "output_type": "display_data"
    }
   ],
   "source": [
    "# Example: lines in space.\n",
    "\n",
    "size = 4\n",
    "\n",
    "linesgeom = PlainGeometry(vertices=[[0, 0, 0],\n",
    "                                    [size, 0, 0],\n",
    "                                    [0, 0, 0],\n",
    "                                    [0, size, 0],\n",
    "                                    [0, 0, 0],\n",
    "                                    [0, 0, size]],\n",
    "                          colors = ['red', 'red', 'green', 'green', 'white', 'orange'])\n",
    "\n",
    "lines = Line(geometry=linesgeom, \n",
    "             material=LineBasicMaterial(linewidth=5, vertexColors='VertexColors'), \n",
    "             type='LinePieces')\n",
    "scene = Scene(children=[lines, DirectionalLight(color='#ccaabb', position=[0,10,0]),AmbientLight(color='#cccccc')])\n",
    "c = PerspectiveCamera(position=[0, 10, 10])\n",
    "renderer = Renderer(camera=c, background='black', background_opacity=1, scene = scene, controls=[OrbitControls(controlling=c)])\n",
    "display(renderer)\n",
    "# This is a pythreejs rendering of lines in three-dimensional space.\n",
    "# _Clickable surface!_"
   ]
  },
  {
   "cell_type": "code",
   "execution_count": 13,
   "metadata": {},
   "outputs": [
    {
     "data": {
      "text/plain": [
       "'0.3.0'"
      ]
     },
     "execution_count": 13,
     "metadata": {},
     "output_type": "execute_result"
    }
   ],
   "source": [
    "# Working version of pythreejs\n",
    "pythreejs.__version__"
   ]
  },
  {
   "cell_type": "code",
   "execution_count": 14,
   "metadata": {},
   "outputs": [
    {
     "data": {
      "application/vnd.jupyter.widget-view+json": {
       "model_id": "957bca48f5c2467c98cf2d05f58cf246"
      }
     },
     "metadata": {},
     "output_type": "display_data"
    }
   ],
   "source": [
    "linesgeom = PlainGeometry(vertices=[[0  , 0 , 0 ],\n",
    "                                    [.5 , 0 , 0 ],\n",
    "                                    [.5 , 0 , .5],\n",
    "                                    [0  , 0 , .5],\n",
    "                                    [0  , .5, 0 ],\n",
    "                                    [.5 , .5, 0 ],\n",
    "                                    [.5 , .5, .5],\n",
    "                                    [0  , .5, .5]],\n",
    "                          colors = ['red', 'white', 'red', 'white', 'white', 'red', \n",
    "                                   'white', 'red'])\n",
    "\n",
    "lines = Line(geometry=linesgeom, \n",
    "             material=LineBasicMaterial(linewidth=5, vertexColors='VertexColors'), \n",
    "             type='LinePieces')\n",
    "\n",
    "scene = Scene(children=[lines, DirectionalLight(color='#ccaabb', position=[0,10,0]),AmbientLight(color='#cccccc')])\n",
    "c = PerspectiveCamera(position=[0, 10, 10])\n",
    "renderer = Renderer(camera=c, background='black', background_opacity=1, scene = scene, controls=[OrbitControls(controlling=c)])\n",
    "display(renderer)"
   ]
  },
  {
   "cell_type": "code",
   "execution_count": 15,
   "metadata": {},
   "outputs": [
    {
     "data": {
      "text/plain": [
       "['AmbientLight',\n",
       " 'AnaglyphEffect',\n",
       " 'BasicMaterial',\n",
       " 'BoxGeometry',\n",
       " 'Camera',\n",
       " 'CircleGeometry',\n",
       " 'Color',\n",
       " 'Controls',\n",
       " 'CylinderGeometry',\n",
       " 'DataTexture',\n",
       " 'DepthMaterial',\n",
       " 'DirectionalLight',\n",
       " 'Effect',\n",
       " 'FaceGeometry',\n",
       " 'FlyControls',\n",
       " 'Geometry',\n",
       " 'HemisphereLight',\n",
       " 'IcosahedronGeometry',\n",
       " 'ImageTexture',\n",
       " 'IntensityLight',\n",
       " 'LambertMaterial',\n",
       " 'LatheGeometry',\n",
       " 'Light',\n",
       " 'Line',\n",
       " 'LineBasicMaterial',\n",
       " 'LineDashedMaterial',\n",
       " 'Material',\n",
       " 'Mesh',\n",
       " 'NormalMaterial',\n",
       " 'Object3d',\n",
       " 'OctahedronGeometry',\n",
       " 'OrbitControls',\n",
       " 'OrthographicCamera',\n",
       " 'ParametricGeometry',\n",
       " 'ParticleSystemMaterial',\n",
       " 'PerspectiveCamera',\n",
       " 'PhongMaterial',\n",
       " 'Picker',\n",
       " 'PlainGeometry',\n",
       " 'PlaneGeometry',\n",
       " 'PlotMesh',\n",
       " 'PointLight',\n",
       " 'PolyhedronGeometry',\n",
       " 'Renderer',\n",
       " 'RingGeometry',\n",
       " 'ScaledObject',\n",
       " 'Scene',\n",
       " 'ShaderMaterial',\n",
       " 'SphereGeometry',\n",
       " 'SpotLight',\n",
       " 'Sprite',\n",
       " 'SpriteMaterial',\n",
       " 'SurfaceGeometry',\n",
       " 'SurfaceGrid',\n",
       " 'TetrahedronGeometry',\n",
       " 'TextTexture',\n",
       " 'Texture',\n",
       " 'TorusGeometry',\n",
       " 'TorusKnotGeometry',\n",
       " 'TrackballControls',\n",
       " 'TubeGeometry',\n",
       " '__all__',\n",
       " '__builtins__',\n",
       " '__cached__',\n",
       " '__doc__',\n",
       " '__file__',\n",
       " '__loader__',\n",
       " '__name__',\n",
       " '__package__',\n",
       " '__path__',\n",
       " '__spec__',\n",
       " '__version__',\n",
       " '_jupyter_labextension_paths',\n",
       " '_jupyter_nbextension_paths',\n",
       " '_package',\n",
       " '_version',\n",
       " 'height_texture',\n",
       " 'lights_color',\n",
       " 'lights_gray',\n",
       " 'make_text',\n",
       " 'npm_pkg_name',\n",
       " 'py_pkg_name',\n",
       " 'pythreejs',\n",
       " 'version_info']"
      ]
     },
     "execution_count": 15,
     "metadata": {},
     "output_type": "execute_result"
    }
   ],
   "source": [
    "dir(pythreejs)"
   ]
  },
  {
   "cell_type": "code",
   "execution_count": 26,
   "metadata": {},
   "outputs": [
    {
     "data": {
      "application/vnd.jupyter.widget-view+json": {
       "model_id": "784f9e06d5984721a4ed134cb581affe"
      }
     },
     "metadata": {},
     "output_type": "display_data"
    }
   ],
   "source": [
    "box1 = BoxGeometry(height=0.5, width=0.5, depth=0.5)\n",
    "box2 = BoxGeometry(height=0.5, width=0.5, depth=0.5)\n",
    "\n",
    "mat_box1 = LambertMaterial(color='red')\n",
    "mat_box2 = LambertMaterial(color='blue')\n",
    "\n",
    "mesh_box1 = Mesh(geometry=box1, material=mat_box1, position=[-0.5, -0.5, 0.5])\n",
    "mesh_box2 = Mesh(geometry=box2, material=mat_box2, position=[0.5, 0.5, -0.5])\n",
    "\n",
    "dl = DirectionalLight(color='#ccaabb', position=[0, 1, 5], intensity=2)\n",
    "al = AmbientLight(color='#cccccc')\n",
    "\n",
    "cam = PerspectiveCamera(position=[2, 2, 2], up=[1, 1, 1], children=[dl])\n",
    "s = Scene(children=[mesh_box1, mesh_box2, al])\n",
    "\n",
    "renderer = Renderer(camera=cam, background='black', background_opacity=1,\n",
    "                    scene=s, controls=[OrbitControls(controlling=cam)])\n",
    "display(renderer)"
   ]
  },
  {
   "cell_type": "code",
   "execution_count": null,
   "metadata": {
    "collapsed": true
   },
   "outputs": [],
   "source": []
  }
 ],
 "metadata": {
  "kernelspec": {
   "display_name": "Python 3",
   "language": "python",
   "name": "python3"
  },
  "language_info": {
   "codemirror_mode": {
    "name": "ipython",
    "version": 3
   },
   "file_extension": ".py",
   "mimetype": "text/x-python",
   "name": "python",
   "nbconvert_exporter": "python",
   "pygments_lexer": "ipython3",
   "version": "3.6.1"
  }
 },
 "nbformat": 4,
 "nbformat_minor": 2
}
