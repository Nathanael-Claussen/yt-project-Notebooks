{
 "cells": [
  {
   "cell_type": "code",
   "execution_count": 17,
   "metadata": {
    "collapsed": true
   },
   "outputs": [],
   "source": [
    "import yt"
   ]
  },
  {
   "cell_type": "code",
   "execution_count": 18,
   "metadata": {},
   "outputs": [
    {
     "name": "stderr",
     "output_type": "stream",
     "text": [
      "yt : [INFO     ] 2017-06-14 11:31:55,842 Parameters: current_time              = 0.0060000200028298\n",
      "yt : [INFO     ] 2017-06-14 11:31:55,844 Parameters: domain_dimensions         = [32 32 32]\n",
      "yt : [INFO     ] 2017-06-14 11:31:55,847 Parameters: domain_left_edge          = [ 0.  0.  0.]\n",
      "yt : [INFO     ] 2017-06-14 11:31:55,849 Parameters: domain_right_edge         = [ 1.  1.  1.]\n",
      "yt : [INFO     ] 2017-06-14 11:31:55,851 Parameters: cosmological_simulation   = 0.0\n"
     ]
    }
   ],
   "source": [
    "ds = yt.load(\"IsolatedGalaxy/galaxy0030/galaxy0030\")"
   ]
  },
  {
   "cell_type": "code",
   "execution_count": 19,
   "metadata": {},
   "outputs": [
    {
     "name": "stderr",
     "output_type": "stream",
     "text": [
      "Parsing Hierarchy : 100%|██████████| 173/173 [00:00<00:00, 22859.04it/s]\n",
      "yt : [INFO     ] 2017-06-14 11:31:56,889 Gathering a field list (this may take a moment.)\n"
     ]
    },
    {
     "data": {
      "text/plain": [
       "array([EnzoGrid_0001, EnzoGrid_0002, EnzoGrid_0003, EnzoGrid_0004,\n",
       "       EnzoGrid_0005, EnzoGrid_0006, EnzoGrid_0007, EnzoGrid_0008,\n",
       "       EnzoGrid_0009, EnzoGrid_0010, EnzoGrid_0011, EnzoGrid_0012,\n",
       "       EnzoGrid_0013, EnzoGrid_0014, EnzoGrid_0015, EnzoGrid_0016,\n",
       "       EnzoGrid_0017, EnzoGrid_0018, EnzoGrid_0019, EnzoGrid_0020,\n",
       "       EnzoGrid_0021, EnzoGrid_0022, EnzoGrid_0023, EnzoGrid_0024,\n",
       "       EnzoGrid_0025, EnzoGrid_0026, EnzoGrid_0027, EnzoGrid_0028,\n",
       "       EnzoGrid_0029, EnzoGrid_0030, EnzoGrid_0031, EnzoGrid_0032,\n",
       "       EnzoGrid_0033, EnzoGrid_0034, EnzoGrid_0035, EnzoGrid_0036,\n",
       "       EnzoGrid_0037, EnzoGrid_0038, EnzoGrid_0039, EnzoGrid_0040,\n",
       "       EnzoGrid_0041, EnzoGrid_0042, EnzoGrid_0043, EnzoGrid_0044,\n",
       "       EnzoGrid_0045, EnzoGrid_0046, EnzoGrid_0047, EnzoGrid_0048,\n",
       "       EnzoGrid_0049, EnzoGrid_0050, EnzoGrid_0051, EnzoGrid_0052,\n",
       "       EnzoGrid_0053, EnzoGrid_0054, EnzoGrid_0055, EnzoGrid_0056,\n",
       "       EnzoGrid_0057, EnzoGrid_0058, EnzoGrid_0059, EnzoGrid_0060,\n",
       "       EnzoGrid_0061, EnzoGrid_0062, EnzoGrid_0063, EnzoGrid_0064,\n",
       "       EnzoGrid_0065, EnzoGrid_0066, EnzoGrid_0067, EnzoGrid_0068,\n",
       "       EnzoGrid_0069, EnzoGrid_0070, EnzoGrid_0071, EnzoGrid_0072,\n",
       "       EnzoGrid_0073, EnzoGrid_0074, EnzoGrid_0075, EnzoGrid_0076,\n",
       "       EnzoGrid_0077, EnzoGrid_0078, EnzoGrid_0079, EnzoGrid_0080,\n",
       "       EnzoGrid_0081, EnzoGrid_0082, EnzoGrid_0083, EnzoGrid_0084,\n",
       "       EnzoGrid_0085, EnzoGrid_0086, EnzoGrid_0087, EnzoGrid_0088,\n",
       "       EnzoGrid_0089, EnzoGrid_0090, EnzoGrid_0091, EnzoGrid_0092,\n",
       "       EnzoGrid_0093, EnzoGrid_0094, EnzoGrid_0095, EnzoGrid_0096,\n",
       "       EnzoGrid_0097, EnzoGrid_0098, EnzoGrid_0099, EnzoGrid_0100,\n",
       "       EnzoGrid_0101, EnzoGrid_0102, EnzoGrid_0103, EnzoGrid_0104,\n",
       "       EnzoGrid_0105, EnzoGrid_0106, EnzoGrid_0107, EnzoGrid_0108,\n",
       "       EnzoGrid_0109, EnzoGrid_0110, EnzoGrid_0111, EnzoGrid_0112,\n",
       "       EnzoGrid_0113, EnzoGrid_0114, EnzoGrid_0115, EnzoGrid_0116,\n",
       "       EnzoGrid_0117, EnzoGrid_0118, EnzoGrid_0119, EnzoGrid_0120,\n",
       "       EnzoGrid_0121, EnzoGrid_0122, EnzoGrid_0123, EnzoGrid_0124,\n",
       "       EnzoGrid_0125, EnzoGrid_0126, EnzoGrid_0127, EnzoGrid_0128,\n",
       "       EnzoGrid_0129, EnzoGrid_0130, EnzoGrid_0131, EnzoGrid_0132,\n",
       "       EnzoGrid_0133, EnzoGrid_0134, EnzoGrid_0135, EnzoGrid_0136,\n",
       "       EnzoGrid_0137, EnzoGrid_0138, EnzoGrid_0139, EnzoGrid_0140,\n",
       "       EnzoGrid_0141, EnzoGrid_0142, EnzoGrid_0143, EnzoGrid_0144,\n",
       "       EnzoGrid_0145, EnzoGrid_0146, EnzoGrid_0147, EnzoGrid_0148,\n",
       "       EnzoGrid_0149, EnzoGrid_0150, EnzoGrid_0151, EnzoGrid_0152,\n",
       "       EnzoGrid_0153, EnzoGrid_0154, EnzoGrid_0155, EnzoGrid_0156,\n",
       "       EnzoGrid_0157, EnzoGrid_0158, EnzoGrid_0159, EnzoGrid_0160,\n",
       "       EnzoGrid_0161, EnzoGrid_0162, EnzoGrid_0163, EnzoGrid_0164,\n",
       "       EnzoGrid_0165, EnzoGrid_0166, EnzoGrid_0167, EnzoGrid_0168,\n",
       "       EnzoGrid_0169, EnzoGrid_0170, EnzoGrid_0171, EnzoGrid_0172,\n",
       "       EnzoGrid_0173], dtype=object)"
      ]
     },
     "execution_count": 19,
     "metadata": {},
     "output_type": "execute_result"
    }
   ],
   "source": [
    "ds.index.grids"
   ]
  },
  {
   "cell_type": "code",
   "execution_count": 21,
   "metadata": {},
   "outputs": [],
   "source": [
    "# to select the last box:\n",
    "# for grid in ds.index.grids:\n",
    "#    box_left_edge = grid.LeftEdge.d\n",
    "#    box_right_edge = grid.RightEdge.d"
   ]
  },
  {
   "cell_type": "code",
   "execution_count": 27,
   "metadata": {},
   "outputs": [],
   "source": [
    "box = ds.index.grids[2] # select a relatively large box for now!\n",
    "box_left_edge = grid.LeftEdge.d\n",
    "box_right_edge = grid.RightEdge.d"
   ]
  },
  {
   "cell_type": "code",
   "execution_count": 28,
   "metadata": {},
   "outputs": [
    {
     "data": {
      "text/plain": [
       "array([ 0.5    ,  0.21875,  0.25   ])"
      ]
     },
     "execution_count": 28,
     "metadata": {},
     "output_type": "execute_result"
    }
   ],
   "source": [
    "box_left_edge"
   ]
  },
  {
   "cell_type": "code",
   "execution_count": 29,
   "metadata": {},
   "outputs": [
    {
     "data": {
      "text/plain": [
       "array([ 0.75,  0.5 ,  0.5 ])"
      ]
     },
     "execution_count": 29,
     "metadata": {},
     "output_type": "execute_result"
    }
   ],
   "source": [
    "box_right_edge"
   ]
  },
  {
   "cell_type": "code",
   "execution_count": 12,
   "metadata": {
    "collapsed": true
   },
   "outputs": [],
   "source": [
    "from pythreejs import *\n",
    "import numpy as np\n",
    "from IPython.display import display\n",
    "from ipywidgets import HTML, Text\n",
    "from traitlets import link, dlink"
   ]
  },
  {
   "cell_type": "code",
   "execution_count": 14,
   "metadata": {},
   "outputs": [
    {
     "data": {
      "application/vnd.jupyter.widget-view+json": {
       "model_id": "f7fa84f58eb34798902349874c9a9594"
      }
     },
     "metadata": {},
     "output_type": "display_data"
    }
   ],
   "source": [
    "size = 4\n",
    "linesgeom = PlainGeometry(vertices=[[0, 0, 0],\n",
    "                                    [size, 0, 0],\n",
    "                                    [0, 0, 0],\n",
    "                                    [0, size, 0],\n",
    "                                    [0, 0, 0],\n",
    "                                    [0, 0, size]],\n",
    "                          colors = ['red', 'red', 'green', 'green', 'white', 'orange'])\n",
    "lines = Line(geometry=linesgeom, \n",
    "             material=LineBasicMaterial(linewidth=5, vertexColors='VertexColors'), \n",
    "             type='LinePieces')\n",
    "scene = Scene(children=[lines, DirectionalLight(color='#ccaabb', position=[0,10,0]),AmbientLight(color='#cccccc')])\n",
    "c = PerspectiveCamera(position=[0, 10, 10])\n",
    "renderer = Renderer(camera=c, background='black', background_opacity=1, scene = scene, controls=[OrbitControls(controlling=c)])\n",
    "display(renderer)\n",
    "# this is an example pythreejs rendering of lines"
   ]
  },
  {
   "cell_type": "code",
   "execution_count": 31,
   "metadata": {},
   "outputs": [
    {
     "data": {
      "text/plain": [
       "'0.3.0'"
      ]
     },
     "execution_count": 31,
     "metadata": {},
     "output_type": "execute_result"
    }
   ],
   "source": [
    "# now we will try the same thing to create a box\n",
    "pythreejs.__version__ # notice that we are using the latest version of pythreejs"
   ]
  },
  {
   "cell_type": "code",
   "execution_count": 32,
   "metadata": {},
   "outputs": [
    {
     "data": {
      "application/vnd.jupyter.widget-view+json": {
       "model_id": "61cb126b29a942a6b34b1597befcdef5"
      }
     },
     "metadata": {},
     "output_type": "display_data"
    }
   ],
   "source": [
    "size = 4\n",
    "linesgeom = PlainGeometry(vertices=[[0, 0, 0],\n",
    "                                    [0.5, 0, 0],\n",
    "                                    [0, 0, 0],\n",
    "                                    [0.5, 0.21875, 0],\n",
    "                                    [0, 0, 0],\n",
    "                                    [0.5, 0.21875, 0.25],\n",
    "                                    [0, 0, 0],\n",
    "                                    [0.75, 0, 0],\n",
    "                                    [0, 0, 0],\n",
    "                                    [0, 0.5, 0],\n",
    "                                    [0, 0, 0],\n",
    "                                    [0, 0, 0.5]],\n",
    "                          colors = ['white']*12)\n",
    "lines = Line(geometry=linesgeom, \n",
    "             material=LineBasicMaterial(linewidth=5, vertexColors='VertexColors'), \n",
    "             type='LinePieces')\n",
    "scene = Scene(children=[lines, DirectionalLight(color='#ccaabb', position=[0,10,0]),AmbientLight(color='#cccccc')])\n",
    "c = PerspectiveCamera(position=[0, 10, 10])\n",
    "renderer = Renderer(camera=c, background='black', background_opacity=1, scene = scene, controls=[OrbitControls(controlling=c)])\n",
    "display(renderer)"
   ]
  },
  {
   "cell_type": "code",
   "execution_count": null,
   "metadata": {
    "collapsed": true
   },
   "outputs": [],
   "source": []
  }
 ],
 "metadata": {
  "kernelspec": {
   "display_name": "Python 3",
   "language": "python",
   "name": "python3"
  },
  "language_info": {
   "codemirror_mode": {
    "name": "ipython",
    "version": 3
   },
   "file_extension": ".py",
   "mimetype": "text/x-python",
   "name": "python",
   "nbconvert_exporter": "python",
   "pygments_lexer": "ipython3",
   "version": "3.6.1"
  }
 },
 "nbformat": 4,
 "nbformat_minor": 2
}
