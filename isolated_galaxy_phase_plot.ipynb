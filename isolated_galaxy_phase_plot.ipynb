{
 "cells": [
  {
   "cell_type": "code",
   "execution_count": 1,
   "metadata": {
    "collapsed": true
   },
   "outputs": [],
   "source": [
    "import yt\n",
    "import dash\n",
    "import dash_core_components as dcc\n",
    "import dash_html_components as html\n",
    "import time"
   ]
  },
  {
   "cell_type": "code",
   "execution_count": 2,
   "metadata": {},
   "outputs": [
    {
     "name": "stderr",
     "output_type": "stream",
     "text": [
      "yt : [INFO     ] 2017-07-08 12:23:34,674 Parameters: current_time              = 0.0060000200028298\n",
      "yt : [INFO     ] 2017-07-08 12:23:34,674 Parameters: domain_dimensions         = [32 32 32]\n",
      "yt : [INFO     ] 2017-07-08 12:23:34,676 Parameters: domain_left_edge          = [ 0.  0.  0.]\n",
      "yt : [INFO     ] 2017-07-08 12:23:34,677 Parameters: domain_right_edge         = [ 1.  1.  1.]\n",
      "yt : [INFO     ] 2017-07-08 12:23:34,679 Parameters: cosmological_simulation   = 0.0\n"
     ]
    }
   ],
   "source": [
    "ds = yt.load(\"IsolatedGalaxy/galaxy0030/galaxy0030\")"
   ]
  },
  {
   "cell_type": "code",
   "execution_count": 3,
   "metadata": {
    "collapsed": true
   },
   "outputs": [],
   "source": [
    "ad = ds.all_data()"
   ]
  },
  {
   "cell_type": "code",
   "execution_count": 4,
   "metadata": {},
   "outputs": [
    {
     "name": "stderr",
     "output_type": "stream",
     "text": [
      "Parsing Hierarchy : 100%|██████████| 173/173 [00:00<00:00, 32186.59it/s]\n",
      "yt : [INFO     ] 2017-07-08 12:23:38,120 Gathering a field list (this may take a moment.)\n",
      "yt : [INFO     ] 2017-07-08 12:23:41,121 Saving plot galaxy0030_2d-Profile_density_temperature_cell_mass.png\n"
     ]
    },
    {
     "data": {
      "text/plain": [
       "['galaxy0030_2d-Profile_density_temperature_cell_mass.png']"
      ]
     },
     "execution_count": 4,
     "metadata": {},
     "output_type": "execute_result"
    }
   ],
   "source": [
    "yt.PhasePlot(ad, \"density\", \"temperature\", \"cell_mass\", weight_field=None).save()"
   ]
  },
  {
   "cell_type": "code",
   "execution_count": 7,
   "metadata": {},
   "outputs": [
    {
     "name": "stdout",
     "output_type": "stream",
     "text": [
      "[  9336.29589844   9353.96386719   9349.01464844 ...,  11824.51855469\n",
      "  11588.16699219  10173.02148438] K\n"
     ]
    }
   ],
   "source": [
    "temp = ad[\"temperature\"]\n",
    "print(temp)"
   ]
  },
  {
   "cell_type": "code",
   "execution_count": 8,
   "metadata": {},
   "outputs": [
    {
     "name": "stdout",
     "output_type": "stream",
     "text": [
      "[  4.92775113e-31   4.94005233e-31   4.93824694e-31 ...,   1.12879234e-25\n",
      "   1.59561490e-25   1.09824903e-24] g/cm**3\n"
     ]
    }
   ],
   "source": [
    "density = ad[\"density\"]\n",
    "print(density)"
   ]
  },
  {
   "cell_type": "code",
   "execution_count": 9,
   "metadata": {},
   "outputs": [
    {
     "name": "stdout",
     "output_type": "stream",
     "text": [
      "[  4.41963696e+38   4.43066975e+38   4.42905051e+38 ...,   6.03437074e+36\n",
      "   8.52994081e+36   5.87109032e+37] g\n"
     ]
    }
   ],
   "source": [
    "cell_mass = ad[\"cell_mass\"]\n",
    "print(cell_mass)"
   ]
  },
  {
   "cell_type": "code",
   "execution_count": 14,
   "metadata": {},
   "outputs": [],
   "source": [
    "#DO NOT RUN\n",
    "app = dash.Dash()\n",
    "app.layout = html.Div(children = [\n",
    "    \n",
    "    html.Div(children=[\n",
    "        html.H2('Isolated Galazy Density',\n",
    "                style={'display':'inline',\n",
    "                       'float':'left',\n",
    "                       'font-size':'2.65em',\n",
    "                       'margin-left':'7px',\n",
    "                       'font-weight':'bolder',\n",
    "                       'font-family':'Product-Sans',\n",
    "                       'color':\"rgba(117, 117, 117, 0.95)\",\n",
    "                       'margin-top':'20px',\n",
    "                       'margin-bottom':'0'\n",
    "                      }\n",
    "               ),\n",
    "        html.Img(src=\"http://yt-project.org/img/yt_logo.svg\",\n",
    "                style={\n",
    "                    'height': '100px',\n",
    "                    'float': 'right'\n",
    "                },\n",
    "        ),\n",
    "    ]),\n",
    "    \n",
    "    dcc.Graph(\n",
    "        id='graph-1',\n",
    "        \n",
    "        figure={\n",
    "            'data':[{'x':ds.current_time.in_units(\"Gyr\"), 'y':density, 'type':'line'},\n",
    "                    {'x':ds.current_time.in_units(\"Gyr\"), 'y':temp, 'type':'line'}]\n",
    "        }\n",
    "    ),\n",
    "    \n",
    "    dcc.Graph(\n",
    "        id='graph-2',\n",
    "        \n",
    "        figure={\n",
    "            'data':{'x':ds.current_time.in_units(\"Gyr\"), 'y':cell_mass, 'type':'line'}\n",
    "        }\n",
    "    )\n",
    "])"
   ]
  },
  {
   "cell_type": "code",
   "execution_count": 15,
   "metadata": {},
   "outputs": [
    {
     "name": "stderr",
     "output_type": "stream",
     "text": [
      " * Running on http://127.0.0.1:8050/ (Press CTRL+C to quit)\n",
      "127.0.0.1 - - [08/Jul/2017 12:30:24] \"GET / HTTP/1.1\" 200 -\n",
      "127.0.0.1 - - [08/Jul/2017 12:31:19] \"GET /_dash-layout HTTP/1.1\" 200 -\n",
      "127.0.0.1 - - [08/Jul/2017 12:31:19] \"GET /_dash-dependencies HTTP/1.1\" 200 -\n",
      "127.0.0.1 - - [08/Jul/2017 12:31:19] \"GET /_dash-routes HTTP/1.1\" 200 -\n"
     ]
    }
   ],
   "source": [
    "#DO NOT RUN\n",
    "if __name__ == '__main__':\n",
    "    app.run_server(debug=False)"
   ]
  },
  {
   "cell_type": "code",
   "execution_count": 2,
   "metadata": {
    "collapsed": true
   },
   "outputs": [],
   "source": [
    "import plotly.plotly as py\n",
    "import plotly.graph_objs as go\n",
    "import numpy as np"
   ]
  },
  {
   "cell_type": "code",
   "execution_count": 1,
   "metadata": {},
   "outputs": [],
   "source": [
    "import dash\n",
    "from dash.dependencies import Input, Output\n",
    "import dash_core_components as dcc\n",
    "import dash_html_components as html"
   ]
  },
  {
   "cell_type": "code",
   "execution_count": null,
   "metadata": {},
   "outputs": [],
   "source": [
    "app = dash.Dash()\n",
    "\n",
    "app.layout = html.Div([\n",
    "    dcc.Input(id='my-id', value='', type=\"text\"),\n",
    "    html.Div(id='my-div')\n",
    "])\n",
    "\n",
    "@app.callback(\n",
    "    Output(component_id='my-div', component_property='children'),\n",
    "    [Input(component_id='my-id', component_property='value')]\n",
    ")\n",
    "def update_output_div(input_value):\n",
    "    return 'You\\'ve entered \"{}\"'.format(input_value)\n",
    "\n",
    "if __name__ == '__main__':\n",
    "    app.run_server(debug=False)\n",
    "    \n",
    "#Running on http://127.0.0.1:8050"
   ]
  },
  {
   "cell_type": "code",
   "execution_count": null,
   "metadata": {
    "collapsed": true
   },
   "outputs": [],
   "source": []
  }
 ],
 "metadata": {
  "kernelspec": {
   "display_name": "Python 3",
   "language": "python",
   "name": "python3"
  },
  "language_info": {
   "codemirror_mode": {
    "name": "ipython",
    "version": 3
   },
   "file_extension": ".py",
   "mimetype": "text/x-python",
   "name": "python",
   "nbconvert_exporter": "python",
   "pygments_lexer": "ipython3",
   "version": "3.6.1"
  }
 },
 "nbformat": 4,
 "nbformat_minor": 2
}
