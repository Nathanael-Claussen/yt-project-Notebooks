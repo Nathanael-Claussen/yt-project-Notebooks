{
 "cells": [
  {
   "cell_type": "code",
   "execution_count": 1,
   "metadata": {
    "collapsed": true
   },
   "outputs": [],
   "source": [
    "import dash"
   ]
  },
  {
   "cell_type": "code",
   "execution_count": 2,
   "metadata": {
    "collapsed": true
   },
   "outputs": [],
   "source": [
    "import dash_core_components as dcc\n",
    "import dash_html_components as html"
   ]
  },
  {
   "cell_type": "code",
   "execution_count": 3,
   "metadata": {
    "collapsed": true
   },
   "outputs": [],
   "source": [
    "app = dash.Dash()"
   ]
  },
  {
   "cell_type": "code",
   "execution_count": 8,
   "metadata": {},
   "outputs": [],
   "source": [
    "# Create the highest level <div> element.\n",
    "# This will hold the entire app.\n",
    "\n",
    "# We'll name this container \"app.layout\"\n",
    "app.layout = html.Div(children = [\n",
    "    # Create a header inside the container.\n",
    "    html.H1(children='Dash App/Widget'),\n",
    "    # Create another <div> that will hold some text.\n",
    "    html.Div(children='''\n",
    "        Below, there is a graph.\n",
    "    '''),\n",
    "    # Create a simple graph with dash_core_components.\n",
    "    dcc.Graph(\n",
    "        # HTML-tag the graph.\n",
    "        id='example-graph',\n",
    "        # Properties of the graph itself.\n",
    "        figure={\n",
    "            'data':[\n",
    "                {'x':[1,2,3], 'y':[4,1,2], 'type':'bar', 'name':'SF'},\n",
    "                {'x':[1,2,3], 'y':[2,4,5], 'type':'bar', 'name':'Montréal'},\n",
    "            ],\n",
    "            'layout':{'title': 'Title of the Graph'}\n",
    "        }\n",
    "    )\n",
    "])"
   ]
  },
  {
   "cell_type": "code",
   "execution_count": null,
   "metadata": {},
   "outputs": [
    {
     "name": "stderr",
     "output_type": "stream",
     "text": [
      "127.0.0.1 - - [22/Jun/2017 19:33:13] \"GET / HTTP/1.1\" 200 -\n",
      "127.0.0.1 - - [22/Jun/2017 19:33:13] \"GET / HTTP/1.1\" 200 -\n",
      "127.0.0.1 - - [22/Jun/2017 19:33:13] \"GET / HTTP/1.1\" 200 -\n",
      "127.0.0.1 - - [22/Jun/2017 19:33:36] \"GET / HTTP/1.1\" 200 -\n",
      "127.0.0.1 - - [22/Jun/2017 19:33:37] \"GET /_dash-layout HTTP/1.1\" 200 -\n",
      "127.0.0.1 - - [22/Jun/2017 19:33:37] \"GET /_dash-dependencies HTTP/1.1\" 200 -\n",
      "127.0.0.1 - - [22/Jun/2017 19:33:37] \"GET /_dash-routes HTTP/1.1\" 200 -\n",
      "127.0.0.1 - - [22/Jun/2017 19:33:37] \"GET /favicon.ico HTTP/1.1\" 200 -\n"
     ]
    }
   ],
   "source": [
    "if __name__ == '__main__':\n",
    "    app.run_server(debug=False)\n",
    "    \n",
    "# App will run on \"http://127.0.0.1:8050\""
   ]
  },
  {
   "cell_type": "code",
   "execution_count": null,
   "metadata": {
    "collapsed": true
   },
   "outputs": [],
   "source": []
  }
 ],
 "metadata": {
  "kernelspec": {
   "display_name": "Python 3",
   "language": "python",
   "name": "python3"
  },
  "language_info": {
   "codemirror_mode": {
    "name": "ipython",
    "version": 3
   },
   "file_extension": ".py",
   "mimetype": "text/x-python",
   "name": "python",
   "nbconvert_exporter": "python",
   "pygments_lexer": "ipython3",
   "version": "3.6.1"
  }
 },
 "nbformat": 4,
 "nbformat_minor": 2
}
