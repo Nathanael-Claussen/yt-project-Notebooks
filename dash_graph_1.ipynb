{
 "cells": [
  {
   "cell_type": "code",
   "execution_count": 1,
   "metadata": {
    "collapsed": true
   },
   "outputs": [],
   "source": [
    "import dash"
   ]
  },
  {
   "cell_type": "code",
   "execution_count": 2,
   "metadata": {
    "collapsed": true
   },
   "outputs": [],
   "source": [
    "import dash_core_components as dcc\n",
    "import dash_html_components as html"
   ]
  },
  {
   "cell_type": "code",
   "execution_count": 3,
   "metadata": {
    "collapsed": true
   },
   "outputs": [],
   "source": [
    "app = dash.Dash()"
   ]
  },
  {
   "cell_type": "code",
   "execution_count": 4,
   "metadata": {
    "collapsed": true
   },
   "outputs": [],
   "source": [
    "# CSS practice ahead\n",
    "colors = {\n",
    "    'background':'#f0f0f0',\n",
    "    'text':'#000000'\n",
    "}"
   ]
  },
  {
   "cell_type": "code",
   "execution_count": 11,
   "metadata": {
    "collapsed": true
   },
   "outputs": [],
   "source": [
    "# Create the highest level <div> element.\n",
    "# This will hold the entire app.\n",
    "app.layout = html.Div(\n",
    "    \n",
    "    # Everything should have style.\n",
    "    style={\n",
    "        'backgroundColor':colors['background']\n",
    "    },\n",
    "    \n",
    "    # Everything will have children.\n",
    "    children = [\n",
    "\n",
    "    # Create a header inside the app.layout <div>.\n",
    "    html.H1(\n",
    "        children='Dash App',\n",
    "        style={\n",
    "            'textAlign':'center',\n",
    "            'color':colors['text']\n",
    "        }\n",
    "    ),\n",
    "    \n",
    "    # Create a <div> inside the app.layout <div>. It will hold some text.\n",
    "    html.Div(\n",
    "        children='sub text',\n",
    "        style={\n",
    "            'textAlign':'center',\n",
    "            'color':colors['text']\n",
    "        }\n",
    "    ),\n",
    "    \n",
    "    html.Br(), #A <br> tag, hopefully.\n",
    "        \n",
    "    # Create the graph with dash_core_components.\n",
    "    dcc.Graph(\n",
    "        # HTML tag the graph.\n",
    "        id='graph-1',\n",
    "        # The properties of the graph itself go inside figure.\n",
    "        figure={\n",
    "            'data':[\n",
    "                {'x':[1,2,3,4,5,6,7,8], \n",
    "                 'y':[730,770,830,840,880,780,900,970], 'type':'bar',\n",
    "                 'name':'Peaches'},\n",
    "                {'x':[1,2,3,4,5,6,7,8], \n",
    "                 'y':[830,890,940,970,1000,860,900,950], 'type':'bar',\n",
    "                 'name':'Apricots'}\n",
    "            ],\n",
    "            'layout':{\n",
    "                'plot_bgcolor': colors['background'],\n",
    "                'plot_bgcolor': colors['background'],\n",
    "                'title':'Title of the Graph',\n",
    "                'font':{\n",
    "                    'color': colors['text']\n",
    "                }\n",
    "            }\n",
    "        }\n",
    "    )\n",
    "])"
   ]
  },
  {
   "cell_type": "code",
   "execution_count": null,
   "metadata": {},
   "outputs": [
    {
     "name": "stderr",
     "output_type": "stream",
     "text": [
      " * Running on http://127.0.0.1:8050/ (Press CTRL+C to quit)\n",
      "127.0.0.1 - - [22/Jun/2017 21:52:38] \"GET / HTTP/1.1\" 200 -\n",
      "127.0.0.1 - - [22/Jun/2017 21:52:38] \"GET /_dash-layout HTTP/1.1\" 200 -\n",
      "127.0.0.1 - - [22/Jun/2017 21:52:38] \"GET /_dash-dependencies HTTP/1.1\" 200 -\n",
      "127.0.0.1 - - [22/Jun/2017 21:52:38] \"GET /_dash-routes HTTP/1.1\" 200 -\n"
     ]
    }
   ],
   "source": [
    "if __name__ == '__main__':\n",
    "    app.run_server(debug=False)\n",
    "    \n",
    "# App will run on \"http://127.0.0.1:8050\""
   ]
  },
  {
   "cell_type": "code",
   "execution_count": null,
   "metadata": {
    "collapsed": true
   },
   "outputs": [],
   "source": []
  }
 ],
 "metadata": {
  "kernelspec": {
   "display_name": "Python 3",
   "language": "python",
   "name": "python3"
  },
  "language_info": {
   "codemirror_mode": {
    "name": "ipython",
    "version": 3
   },
   "file_extension": ".py",
   "mimetype": "text/x-python",
   "name": "python",
   "nbconvert_exporter": "python",
   "pygments_lexer": "ipython3",
   "version": "3.6.1"
  }
 },
 "nbformat": 4,
 "nbformat_minor": 2
}
